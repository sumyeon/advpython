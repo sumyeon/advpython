{
 "cells": [
  {
   "cell_type": "markdown",
   "metadata": {
    "execution": {
     "iopub.execute_input": "2021-09-01T07:17:17.571570Z",
     "iopub.status.busy": "2021-09-01T07:17:17.570576Z",
     "iopub.status.idle": "2021-09-01T07:17:17.585569Z",
     "shell.execute_reply": "2021-09-01T07:17:17.584584Z",
     "shell.execute_reply.started": "2021-09-01T07:17:17.571570Z"
    }
   },
   "source": [
    "<font size=6> <b> Advanced Python : week #7</b> </font>\n",
    "<div class=\"alert alert-block alert-success\">\n",
    "   Advanced Python features <br>\n",
    "    <ol>\n",
    "        <li> Class Basic </li>\n",
    "        <li> type hint </li>\n",
    "        <li> dir, inspect </li>\n",
    "        <li> formatting </li>\n",
    "        <li> debugging </li>\n",
    "    </ol>\n",
    "</div>\n",
    "\n",
    "<p style=\"text-align:right;\"> sumyeon@gmail.com </p>"
   ]
  },
  {
   "cell_type": "markdown",
   "metadata": {},
   "source": [
    "# Class Basic\n",
    "- how to define, declare class\n",
    "- how to do (multiple-)inheritance"
   ]
  },
  {
   "cell_type": "markdown",
   "metadata": {},
   "source": [
    "### class declaration"
   ]
  },
  {
   "cell_type": "code",
   "execution_count": 64,
   "metadata": {
    "execution": {
     "iopub.execute_input": "2021-10-17T11:46:00.794711Z",
     "iopub.status.busy": "2021-10-17T11:46:00.794711Z",
     "iopub.status.idle": "2021-10-17T11:46:00.826697Z",
     "shell.execute_reply": "2021-10-17T11:46:00.825708Z",
     "shell.execute_reply.started": "2021-10-17T11:46:00.794711Z"
    }
   },
   "outputs": [],
   "source": [
    "class Car:\n",
    "    def __init__(self, year, maker, model):\n",
    "        self.year = year\n",
    "        self.make = maker\n",
    "        self.model = model\n",
    "        \n",
    "    def showname(self):\n",
    "        print(\"car\")\n",
    "        \n",
    "    def engine_sound(self, sound='Vvvrrrroooooommmmmmm!'):\n",
    "        print(sound)\n",
    "        \n",
    "    def show_year(self):\n",
    "        return self.year\n",
    "    \n",
    "    "
   ]
  },
  {
   "cell_type": "code",
   "execution_count": 65,
   "metadata": {
    "execution": {
     "iopub.execute_input": "2021-10-17T11:46:01.773077Z",
     "iopub.status.busy": "2021-10-17T11:46:01.772076Z",
     "iopub.status.idle": "2021-10-17T11:46:01.791077Z",
     "shell.execute_reply": "2021-10-17T11:46:01.790075Z",
     "shell.execute_reply.started": "2021-10-17T11:46:01.773077Z"
    }
   },
   "outputs": [
    {
     "name": "stdout",
     "output_type": "stream",
     "text": [
      "Vvvrrrroooooommmmmmm!\n"
     ]
    }
   ],
   "source": [
    "mycar = Car(2012, 'Hyundai', 'Grandeur')\n",
    "mycar.engine_sound()"
   ]
  },
  {
   "cell_type": "markdown",
   "metadata": {},
   "source": [
    "### class inheritance"
   ]
  },
  {
   "cell_type": "code",
   "execution_count": 50,
   "metadata": {
    "execution": {
     "iopub.execute_input": "2021-10-10T07:56:24.389676Z",
     "iopub.status.busy": "2021-10-10T07:56:24.389676Z",
     "iopub.status.idle": "2021-10-10T07:56:24.398663Z",
     "shell.execute_reply": "2021-10-10T07:56:24.397661Z",
     "shell.execute_reply.started": "2021-10-10T07:56:24.389676Z"
    }
   },
   "outputs": [],
   "source": [
    "class ElectricCar(Car):\n",
    "    def __init__(self, year, maker, model):\n",
    "        super().__init__(year,maker,model)\n",
    "        \n",
    "    def engine_sound(self, sound='s'):\n",
    "        super.engine_sound(sound)\n",
    "    "
   ]
  },
  {
   "cell_type": "code",
   "execution_count": 51,
   "metadata": {
    "execution": {
     "iopub.execute_input": "2021-10-10T07:56:24.719139Z",
     "iopub.status.busy": "2021-10-10T07:56:24.719139Z",
     "iopub.status.idle": "2021-10-10T07:56:24.731127Z",
     "shell.execute_reply": "2021-10-10T07:56:24.730138Z",
     "shell.execute_reply.started": "2021-10-10T07:56:24.719139Z"
    }
   },
   "outputs": [],
   "source": [
    "model3 = ElectricCar(2019, 'Tesla','Model 3')"
   ]
  },
  {
   "cell_type": "markdown",
   "metadata": {},
   "source": [
    "### class multiple-inheritance"
   ]
  },
  {
   "cell_type": "code",
   "execution_count": 52,
   "metadata": {
    "execution": {
     "iopub.execute_input": "2021-10-10T07:56:24.894558Z",
     "iopub.status.busy": "2021-10-10T07:56:24.893558Z",
     "iopub.status.idle": "2021-10-10T07:56:24.911570Z",
     "shell.execute_reply": "2021-10-10T07:56:24.910563Z",
     "shell.execute_reply.started": "2021-10-10T07:56:24.894558Z"
    }
   },
   "outputs": [],
   "source": [
    "class PowerOutlet():\n",
    "    def __init__(self, capacity):\n",
    "        self.capacity = capacity\n",
    "        \n",
    "    def showname(self):\n",
    "        print(\"PowerOutlet\")\n",
    "        \n",
    "    def vehicle_to_load():\n",
    "        print(\"supplying stored electric to device\")"
   ]
  },
  {
   "cell_type": "code",
   "execution_count": 68,
   "metadata": {
    "execution": {
     "iopub.execute_input": "2021-10-17T11:54:15.829251Z",
     "iopub.status.busy": "2021-10-17T11:54:15.829251Z",
     "iopub.status.idle": "2021-10-17T11:54:15.903234Z",
     "shell.execute_reply": "2021-10-17T11:54:15.891235Z",
     "shell.execute_reply.started": "2021-10-17T11:54:15.829251Z"
    }
   },
   "outputs": [
    {
     "ename": "NameError",
     "evalue": "name 'ElectricCar' is not defined",
     "output_type": "error",
     "traceback": [
      "\u001b[1;31m---------------------------------------------------------------------------\u001b[0m",
      "\u001b[1;31mNameError\u001b[0m                                 Traceback (most recent call last)",
      "\u001b[1;32m<ipython-input-68-8d4207d441a8>\u001b[0m in \u001b[0;36m<module>\u001b[1;34m\u001b[0m\n\u001b[1;32m----> 1\u001b[1;33m \u001b[1;32mclass\u001b[0m \u001b[0mV2LElectricCar\u001b[0m\u001b[1;33m(\u001b[0m\u001b[0mElectricCar\u001b[0m\u001b[1;33m,\u001b[0m \u001b[0mPowerOutlet\u001b[0m\u001b[1;33m)\u001b[0m\u001b[1;33m:\u001b[0m\u001b[1;33m\u001b[0m\u001b[1;33m\u001b[0m\u001b[0m\n\u001b[0m\u001b[0;32m      2\u001b[0m     \u001b[1;32mdef\u001b[0m \u001b[0m__init__\u001b[0m\u001b[1;33m(\u001b[0m\u001b[0mself\u001b[0m\u001b[1;33m,\u001b[0m  \u001b[0myear\u001b[0m\u001b[1;33m,\u001b[0m \u001b[0mmaker\u001b[0m\u001b[1;33m,\u001b[0m \u001b[0mmodel\u001b[0m\u001b[1;33m,\u001b[0m \u001b[0mcapacity\u001b[0m\u001b[1;33m)\u001b[0m\u001b[1;33m:\u001b[0m\u001b[1;33m\u001b[0m\u001b[1;33m\u001b[0m\u001b[0m\n\u001b[0;32m      3\u001b[0m         \u001b[0mElectricCar\u001b[0m\u001b[1;33m.\u001b[0m\u001b[0m__init__\u001b[0m\u001b[1;33m(\u001b[0m\u001b[0mself\u001b[0m\u001b[1;33m,\u001b[0m \u001b[0myear\u001b[0m\u001b[1;33m,\u001b[0m \u001b[0mmaker\u001b[0m\u001b[1;33m,\u001b[0m \u001b[0mmodel\u001b[0m\u001b[1;33m)\u001b[0m\u001b[1;33m\u001b[0m\u001b[1;33m\u001b[0m\u001b[0m\n\u001b[0;32m      4\u001b[0m         \u001b[0mPowerOutlet\u001b[0m\u001b[1;33m.\u001b[0m\u001b[0m__init__\u001b[0m\u001b[1;33m(\u001b[0m\u001b[0mself\u001b[0m\u001b[1;33m,\u001b[0m \u001b[0mcapacity\u001b[0m\u001b[1;33m)\u001b[0m\u001b[1;33m\u001b[0m\u001b[1;33m\u001b[0m\u001b[0m\n",
      "\u001b[1;31mNameError\u001b[0m: name 'ElectricCar' is not defined"
     ]
    }
   ],
   "source": [
    "class V2LElectricCar(ElectricCar, PowerOutlet):\n",
    "    def __init__(self,  year, maker, model, capacity):\n",
    "        ElectricCar.__init__(self, year, maker, model)\n",
    "        PowerOutlet.__init__(self, capacity)"
   ]
  },
  {
   "cell_type": "code",
   "execution_count": 69,
   "metadata": {
    "execution": {
     "iopub.execute_input": "2021-10-17T11:54:20.660686Z",
     "iopub.status.busy": "2021-10-17T11:54:20.659681Z",
     "iopub.status.idle": "2021-10-17T11:54:20.674693Z",
     "shell.execute_reply": "2021-10-17T11:54:20.673688Z",
     "shell.execute_reply.started": "2021-10-17T11:54:20.660686Z"
    }
   },
   "outputs": [
    {
     "ename": "NameError",
     "evalue": "name 'V2LElectricCar' is not defined",
     "output_type": "error",
     "traceback": [
      "\u001b[1;31m---------------------------------------------------------------------------\u001b[0m",
      "\u001b[1;31mNameError\u001b[0m                                 Traceback (most recent call last)",
      "\u001b[1;32m<ipython-input-69-d859b5e88446>\u001b[0m in \u001b[0;36m<module>\u001b[1;34m\u001b[0m\n\u001b[1;32m----> 1\u001b[1;33m \u001b[0mioniq\u001b[0m \u001b[1;33m=\u001b[0m \u001b[0mV2LElectricCar\u001b[0m\u001b[1;33m(\u001b[0m\u001b[1;36m2020\u001b[0m\u001b[1;33m,\u001b[0m \u001b[1;34m\"Hyundai\"\u001b[0m\u001b[1;33m,\u001b[0m \u001b[1;34m\"Ioniq\"\u001b[0m\u001b[1;33m,\u001b[0m \u001b[1;34m\"4000\"\u001b[0m\u001b[1;33m)\u001b[0m\u001b[1;33m\u001b[0m\u001b[1;33m\u001b[0m\u001b[0m\n\u001b[0m",
      "\u001b[1;31mNameError\u001b[0m: name 'V2LElectricCar' is not defined"
     ]
    }
   ],
   "source": [
    "ioniq = V2LElectricCar(2020, \"Hyundai\", \"Ioniq\", \"4000\")"
   ]
  },
  {
   "cell_type": "code",
   "execution_count": 55,
   "metadata": {
    "execution": {
     "iopub.execute_input": "2021-10-10T07:56:26.038941Z",
     "iopub.status.busy": "2021-10-10T07:56:26.038941Z",
     "iopub.status.idle": "2021-10-10T07:56:26.055930Z",
     "shell.execute_reply": "2021-10-10T07:56:26.054942Z",
     "shell.execute_reply.started": "2021-10-10T07:56:26.038941Z"
    }
   },
   "outputs": [
    {
     "name": "stdout",
     "output_type": "stream",
     "text": [
      "car\n"
     ]
    }
   ],
   "source": [
    "ioniq.showname()"
   ]
  },
  {
   "cell_type": "code",
   "execution_count": 59,
   "metadata": {
    "execution": {
     "iopub.execute_input": "2021-10-10T07:57:36.358120Z",
     "iopub.status.busy": "2021-10-10T07:57:36.357121Z",
     "iopub.status.idle": "2021-10-10T07:57:36.379121Z",
     "shell.execute_reply": "2021-10-10T07:57:36.378120Z",
     "shell.execute_reply.started": "2021-10-10T07:57:36.358120Z"
    }
   },
   "outputs": [
    {
     "data": {
      "text/plain": [
       "__main__.V2LElectronicCar"
      ]
     },
     "execution_count": 59,
     "metadata": {},
     "output_type": "execute_result"
    }
   ],
   "source": [
    "ioniq.__class__"
   ]
  },
  {
   "cell_type": "markdown",
   "metadata": {},
   "source": [
    "# Instantiation Sequence\n"
   ]
  },
  {
   "cell_type": "markdown",
   "metadata": {},
   "source": [
    "<div class=\"alert alert-block alert-info\">   \n",
    "<pre> \n",
    "class Car:\n",
    "    def __init__(self, year, maker, model):\n",
    "        self.year = year\n",
    "        self.maker = maker\n",
    "        self.model = model\n",
    "\n",
    "mycar = Car()\n",
    "</pre>\n",
    "    \n",
    "<br>\n",
    "- when the python interpreter encounters  <b> Car() </b>, the following occurs <br>\n",
    "- The \"__call__()\" method of Car's parent class is called. Since Coo is a normal class, type's __call__() will be invokeded <br>\n",
    "- That \"__call__()\" method in turn will invokes the \"__new__()\" and \"__init__()\"  <br> \n",
    "- NOTE: if __new__(), __init__() are not defined in the class, those of it's ancestor will be invoked\n",
    "</div>"
   ]
  },
  {
   "cell_type": "markdown",
   "metadata": {},
   "source": [
    "### __new__ vs. __init__\n",
    "> __new__ method will create an object <br> \n",
    "> __init__ method will initialize the object <br>"
   ]
  },
  {
   "cell_type": "code",
   "execution_count": 56,
   "metadata": {
    "execution": {
     "iopub.execute_input": "2021-10-10T07:56:34.919759Z",
     "iopub.status.busy": "2021-10-10T07:56:34.919759Z",
     "iopub.status.idle": "2021-10-10T07:56:34.925754Z",
     "shell.execute_reply": "2021-10-10T07:56:34.924755Z",
     "shell.execute_reply.started": "2021-10-10T07:56:34.919759Z"
    }
   },
   "outputs": [],
   "source": [
    "a = Car.__new__(Car)"
   ]
  },
  {
   "cell_type": "code",
   "execution_count": 66,
   "metadata": {
    "execution": {
     "iopub.execute_input": "2021-10-17T11:53:53.410411Z",
     "iopub.status.busy": "2021-10-17T11:53:53.409412Z",
     "iopub.status.idle": "2021-10-17T11:53:53.444421Z",
     "shell.execute_reply": "2021-10-17T11:53:53.434423Z",
     "shell.execute_reply.started": "2021-10-17T11:53:53.410411Z"
    }
   },
   "outputs": [
    {
     "ename": "NameError",
     "evalue": "name 'ElectricCar' is not defined",
     "output_type": "error",
     "traceback": [
      "\u001b[1;31m---------------------------------------------------------------------------\u001b[0m",
      "\u001b[1;31mNameError\u001b[0m                                 Traceback (most recent call last)",
      "\u001b[1;32m<ipython-input-66-12322ff1dd5a>\u001b[0m in \u001b[0;36m<module>\u001b[1;34m\u001b[0m\n\u001b[1;32m----> 1\u001b[1;33m \u001b[0ma\u001b[0m \u001b[1;33m=\u001b[0m \u001b[0mElectricCar\u001b[0m\u001b[1;33m.\u001b[0m\u001b[0m__new__\u001b[0m\u001b[1;33m(\u001b[0m\u001b[0mElectricCar\u001b[0m\u001b[1;33m)\u001b[0m\u001b[1;33m\u001b[0m\u001b[1;33m\u001b[0m\u001b[0m\n\u001b[0m",
      "\u001b[1;31mNameError\u001b[0m: name 'ElectricCar' is not defined"
     ]
    }
   ],
   "source": [
    "a = ElectricCar.__new__(ElectricCar)"
   ]
  },
  {
   "cell_type": "code",
   "execution_count": 67,
   "metadata": {
    "execution": {
     "iopub.execute_input": "2021-10-17T11:54:02.431403Z",
     "iopub.status.busy": "2021-10-17T11:54:02.430407Z",
     "iopub.status.idle": "2021-10-17T11:54:02.458404Z",
     "shell.execute_reply": "2021-10-17T11:54:02.457415Z",
     "shell.execute_reply.started": "2021-10-17T11:54:02.430407Z"
    }
   },
   "outputs": [
    {
     "ename": "NameError",
     "evalue": "name 'V2LElectricCar' is not defined",
     "output_type": "error",
     "traceback": [
      "\u001b[1;31m---------------------------------------------------------------------------\u001b[0m",
      "\u001b[1;31mNameError\u001b[0m                                 Traceback (most recent call last)",
      "\u001b[1;32m<ipython-input-67-db52051af33b>\u001b[0m in \u001b[0;36m<module>\u001b[1;34m\u001b[0m\n\u001b[1;32m----> 1\u001b[1;33m \u001b[0ma\u001b[0m \u001b[1;33m=\u001b[0m \u001b[0mV2LElectricCar\u001b[0m\u001b[1;33m.\u001b[0m\u001b[0m__new__\u001b[0m\u001b[1;33m(\u001b[0m\u001b[0mV2LElectricCar\u001b[0m\u001b[1;33m)\u001b[0m\u001b[1;33m\u001b[0m\u001b[1;33m\u001b[0m\u001b[0m\n\u001b[0m",
      "\u001b[1;31mNameError\u001b[0m: name 'V2LElectricCar' is not defined"
     ]
    }
   ],
   "source": [
    "a = V2LElectricCar.__new__(V2LElectricCar)"
   ]
  },
  {
   "cell_type": "code",
   "execution_count": 63,
   "metadata": {
    "execution": {
     "iopub.execute_input": "2021-10-10T07:59:34.912513Z",
     "iopub.status.busy": "2021-10-10T07:59:34.912513Z",
     "iopub.status.idle": "2021-10-10T07:59:34.929509Z",
     "shell.execute_reply": "2021-10-10T07:59:34.928518Z",
     "shell.execute_reply.started": "2021-10-10T07:59:34.912513Z"
    }
   },
   "outputs": [
    {
     "ename": "AttributeError",
     "evalue": "'V2LElectronicCar' object has no attribute 'year'",
     "output_type": "error",
     "traceback": [
      "\u001b[1;31m---------------------------------------------------------------------------\u001b[0m",
      "\u001b[1;31mAttributeError\u001b[0m                            Traceback (most recent call last)",
      "\u001b[1;32m<ipython-input-63-9a0219bbc4c9>\u001b[0m in \u001b[0;36m<module>\u001b[1;34m\u001b[0m\n\u001b[1;32m----> 1\u001b[1;33m \u001b[0ma\u001b[0m\u001b[1;33m.\u001b[0m\u001b[0myear\u001b[0m\u001b[1;33m\u001b[0m\u001b[1;33m\u001b[0m\u001b[0m\n\u001b[0m",
      "\u001b[1;31mAttributeError\u001b[0m: 'V2LElectronicCar' object has no attribute 'year'"
     ]
    }
   ],
   "source": [
    "a.year"
   ]
  },
  {
   "cell_type": "code",
   "execution_count": 64,
   "metadata": {
    "execution": {
     "iopub.execute_input": "2021-10-10T08:00:16.872972Z",
     "iopub.status.busy": "2021-10-10T08:00:16.872972Z",
     "iopub.status.idle": "2021-10-10T08:00:16.891974Z",
     "shell.execute_reply": "2021-10-10T08:00:16.890981Z",
     "shell.execute_reply.started": "2021-10-10T08:00:16.872972Z"
    }
   },
   "outputs": [],
   "source": [
    "a.__init__(2000, \"maker\", 'model', 0)"
   ]
  },
  {
   "cell_type": "code",
   "execution_count": 65,
   "metadata": {
    "execution": {
     "iopub.execute_input": "2021-10-10T08:00:21.294295Z",
     "iopub.status.busy": "2021-10-10T08:00:21.294295Z",
     "iopub.status.idle": "2021-10-10T08:00:21.314296Z",
     "shell.execute_reply": "2021-10-10T08:00:21.313308Z",
     "shell.execute_reply.started": "2021-10-10T08:00:21.294295Z"
    }
   },
   "outputs": [
    {
     "data": {
      "text/plain": [
       "2000"
      ]
     },
     "execution_count": 65,
     "metadata": {},
     "output_type": "execute_result"
    }
   ],
   "source": [
    "a.year"
   ]
  },
  {
   "cell_type": "markdown",
   "metadata": {},
   "source": [
    "### haking the __new__ method"
   ]
  },
  {
   "cell_type": "code",
   "execution_count": 36,
   "metadata": {
    "execution": {
     "iopub.execute_input": "2021-10-16T13:25:05.962169Z",
     "iopub.status.busy": "2021-10-16T13:25:05.961170Z",
     "iopub.status.idle": "2021-10-16T13:25:06.014155Z",
     "shell.execute_reply": "2021-10-16T13:25:06.012164Z",
     "shell.execute_reply.started": "2021-10-16T13:25:05.962169Z"
    }
   },
   "outputs": [
    {
     "ename": "AttributeError",
     "evalue": "'Foo' object has no attribute 'attr'",
     "output_type": "error",
     "traceback": [
      "\u001b[1;31m---------------------------------------------------------------------------\u001b[0m",
      "\u001b[1;31mAttributeError\u001b[0m                            Traceback (most recent call last)",
      "\u001b[1;32m<ipython-input-36-19e92e43f384>\u001b[0m in \u001b[0;36m<module>\u001b[1;34m\u001b[0m\n\u001b[0;32m      3\u001b[0m \u001b[1;33m\u001b[0m\u001b[0m\n\u001b[0;32m      4\u001b[0m \u001b[0mf\u001b[0m\u001b[1;33m=\u001b[0m \u001b[0mFoo\u001b[0m\u001b[1;33m(\u001b[0m\u001b[1;33m)\u001b[0m\u001b[1;33m\u001b[0m\u001b[1;33m\u001b[0m\u001b[0m\n\u001b[1;32m----> 5\u001b[1;33m \u001b[0mf\u001b[0m\u001b[1;33m.\u001b[0m\u001b[0mattr\u001b[0m\u001b[1;33m\u001b[0m\u001b[1;33m\u001b[0m\u001b[0m\n\u001b[0m",
      "\u001b[1;31mAttributeError\u001b[0m: 'Foo' object has no attribute 'attr'"
     ]
    }
   ],
   "source": [
    "class Car():\n",
    "    pass\n",
    "\n",
    "f= Car()\n",
    "f.attr"
   ]
  },
  {
   "cell_type": "code",
   "execution_count": 37,
   "metadata": {
    "execution": {
     "iopub.execute_input": "2021-10-16T13:25:08.301141Z",
     "iopub.status.busy": "2021-10-16T13:25:08.301141Z",
     "iopub.status.idle": "2021-10-16T13:25:08.322140Z",
     "shell.execute_reply": "2021-10-16T13:25:08.321140Z",
     "shell.execute_reply.started": "2021-10-16T13:25:08.301141Z"
    }
   },
   "outputs": [
    {
     "data": {
      "text/plain": [
       "100"
      ]
     },
     "execution_count": 37,
     "metadata": {},
     "output_type": "execute_result"
    }
   ],
   "source": [
    "def new(cls):\n",
    "    x = object.__new__(cls)\n",
    "    x.attr = 100\n",
    "    return x\n",
    "\n",
    "\n",
    "Car.__new__ = new\n",
    "\n",
    "f = Car()\n",
    "f.attr\n",
    "100\n",
    "\n",
    "g = Car()\n",
    "g.attr\n",
    "100"
   ]
  },
  {
   "cell_type": "markdown",
   "metadata": {},
   "source": [
    "# String Representation of Instances\n",
    "> __repr__ method return the string with which you can re-create the instance <br>\n",
    "> __str__ method converts the instances to a string "
   ]
  },
  {
   "cell_type": "code",
   "execution_count": 78,
   "metadata": {
    "execution": {
     "iopub.execute_input": "2021-10-17T12:00:50.268285Z",
     "iopub.status.busy": "2021-10-17T12:00:50.268285Z",
     "iopub.status.idle": "2021-10-17T12:00:50.281276Z",
     "shell.execute_reply": "2021-10-17T12:00:50.280280Z",
     "shell.execute_reply.started": "2021-10-17T12:00:50.268285Z"
    }
   },
   "outputs": [],
   "source": [
    "class Car:\n",
    "    def __init__(self, year, maker, model):\n",
    "        self.year = year\n",
    "        self.maker = maker\n",
    "        self.model = model\n",
    "        \n",
    "    def __repr__(self):\n",
    "        return 'Car({0.year!r}, {0.maker!r}, {0.model!r})'.format(self)\n",
    "    def __str__(self):\n",
    "        return '({0.year!s}, {0.maker!s}, {0.model!s})'.format(self)"
   ]
  },
  {
   "cell_type": "code",
   "execution_count": 79,
   "metadata": {
    "execution": {
     "iopub.execute_input": "2021-10-17T12:00:50.679407Z",
     "iopub.status.busy": "2021-10-17T12:00:50.679407Z",
     "iopub.status.idle": "2021-10-17T12:00:50.701388Z",
     "shell.execute_reply": "2021-10-17T12:00:50.700405Z",
     "shell.execute_reply.started": "2021-10-17T12:00:50.679407Z"
    }
   },
   "outputs": [],
   "source": [
    "c = Car(2012, 'Hyundai', 'Grandeur')"
   ]
  },
  {
   "cell_type": "code",
   "execution_count": 80,
   "metadata": {
    "execution": {
     "iopub.execute_input": "2021-10-17T12:00:50.903004Z",
     "iopub.status.busy": "2021-10-17T12:00:50.903004Z",
     "iopub.status.idle": "2021-10-17T12:00:50.926987Z",
     "shell.execute_reply": "2021-10-17T12:00:50.925998Z",
     "shell.execute_reply.started": "2021-10-17T12:00:50.903004Z"
    }
   },
   "outputs": [
    {
     "name": "stdout",
     "output_type": "stream",
     "text": [
      "(2012, Hyundai, Grandeur)\n"
     ]
    }
   ],
   "source": [
    "print(c)"
   ]
  },
  {
   "cell_type": "code",
   "execution_count": 81,
   "metadata": {
    "execution": {
     "iopub.execute_input": "2021-10-17T12:00:51.132035Z",
     "iopub.status.busy": "2021-10-17T12:00:51.132035Z",
     "iopub.status.idle": "2021-10-17T12:00:51.152023Z",
     "shell.execute_reply": "2021-10-17T12:00:51.151029Z",
     "shell.execute_reply.started": "2021-10-17T12:00:51.132035Z"
    }
   },
   "outputs": [
    {
     "data": {
      "text/plain": [
       "\"Car(2012, 'Hyundai', 'Grandeur')\""
      ]
     },
     "execution_count": 81,
     "metadata": {},
     "output_type": "execute_result"
    }
   ],
   "source": [
    "repr(c)"
   ]
  },
  {
   "cell_type": "markdown",
   "metadata": {},
   "source": [
    "# Abstract classes\n",
    "- abstract classes are classes that cannot be instantiated\n",
    "- it does not specify the implementation of features, but only specify the method signatures and property types.\n",
    "- every child class must provide its own implementation\n",
    "- it is very useful when desigining complex systems to limit repetition and enforce consistency"
   ]
  },
  {
   "cell_type": "markdown",
   "metadata": {},
   "source": [
    "### ABC (Abstract Base Class) Module"
   ]
  },
  {
   "cell_type": "code",
   "execution_count": 10,
   "metadata": {
    "execution": {
     "iopub.execute_input": "2021-10-16T11:31:45.876343Z",
     "iopub.status.busy": "2021-10-16T11:31:45.875353Z",
     "iopub.status.idle": "2021-10-16T11:31:45.885344Z",
     "shell.execute_reply": "2021-10-16T11:31:45.884341Z",
     "shell.execute_reply.started": "2021-10-16T11:31:45.876343Z"
    }
   },
   "outputs": [],
   "source": [
    "from abc import ABC, abstractmethod\n",
    "\n",
    "class AbstractHuman(ABC):\n",
    "    @abstractmethod \n",
    "    def talk(self, sentence):\n",
    "        raise NotImplementedError()"
   ]
  },
  {
   "cell_type": "code",
   "execution_count": 11,
   "metadata": {
    "execution": {
     "iopub.execute_input": "2021-10-16T11:31:46.241030Z",
     "iopub.status.busy": "2021-10-16T11:31:46.241030Z",
     "iopub.status.idle": "2021-10-16T11:31:46.263033Z",
     "shell.execute_reply": "2021-10-16T11:31:46.261029Z",
     "shell.execute_reply.started": "2021-10-16T11:31:46.241030Z"
    }
   },
   "outputs": [
    {
     "ename": "TypeError",
     "evalue": "Can't instantiate abstract class AbstractHuman with abstract methods talk",
     "output_type": "error",
     "traceback": [
      "\u001b[1;31m---------------------------------------------------------------------------\u001b[0m",
      "\u001b[1;31mTypeError\u001b[0m                                 Traceback (most recent call last)",
      "\u001b[1;32m<ipython-input-11-77c23e6acbf9>\u001b[0m in \u001b[0;36m<module>\u001b[1;34m\u001b[0m\n\u001b[1;32m----> 1\u001b[1;33m \u001b[0mhuman\u001b[0m \u001b[1;33m=\u001b[0m \u001b[0mAbstractHuman\u001b[0m\u001b[1;33m(\u001b[0m\u001b[1;33m)\u001b[0m\u001b[1;33m\u001b[0m\u001b[1;33m\u001b[0m\u001b[0m\n\u001b[0m",
      "\u001b[1;31mTypeError\u001b[0m: Can't instantiate abstract class AbstractHuman with abstract methods talk"
     ]
    }
   ],
   "source": [
    "human = AbstractHuman()"
   ]
  },
  {
   "cell_type": "markdown",
   "metadata": {},
   "source": [
    "### child class of an abstract class"
   ]
  },
  {
   "cell_type": "code",
   "execution_count": 13,
   "metadata": {
    "execution": {
     "iopub.execute_input": "2021-10-16T11:34:08.536774Z",
     "iopub.status.busy": "2021-10-16T11:34:08.535771Z",
     "iopub.status.idle": "2021-10-16T11:34:08.554772Z",
     "shell.execute_reply": "2021-10-16T11:34:08.553780Z",
     "shell.execute_reply.started": "2021-10-16T11:34:08.536774Z"
    }
   },
   "outputs": [],
   "source": [
    "class Man(AbstractHuman):\n",
    "    def talk(self, sentence):\n",
    "        print(sentence)"
   ]
  },
  {
   "cell_type": "code",
   "execution_count": 14,
   "metadata": {
    "execution": {
     "iopub.execute_input": "2021-10-16T11:34:22.186051Z",
     "iopub.status.busy": "2021-10-16T11:34:22.186051Z",
     "iopub.status.idle": "2021-10-16T11:34:22.209050Z",
     "shell.execute_reply": "2021-10-16T11:34:22.207050Z",
     "shell.execute_reply.started": "2021-10-16T11:34:22.186051Z"
    }
   },
   "outputs": [
    {
     "name": "stdout",
     "output_type": "stream",
     "text": [
      "hello\n"
     ]
    }
   ],
   "source": [
    "man = Man()\n",
    "man.talk('hello')"
   ]
  },
  {
   "cell_type": "markdown",
   "metadata": {},
   "source": [
    "### child class of an abstract class must implemnent all abstract methods"
   ]
  },
  {
   "cell_type": "code",
   "execution_count": 84,
   "metadata": {
    "execution": {
     "iopub.execute_input": "2021-10-17T12:06:49.259072Z",
     "iopub.status.busy": "2021-10-17T12:06:49.258080Z",
     "iopub.status.idle": "2021-10-17T12:06:49.272068Z",
     "shell.execute_reply": "2021-10-17T12:06:49.271068Z",
     "shell.execute_reply.started": "2021-10-17T12:06:49.259072Z"
    }
   },
   "outputs": [],
   "source": [
    "class BeingMan(AbstractHuman):\n",
    "    def shout(self, sentence):\n",
    "        print(sentence)"
   ]
  },
  {
   "cell_type": "code",
   "execution_count": 85,
   "metadata": {
    "execution": {
     "iopub.execute_input": "2021-10-17T12:06:49.766565Z",
     "iopub.status.busy": "2021-10-17T12:06:49.765579Z",
     "iopub.status.idle": "2021-10-17T12:06:49.800563Z",
     "shell.execute_reply": "2021-10-17T12:06:49.798570Z",
     "shell.execute_reply.started": "2021-10-17T12:06:49.765579Z"
    }
   },
   "outputs": [
    {
     "ename": "TypeError",
     "evalue": "Can't instantiate abstract class BeingMan with abstract methods talk",
     "output_type": "error",
     "traceback": [
      "\u001b[1;31m---------------------------------------------------------------------------\u001b[0m",
      "\u001b[1;31mTypeError\u001b[0m                                 Traceback (most recent call last)",
      "\u001b[1;32m<ipython-input-85-2d5ce36fca29>\u001b[0m in \u001b[0;36m<module>\u001b[1;34m\u001b[0m\n\u001b[1;32m----> 1\u001b[1;33m \u001b[0mnotman\u001b[0m \u001b[1;33m=\u001b[0m \u001b[0mBeingMan\u001b[0m\u001b[1;33m(\u001b[0m\u001b[1;33m)\u001b[0m\u001b[1;33m\u001b[0m\u001b[1;33m\u001b[0m\u001b[0m\n\u001b[0m",
      "\u001b[1;31mTypeError\u001b[0m: Can't instantiate abstract class BeingMan with abstract methods talk"
     ]
    }
   ],
   "source": [
    "notman = BeingMan()"
   ]
  },
  {
   "cell_type": "markdown",
   "metadata": {},
   "source": [
    "# Metaclasses\n",
    "- classes can be think as blueprints for object creation.\n",
    "- but, in Python, classes themselves are also \"objects\" => can be instantiated from some classes\n",
    "- the class for class object creation is metaclass, and by default it is 'type'"
   ]
  },
  {
   "cell_type": "code",
   "execution_count": 15,
   "metadata": {
    "execution": {
     "iopub.execute_input": "2021-10-16T11:52:01.173378Z",
     "iopub.status.busy": "2021-10-16T11:52:01.173378Z",
     "iopub.status.idle": "2021-10-16T11:52:01.193380Z",
     "shell.execute_reply": "2021-10-16T11:52:01.191380Z",
     "shell.execute_reply.started": "2021-10-16T11:52:01.173378Z"
    }
   },
   "outputs": [],
   "source": [
    "class MyMetaClass(type):\n",
    "    pass\n",
    "\n",
    "class SomeClass(metaclass=MyMetaClass):\n",
    "    pass"
   ]
  },
  {
   "cell_type": "markdown",
   "metadata": {},
   "source": [
    "<img src=\"http://net-informations.com/python/iq/img/metaclass.png\"/>"
   ]
  },
  {
   "cell_type": "markdown",
   "metadata": {},
   "source": [
    "- you can control the class declaration (via instatiation of object of class itself)"
   ]
  },
  {
   "cell_type": "code",
   "execution_count": 48,
   "metadata": {
    "execution": {
     "iopub.execute_input": "2021-10-16T13:37:13.330088Z",
     "iopub.status.busy": "2021-10-16T13:37:13.330088Z",
     "iopub.status.idle": "2021-10-16T13:37:13.360086Z",
     "shell.execute_reply": "2021-10-16T13:37:13.358090Z",
     "shell.execute_reply.started": "2021-10-16T13:37:13.330088Z"
    }
   },
   "outputs": [
    {
     "ename": "Exception",
     "evalue": "'name' is not in attribute dictionary",
     "output_type": "error",
     "traceback": [
      "\u001b[1;31m---------------------------------------------------------------------------\u001b[0m",
      "\u001b[1;31mException\u001b[0m                                 Traceback (most recent call last)",
      "\u001b[1;32m<ipython-input-48-553047c1ea47>\u001b[0m in \u001b[0;36m<module>\u001b[1;34m\u001b[0m\n\u001b[0;32m      6\u001b[0m         \u001b[1;32mreturn\u001b[0m \u001b[0mx\u001b[0m\u001b[1;33m\u001b[0m\u001b[1;33m\u001b[0m\u001b[0m\n\u001b[0;32m      7\u001b[0m \u001b[1;33m\u001b[0m\u001b[0m\n\u001b[1;32m----> 8\u001b[1;33m \u001b[1;32mclass\u001b[0m \u001b[0mAClass\u001b[0m\u001b[1;33m(\u001b[0m\u001b[0mmetaclass\u001b[0m\u001b[1;33m=\u001b[0m\u001b[0mCheckNameInClassMeta\u001b[0m\u001b[1;33m)\u001b[0m\u001b[1;33m:\u001b[0m\u001b[1;33m\u001b[0m\u001b[1;33m\u001b[0m\u001b[0m\n\u001b[0m\u001b[0;32m      9\u001b[0m     \u001b[1;32mpass\u001b[0m\u001b[1;33m\u001b[0m\u001b[1;33m\u001b[0m\u001b[0m\n",
      "\u001b[1;32m<ipython-input-48-553047c1ea47>\u001b[0m in \u001b[0;36m__new__\u001b[1;34m(cls, clsname, bases, dct)\u001b[0m\n\u001b[0;32m      2\u001b[0m     \u001b[1;32mdef\u001b[0m \u001b[0m__new__\u001b[0m\u001b[1;33m(\u001b[0m\u001b[0mcls\u001b[0m\u001b[1;33m,\u001b[0m \u001b[0mclsname\u001b[0m\u001b[1;33m,\u001b[0m \u001b[0mbases\u001b[0m\u001b[1;33m,\u001b[0m \u001b[0mdct\u001b[0m\u001b[1;33m)\u001b[0m\u001b[1;33m:\u001b[0m\u001b[1;33m\u001b[0m\u001b[1;33m\u001b[0m\u001b[0m\n\u001b[0;32m      3\u001b[0m         \u001b[1;32mif\u001b[0m \u001b[1;34m'name'\u001b[0m \u001b[1;32mnot\u001b[0m \u001b[1;32min\u001b[0m \u001b[0mdct\u001b[0m\u001b[1;33m.\u001b[0m\u001b[0mkeys\u001b[0m\u001b[1;33m(\u001b[0m\u001b[1;33m)\u001b[0m\u001b[1;33m:\u001b[0m\u001b[1;33m\u001b[0m\u001b[1;33m\u001b[0m\u001b[0m\n\u001b[1;32m----> 4\u001b[1;33m             \u001b[1;32mraise\u001b[0m \u001b[0mException\u001b[0m\u001b[1;33m(\u001b[0m\u001b[1;34m\"'name' is not in attribute dictionary\"\u001b[0m\u001b[1;33m)\u001b[0m\u001b[1;33m\u001b[0m\u001b[1;33m\u001b[0m\u001b[0m\n\u001b[0m\u001b[0;32m      5\u001b[0m         \u001b[0mx\u001b[0m \u001b[1;33m=\u001b[0m \u001b[0msuper\u001b[0m\u001b[1;33m(\u001b[0m\u001b[1;33m)\u001b[0m\u001b[1;33m.\u001b[0m\u001b[0m__new__\u001b[0m\u001b[1;33m(\u001b[0m\u001b[0mcls\u001b[0m\u001b[1;33m,\u001b[0m \u001b[0mclsname\u001b[0m\u001b[1;33m,\u001b[0m \u001b[0mbases\u001b[0m\u001b[1;33m,\u001b[0m \u001b[0mdct\u001b[0m\u001b[1;33m)\u001b[0m   \u001b[1;31m# type(clsname, basees, dct)\u001b[0m\u001b[1;33m\u001b[0m\u001b[1;33m\u001b[0m\u001b[0m\n\u001b[0;32m      6\u001b[0m         \u001b[1;32mreturn\u001b[0m \u001b[0mx\u001b[0m\u001b[1;33m\u001b[0m\u001b[1;33m\u001b[0m\u001b[0m\n",
      "\u001b[1;31mException\u001b[0m: 'name' is not in attribute dictionary"
     ]
    }
   ],
   "source": [
    "class CheckNameInClassMeta(type):\n",
    "    def __new__(cls, clsname, bases, dct):\n",
    "        if 'name' not in dct.keys():\n",
    "            raise Exception(\"'name' is not in attribute dictionary\")\n",
    "        x = super().__new__(cls, clsname, bases, dct)   # type(clsname, basees, dct)\n",
    "        return x\n",
    "\n",
    "class AClass(metaclass=CheckNameInClassMeta):\n",
    "    pass"
   ]
  },
  {
   "cell_type": "code",
   "execution_count": 49,
   "metadata": {
    "execution": {
     "iopub.execute_input": "2021-10-16T13:37:16.172140Z",
     "iopub.status.busy": "2021-10-16T13:37:16.171123Z",
     "iopub.status.idle": "2021-10-16T13:37:16.180125Z",
     "shell.execute_reply": "2021-10-16T13:37:16.179135Z",
     "shell.execute_reply.started": "2021-10-16T13:37:16.172140Z"
    }
   },
   "outputs": [],
   "source": [
    "class AValidClass(metaclass=CheckNameInClassMeta):\n",
    "    name = 'exist'"
   ]
  },
  {
   "cell_type": "markdown",
   "metadata": {},
   "source": [
    "<div class=\"alert alert-block alert-warning\">\n",
    "    we can make rules or limits on class defintion using MetaClass!!\n",
    "</div>"
   ]
  },
  {
   "cell_type": "markdown",
   "metadata": {},
   "source": [
    "### put a new attribute \"attr\" and value \"100\" for every class "
   ]
  },
  {
   "cell_type": "code",
   "execution_count": 57,
   "metadata": {
    "execution": {
     "iopub.execute_input": "2021-10-16T13:41:00.618998Z",
     "iopub.status.busy": "2021-10-16T13:41:00.618016Z",
     "iopub.status.idle": "2021-10-16T13:41:00.632998Z",
     "shell.execute_reply": "2021-10-16T13:41:00.632004Z",
     "shell.execute_reply.started": "2021-10-16T13:41:00.618998Z"
    }
   },
   "outputs": [],
   "source": [
    "class MyMeta(type):\n",
    "    def __new__(cls, clsname, bases, dct):\n",
    "        x = super().__new__(cls, clsname, bases, dct)\n",
    "        x.attr = 100\n",
    "        return x"
   ]
  },
  {
   "cell_type": "code",
   "execution_count": 58,
   "metadata": {
    "execution": {
     "iopub.execute_input": "2021-10-16T13:41:00.800210Z",
     "iopub.status.busy": "2021-10-16T13:41:00.800210Z",
     "iopub.status.idle": "2021-10-16T13:41:00.814207Z",
     "shell.execute_reply": "2021-10-16T13:41:00.812203Z",
     "shell.execute_reply.started": "2021-10-16T13:41:00.800210Z"
    }
   },
   "outputs": [],
   "source": [
    "class Foo(metaclass=MyMeta):\n",
    "    pass"
   ]
  },
  {
   "cell_type": "code",
   "execution_count": 59,
   "metadata": {
    "execution": {
     "iopub.execute_input": "2021-10-16T13:41:00.980517Z",
     "iopub.status.busy": "2021-10-16T13:41:00.979516Z",
     "iopub.status.idle": "2021-10-16T13:41:00.993521Z",
     "shell.execute_reply": "2021-10-16T13:41:00.992515Z",
     "shell.execute_reply.started": "2021-10-16T13:41:00.980517Z"
    }
   },
   "outputs": [
    {
     "data": {
      "text/plain": [
       "100"
      ]
     },
     "execution_count": 59,
     "metadata": {},
     "output_type": "execute_result"
    }
   ],
   "source": [
    "foo = Foo()\n",
    "foo.attr"
   ]
  },
  {
   "cell_type": "code",
   "execution_count": 61,
   "metadata": {
    "execution": {
     "iopub.execute_input": "2021-10-16T13:41:11.684895Z",
     "iopub.status.busy": "2021-10-16T13:41:11.683886Z",
     "iopub.status.idle": "2021-10-16T13:41:11.693898Z",
     "shell.execute_reply": "2021-10-16T13:41:11.692892Z",
     "shell.execute_reply.started": "2021-10-16T13:41:11.684895Z"
    }
   },
   "outputs": [],
   "source": [
    "class Foo(metaclass=type):\n",
    "    pass"
   ]
  },
  {
   "cell_type": "code",
   "execution_count": 62,
   "metadata": {
    "execution": {
     "iopub.execute_input": "2021-10-16T13:41:11.881095Z",
     "iopub.status.busy": "2021-10-16T13:41:11.881095Z",
     "iopub.status.idle": "2021-10-16T13:41:11.906095Z",
     "shell.execute_reply": "2021-10-16T13:41:11.904103Z",
     "shell.execute_reply.started": "2021-10-16T13:41:11.881095Z"
    }
   },
   "outputs": [
    {
     "ename": "AttributeError",
     "evalue": "'Foo' object has no attribute 'attr'",
     "output_type": "error",
     "traceback": [
      "\u001b[1;31m---------------------------------------------------------------------------\u001b[0m",
      "\u001b[1;31mAttributeError\u001b[0m                            Traceback (most recent call last)",
      "\u001b[1;32m<ipython-input-62-9b5a870046da>\u001b[0m in \u001b[0;36m<module>\u001b[1;34m\u001b[0m\n\u001b[0;32m      1\u001b[0m \u001b[0mfoo\u001b[0m \u001b[1;33m=\u001b[0m \u001b[0mFoo\u001b[0m\u001b[1;33m(\u001b[0m\u001b[1;33m)\u001b[0m\u001b[1;33m\u001b[0m\u001b[1;33m\u001b[0m\u001b[0m\n\u001b[1;32m----> 2\u001b[1;33m \u001b[0mfoo\u001b[0m\u001b[1;33m.\u001b[0m\u001b[0mattr\u001b[0m\u001b[1;33m\u001b[0m\u001b[1;33m\u001b[0m\u001b[0m\n\u001b[0m",
      "\u001b[1;31mAttributeError\u001b[0m: 'Foo' object has no attribute 'attr'"
     ]
    }
   ],
   "source": [
    "foo = Foo()\n",
    "foo.attr"
   ]
  },
  {
   "cell_type": "markdown",
   "metadata": {},
   "source": [
    "# Type\n",
    "- type(object) return the type of the object\n",
    "- type(<name>,<bases>,<dict>) creates a new instance of the type metaclass\n",
    "> <name> specifies the class name. this will become the __name__ attribute of the class\n",
    "> <bases> specifies a tupe of the base classes from which the class inherits. this will become the __bases__ attribute of the class\n",
    "> <dct> specifies a namespace dictionary containing definitions for the class body. this will become the __dict__ attribute of the class"
   ]
  },
  {
   "cell_type": "code",
   "execution_count": 25,
   "metadata": {
    "execution": {
     "iopub.execute_input": "2021-10-16T12:19:23.421416Z",
     "iopub.status.busy": "2021-10-16T12:19:23.421416Z",
     "iopub.status.idle": "2021-10-16T12:19:23.433418Z",
     "shell.execute_reply": "2021-10-16T12:19:23.431412Z",
     "shell.execute_reply.started": "2021-10-16T12:19:23.421416Z"
    }
   },
   "outputs": [],
   "source": [
    "class Foo:\n",
    "    pass"
   ]
  },
  {
   "cell_type": "code",
   "execution_count": 23,
   "metadata": {
    "execution": {
     "iopub.execute_input": "2021-10-16T12:16:39.921076Z",
     "iopub.status.busy": "2021-10-16T12:16:39.920076Z",
     "iopub.status.idle": "2021-10-16T12:16:39.931078Z",
     "shell.execute_reply": "2021-10-16T12:16:39.930078Z",
     "shell.execute_reply.started": "2021-10-16T12:16:39.921076Z"
    }
   },
   "outputs": [
    {
     "data": {
      "text/plain": [
       "type"
      ]
     },
     "execution_count": 23,
     "metadata": {},
     "output_type": "execute_result"
    }
   ],
   "source": [
    "type(Foo)"
   ]
  },
  {
   "cell_type": "code",
   "execution_count": 24,
   "metadata": {
    "execution": {
     "iopub.execute_input": "2021-10-16T12:16:46.379814Z",
     "iopub.status.busy": "2021-10-16T12:16:46.378815Z",
     "iopub.status.idle": "2021-10-16T12:16:46.389815Z",
     "shell.execute_reply": "2021-10-16T12:16:46.388816Z",
     "shell.execute_reply.started": "2021-10-16T12:16:46.379814Z"
    }
   },
   "outputs": [
    {
     "data": {
      "text/plain": [
       "__main__.Foo"
      ]
     },
     "execution_count": 24,
     "metadata": {},
     "output_type": "execute_result"
    }
   ],
   "source": [
    "type(Foo())"
   ]
  },
  {
   "cell_type": "markdown",
   "metadata": {},
   "source": [
    "<hr>"
   ]
  },
  {
   "cell_type": "markdown",
   "metadata": {},
   "source": [
    "### Example 1"
   ]
  },
  {
   "cell_type": "code",
   "execution_count": 26,
   "metadata": {
    "execution": {
     "iopub.execute_input": "2021-10-16T12:23:12.949723Z",
     "iopub.status.busy": "2021-10-16T12:23:12.949723Z",
     "iopub.status.idle": "2021-10-16T12:23:12.962723Z",
     "shell.execute_reply": "2021-10-16T12:23:12.961723Z",
     "shell.execute_reply.started": "2021-10-16T12:23:12.949723Z"
    }
   },
   "outputs": [
    {
     "data": {
      "text/plain": [
       "<__main__.Foo at 0x1c1886a4bc8>"
      ]
     },
     "execution_count": 26,
     "metadata": {},
     "output_type": "execute_result"
    }
   ],
   "source": [
    "Foo = type('Foo', (), {})\n",
    "\n",
    "x = Foo()\n",
    "x"
   ]
  },
  {
   "cell_type": "code",
   "execution_count": 27,
   "metadata": {
    "execution": {
     "iopub.execute_input": "2021-10-16T12:23:31.646367Z",
     "iopub.status.busy": "2021-10-16T12:23:31.646367Z",
     "iopub.status.idle": "2021-10-16T12:23:31.667367Z",
     "shell.execute_reply": "2021-10-16T12:23:31.666371Z",
     "shell.execute_reply.started": "2021-10-16T12:23:31.646367Z"
    }
   },
   "outputs": [
    {
     "data": {
      "text/plain": [
       "<__main__.Foo at 0x1c188694c08>"
      ]
     },
     "execution_count": 27,
     "metadata": {},
     "output_type": "execute_result"
    }
   ],
   "source": [
    "class Foo:\n",
    "    pass\n",
    "\n",
    "x = Foo()\n",
    "x"
   ]
  },
  {
   "cell_type": "markdown",
   "metadata": {},
   "source": [
    "### Example 2"
   ]
  },
  {
   "cell_type": "code",
   "execution_count": 29,
   "metadata": {
    "execution": {
     "iopub.execute_input": "2021-10-16T12:24:39.457162Z",
     "iopub.status.busy": "2021-10-16T12:24:39.457162Z",
     "iopub.status.idle": "2021-10-16T12:24:39.476162Z",
     "shell.execute_reply": "2021-10-16T12:24:39.475162Z",
     "shell.execute_reply.started": "2021-10-16T12:24:39.457162Z"
    }
   },
   "outputs": [
    {
     "data": {
      "text/plain": [
       "100"
      ]
     },
     "execution_count": 29,
     "metadata": {},
     "output_type": "execute_result"
    }
   ],
   "source": [
    "Bar = type('Bar', (Foo,), dict(attr=100))\n",
    "\n",
    "x = Bar()\n",
    "x.attr"
   ]
  },
  {
   "cell_type": "code",
   "execution_count": 30,
   "metadata": {
    "execution": {
     "iopub.execute_input": "2021-10-16T12:24:54.037930Z",
     "iopub.status.busy": "2021-10-16T12:24:54.037930Z",
     "iopub.status.idle": "2021-10-16T12:24:54.050932Z",
     "shell.execute_reply": "2021-10-16T12:24:54.049938Z",
     "shell.execute_reply.started": "2021-10-16T12:24:54.037930Z"
    }
   },
   "outputs": [
    {
     "data": {
      "text/plain": [
       "(__main__.Bar, (__main__.Foo,))"
      ]
     },
     "execution_count": 30,
     "metadata": {},
     "output_type": "execute_result"
    }
   ],
   "source": [
    "x.__class__, x.__class__.__bases__"
   ]
  },
  {
   "cell_type": "code",
   "execution_count": 32,
   "metadata": {
    "execution": {
     "iopub.execute_input": "2021-10-16T12:25:30.800467Z",
     "iopub.status.busy": "2021-10-16T12:25:30.799467Z",
     "iopub.status.idle": "2021-10-16T12:25:30.807468Z",
     "shell.execute_reply": "2021-10-16T12:25:30.806467Z",
     "shell.execute_reply.started": "2021-10-16T12:25:30.800467Z"
    }
   },
   "outputs": [],
   "source": [
    "class Bar(Foo):\n",
    "    attr = 100"
   ]
  },
  {
   "cell_type": "markdown",
   "metadata": {},
   "source": [
    "### Example 3"
   ]
  },
  {
   "cell_type": "code",
   "execution_count": 33,
   "metadata": {
    "execution": {
     "iopub.execute_input": "2021-10-16T12:26:33.976666Z",
     "iopub.status.busy": "2021-10-16T12:26:33.976666Z",
     "iopub.status.idle": "2021-10-16T12:26:33.994654Z",
     "shell.execute_reply": "2021-10-16T12:26:33.993650Z",
     "shell.execute_reply.started": "2021-10-16T12:26:33.976666Z"
    }
   },
   "outputs": [
    {
     "data": {
      "text/plain": [
       "(100, 100)"
      ]
     },
     "execution_count": 33,
     "metadata": {},
     "output_type": "execute_result"
    }
   ],
   "source": [
    "Foo = type('Foo', (), {'attr':100, 'attr_val': lambda x : x.attr})\n",
    "\n",
    "x = Foo()\n",
    "x.attr, x.attr_val()"
   ]
  },
  {
   "cell_type": "code",
   "execution_count": 34,
   "metadata": {
    "execution": {
     "iopub.execute_input": "2021-10-16T12:27:01.283020Z",
     "iopub.status.busy": "2021-10-16T12:27:01.283020Z",
     "iopub.status.idle": "2021-10-16T12:27:01.298019Z",
     "shell.execute_reply": "2021-10-16T12:27:01.297022Z",
     "shell.execute_reply.started": "2021-10-16T12:27:01.283020Z"
    }
   },
   "outputs": [],
   "source": [
    "class Foo:\n",
    "    attr = 100\n",
    "    def attr_val(self):\n",
    "        return self.attr"
   ]
  },
  {
   "cell_type": "markdown",
   "metadata": {},
   "source": [
    "# Saving Memory for Large Number of Instances"
   ]
  },
  {
   "cell_type": "code",
   "execution_count": 82,
   "metadata": {
    "execution": {
     "iopub.execute_input": "2021-10-13T13:42:18.902580Z",
     "iopub.status.busy": "2021-10-13T13:42:18.901579Z",
     "iopub.status.idle": "2021-10-13T13:42:18.920580Z",
     "shell.execute_reply": "2021-10-13T13:42:18.918578Z",
     "shell.execute_reply.started": "2021-10-13T13:42:18.902580Z"
    }
   },
   "outputs": [],
   "source": [
    "import datetime\n",
    "class NormalClass:\n",
    "    def __init__(self, year, month, day):\n",
    "        self.date = datetime.datetime(year, month, day)\n"
   ]
  },
  {
   "cell_type": "code",
   "execution_count": 83,
   "metadata": {
    "execution": {
     "iopub.execute_input": "2021-10-13T13:42:19.990957Z",
     "iopub.status.busy": "2021-10-13T13:42:19.989957Z",
     "iopub.status.idle": "2021-10-13T13:42:20.005958Z",
     "shell.execute_reply": "2021-10-13T13:42:20.003957Z",
     "shell.execute_reply.started": "2021-10-13T13:42:19.990957Z"
    }
   },
   "outputs": [],
   "source": [
    "nc = NormalClass(2021,10,20)"
   ]
  },
  {
   "cell_type": "code",
   "execution_count": 84,
   "metadata": {
    "execution": {
     "iopub.execute_input": "2021-10-13T13:42:21.152212Z",
     "iopub.status.busy": "2021-10-13T13:42:21.152212Z",
     "iopub.status.idle": "2021-10-13T13:42:21.167220Z",
     "shell.execute_reply": "2021-10-13T13:42:21.166219Z",
     "shell.execute_reply.started": "2021-10-13T13:42:21.152212Z"
    }
   },
   "outputs": [
    {
     "data": {
      "text/plain": [
       "56"
      ]
     },
     "execution_count": 84,
     "metadata": {},
     "output_type": "execute_result"
    }
   ],
   "source": [
    "sys.getsizeof(nc)"
   ]
  },
  {
   "cell_type": "code",
   "execution_count": 85,
   "metadata": {
    "execution": {
     "iopub.execute_input": "2021-10-13T13:42:25.670864Z",
     "iopub.status.busy": "2021-10-13T13:42:25.670864Z",
     "iopub.status.idle": "2021-10-13T13:42:25.678867Z",
     "shell.execute_reply": "2021-10-13T13:42:25.677865Z",
     "shell.execute_reply.started": "2021-10-13T13:42:25.670864Z"
    }
   },
   "outputs": [
    {
     "data": {
      "text/plain": [
       "112"
      ]
     },
     "execution_count": 85,
     "metadata": {},
     "output_type": "execute_result"
    }
   ],
   "source": [
    "sys.getsizeof(nc.__dict__)"
   ]
  },
  {
   "cell_type": "code",
   "execution_count": 86,
   "metadata": {
    "execution": {
     "iopub.execute_input": "2021-10-13T13:42:49.485158Z",
     "iopub.status.busy": "2021-10-13T13:42:49.485158Z",
     "iopub.status.idle": "2021-10-13T13:42:49.505160Z",
     "shell.execute_reply": "2021-10-13T13:42:49.504173Z",
     "shell.execute_reply.started": "2021-10-13T13:42:49.485158Z"
    }
   },
   "outputs": [],
   "source": [
    "class CompactClass:\n",
    "    __slots__ = ['date']\n",
    "    def __init__(self, year, month, day):\n",
    "        self.date = datetime.datetime(year, month, day)"
   ]
  },
  {
   "cell_type": "code",
   "execution_count": 87,
   "metadata": {
    "execution": {
     "iopub.execute_input": "2021-10-13T13:42:51.601920Z",
     "iopub.status.busy": "2021-10-13T13:42:51.600920Z",
     "iopub.status.idle": "2021-10-13T13:42:51.617921Z",
     "shell.execute_reply": "2021-10-13T13:42:51.616934Z",
     "shell.execute_reply.started": "2021-10-13T13:42:51.601920Z"
    }
   },
   "outputs": [],
   "source": [
    "cc = CompactClass(2021,10,20)"
   ]
  },
  {
   "cell_type": "code",
   "execution_count": 88,
   "metadata": {
    "execution": {
     "iopub.execute_input": "2021-10-13T13:42:54.187498Z",
     "iopub.status.busy": "2021-10-13T13:42:54.187498Z",
     "iopub.status.idle": "2021-10-13T13:42:54.198499Z",
     "shell.execute_reply": "2021-10-13T13:42:54.197515Z",
     "shell.execute_reply.started": "2021-10-13T13:42:54.187498Z"
    }
   },
   "outputs": [
    {
     "data": {
      "text/plain": [
       "48"
      ]
     },
     "execution_count": 88,
     "metadata": {},
     "output_type": "execute_result"
    }
   ],
   "source": [
    "sys.getsizeof(cc)"
   ]
  },
  {
   "cell_type": "code",
   "execution_count": 89,
   "metadata": {
    "execution": {
     "iopub.execute_input": "2021-10-13T13:42:56.608232Z",
     "iopub.status.busy": "2021-10-13T13:42:56.607232Z",
     "iopub.status.idle": "2021-10-13T13:42:56.629234Z",
     "shell.execute_reply": "2021-10-13T13:42:56.628231Z",
     "shell.execute_reply.started": "2021-10-13T13:42:56.608232Z"
    }
   },
   "outputs": [
    {
     "data": {
      "text/plain": [
       "72"
      ]
     },
     "execution_count": 89,
     "metadata": {},
     "output_type": "execute_result"
    }
   ],
   "source": [
    "sys.getsizeof(cc.__slots__)"
   ]
  },
  {
   "cell_type": "code",
   "execution_count": 90,
   "metadata": {
    "execution": {
     "iopub.execute_input": "2021-10-13T13:43:25.517601Z",
     "iopub.status.busy": "2021-10-13T13:43:25.517601Z",
     "iopub.status.idle": "2021-10-13T13:43:25.525599Z",
     "shell.execute_reply": "2021-10-13T13:43:25.524615Z",
     "shell.execute_reply.started": "2021-10-13T13:43:25.517601Z"
    }
   },
   "outputs": [],
   "source": [
    "nc.new_attr = \"possible\""
   ]
  },
  {
   "cell_type": "code",
   "execution_count": 91,
   "metadata": {
    "execution": {
     "iopub.execute_input": "2021-10-13T13:43:34.141189Z",
     "iopub.status.busy": "2021-10-13T13:43:34.140191Z",
     "iopub.status.idle": "2021-10-13T13:43:34.174190Z",
     "shell.execute_reply": "2021-10-13T13:43:34.172188Z",
     "shell.execute_reply.started": "2021-10-13T13:43:34.141189Z"
    }
   },
   "outputs": [
    {
     "ename": "AttributeError",
     "evalue": "'CompactClass' object has no attribute 'new_attr'",
     "output_type": "error",
     "traceback": [
      "\u001b[1;31m---------------------------------------------------------------------------\u001b[0m",
      "\u001b[1;31mAttributeError\u001b[0m                            Traceback (most recent call last)",
      "\u001b[1;32m<ipython-input-91-13098b0fc8a3>\u001b[0m in \u001b[0;36m<module>\u001b[1;34m\u001b[0m\n\u001b[1;32m----> 1\u001b[1;33m \u001b[0mcc\u001b[0m\u001b[1;33m.\u001b[0m\u001b[0mnew_attr\u001b[0m \u001b[1;33m=\u001b[0m \u001b[1;34m\"impossible\"\u001b[0m\u001b[1;33m\u001b[0m\u001b[1;33m\u001b[0m\u001b[0m\n\u001b[0m",
      "\u001b[1;31mAttributeError\u001b[0m: 'CompactClass' object has no attribute 'new_attr'"
     ]
    }
   ],
   "source": [
    "cc.new_attr = \"impossible\""
   ]
  }
 ],
 "metadata": {
  "kernelspec": {
   "display_name": "Python 3",
   "language": "python",
   "name": "python3"
  },
  "language_info": {
   "codemirror_mode": {
    "name": "ipython",
    "version": 3
   },
   "file_extension": ".py",
   "mimetype": "text/x-python",
   "name": "python",
   "nbconvert_exporter": "python",
   "pygments_lexer": "ipython3",
   "version": "3.7.8"
  }
 },
 "nbformat": 4,
 "nbformat_minor": 4
}
