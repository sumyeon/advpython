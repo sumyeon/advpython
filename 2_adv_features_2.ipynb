{
 "cells": [
  {
   "cell_type": "markdown",
   "metadata": {
    "execution": {
     "iopub.execute_input": "2021-09-01T07:17:17.571570Z",
     "iopub.status.busy": "2021-09-01T07:17:17.570576Z",
     "iopub.status.idle": "2021-09-01T07:17:17.585569Z",
     "shell.execute_reply": "2021-09-01T07:17:17.584584Z",
     "shell.execute_reply.started": "2021-09-01T07:17:17.571570Z"
    }
   },
   "source": [
    "<font size=6> <b> Advanced Python : week #3</b> </font>\n",
    "<div class=\"alert alert-block alert-success\">\n",
    "   Advanced Python features <br>\n",
    "    <ol>\n",
    "        <li> Functions </li>\n",
    "        <li> Variable Scope (LEGB - Local, Enclosed, Global, Built-in) </li>\n",
    "        <li> Decorator ( @Property ) </li>\n",
    "    </ol>\n",
    "</div>\n",
    "\n",
    "<p style=\"text-align:right;\"> sumyeon@gmail.com </p>"
   ]
  },
  {
   "cell_type": "markdown",
   "metadata": {},
   "source": [
    "- import frequently used modules"
   ]
  },
  {
   "cell_type": "code",
   "execution_count": 1,
   "metadata": {
    "execution": {
     "iopub.execute_input": "2021-09-06T11:44:00.461898Z",
     "iopub.status.busy": "2021-09-06T11:44:00.460897Z",
     "iopub.status.idle": "2021-09-06T11:44:00.474896Z",
     "shell.execute_reply": "2021-09-06T11:44:00.473895Z",
     "shell.execute_reply.started": "2021-09-06T11:44:00.461898Z"
    }
   },
   "outputs": [],
   "source": [
    "import sys\n",
    "import pandas as pd\n",
    "import numpy as np\n",
    "import matplotlib.pyplot as plt"
   ]
  },
  {
   "cell_type": "markdown",
   "metadata": {},
   "source": [
    "# Functions : first-class object in python"
   ]
  },
  {
   "cell_type": "markdown",
   "metadata": {
    "execution": {
     "iopub.execute_input": "2021-09-04T00:24:07.156915Z",
     "iopub.status.busy": "2021-09-04T00:24:07.156915Z",
     "iopub.status.idle": "2021-09-04T00:24:07.177909Z",
     "shell.execute_reply": "2021-09-04T00:24:07.175899Z",
     "shell.execute_reply.started": "2021-09-04T00:24:07.156915Z"
    }
   },
   "source": [
    "> in Python, functions are used as argument, returned variable , etc. as like other variables."
   ]
  },
  {
   "cell_type": "markdown",
   "metadata": {},
   "source": [
    "### functions can be passed and used as argumnets (just like any other object)"
   ]
  },
  {
   "cell_type": "code",
   "execution_count": 2,
   "metadata": {
    "execution": {
     "iopub.execute_input": "2021-09-06T11:44:01.663166Z",
     "iopub.status.busy": "2021-09-06T11:44:01.662166Z",
     "iopub.status.idle": "2021-09-06T11:44:01.683176Z",
     "shell.execute_reply": "2021-09-06T11:44:01.682171Z",
     "shell.execute_reply.started": "2021-09-06T11:44:01.663166Z"
    }
   },
   "outputs": [
    {
     "data": {
      "text/plain": [
       "('nice to meet you! John', 'hi how are you! John!')"
      ]
     },
     "execution_count": 2,
     "metadata": {},
     "output_type": "execute_result"
    }
   ],
   "source": [
    "def nicetomeet_people(name):\n",
    "    return f\"nice to meet you! {name}\"\n",
    "\n",
    "def hello_people(name):\n",
    "    return f\"hi how are you! {name}!\"\n",
    "\n",
    "def greet_john(greet_func):\n",
    "    return greet_func(\"John\")\n",
    "\n",
    "greet_john(nicetomeet_people), greet_john(hello_people)"
   ]
  },
  {
   "cell_type": "code",
   "execution_count": 3,
   "metadata": {
    "execution": {
     "iopub.execute_input": "2021-09-06T11:44:01.871168Z",
     "iopub.status.busy": "2021-09-06T11:44:01.869170Z",
     "iopub.status.idle": "2021-09-06T11:44:01.889166Z",
     "shell.execute_reply": "2021-09-06T11:44:01.888177Z",
     "shell.execute_reply.started": "2021-09-06T11:44:01.870165Z"
    }
   },
   "outputs": [
    {
     "name": "stdout",
     "output_type": "stream",
     "text": [
      "some func is called..\n"
     ]
    }
   ],
   "source": [
    "def some_func():\n",
    "    print(\"some func is called..\")\n",
    "    \n",
    "var_func = some_func\n",
    "\n",
    "var_func()"
   ]
  },
  {
   "cell_type": "markdown",
   "metadata": {},
   "source": [
    "### functions can be defined inside other functions"
   ]
  },
  {
   "cell_type": "code",
   "execution_count": 4,
   "metadata": {
    "execution": {
     "iopub.execute_input": "2021-09-06T11:44:02.193183Z",
     "iopub.status.busy": "2021-09-06T11:44:02.192165Z",
     "iopub.status.idle": "2021-09-06T11:44:02.208164Z",
     "shell.execute_reply": "2021-09-06T11:44:02.207162Z",
     "shell.execute_reply.started": "2021-09-06T11:44:02.193183Z"
    }
   },
   "outputs": [],
   "source": [
    "def outer_func():\n",
    "    \n",
    "    print(\"outer_function executed...\")\n",
    "    \n",
    "    def first_inner_func():\n",
    "        print(\"first inner function is executed...\")\n",
    "        \n",
    "    def second_inner_func():\n",
    "        print(\"second inner function is executed...\")\n",
    "\n",
    "    second_inner_func()\n",
    "    first_inner_func()\n",
    "        "
   ]
  },
  {
   "cell_type": "code",
   "execution_count": 5,
   "metadata": {
    "execution": {
     "iopub.execute_input": "2021-09-06T11:44:02.372164Z",
     "iopub.status.busy": "2021-09-06T11:44:02.371162Z",
     "iopub.status.idle": "2021-09-06T11:44:02.383162Z",
     "shell.execute_reply": "2021-09-06T11:44:02.382161Z",
     "shell.execute_reply.started": "2021-09-06T11:44:02.372164Z"
    }
   },
   "outputs": [
    {
     "name": "stdout",
     "output_type": "stream",
     "text": [
      "outer_function executed...\n",
      "second inner function is executed...\n",
      "first inner function is executed...\n"
     ]
    }
   ],
   "source": [
    "outer_func()"
   ]
  },
  {
   "cell_type": "markdown",
   "metadata": {},
   "source": [
    "### functions can be a return value"
   ]
  },
  {
   "cell_type": "code",
   "execution_count": 6,
   "metadata": {
    "execution": {
     "iopub.execute_input": "2021-09-06T11:44:02.701394Z",
     "iopub.status.busy": "2021-09-06T11:44:02.700393Z",
     "iopub.status.idle": "2021-09-06T11:44:02.716378Z",
     "shell.execute_reply": "2021-09-06T11:44:02.715388Z",
     "shell.execute_reply.started": "2021-09-06T11:44:02.701394Z"
    }
   },
   "outputs": [],
   "source": [
    "def get_proper_name(num):\n",
    "    \n",
    "    def first_func():\n",
    "        return \"John\"\n",
    "    \n",
    "    def second_func():\n",
    "        return \"Doe\"\n",
    "    \n",
    "    if num == 1:\n",
    "        return first_func\n",
    "    else:\n",
    "        return second_func\n",
    "    "
   ]
  },
  {
   "cell_type": "code",
   "execution_count": 7,
   "metadata": {
    "execution": {
     "iopub.execute_input": "2021-09-06T11:44:02.878396Z",
     "iopub.status.busy": "2021-09-06T11:44:02.877382Z",
     "iopub.status.idle": "2021-09-06T11:44:02.892382Z",
     "shell.execute_reply": "2021-09-06T11:44:02.891387Z",
     "shell.execute_reply.started": "2021-09-06T11:44:02.878396Z"
    }
   },
   "outputs": [
    {
     "data": {
      "text/plain": [
       "('John', 'Doe')"
      ]
     },
     "execution_count": 7,
     "metadata": {},
     "output_type": "execute_result"
    }
   ],
   "source": [
    "get_1st_name = get_proper_name(1)\n",
    "get_2nd_name = get_proper_name(2)\n",
    "\n",
    "get_1st_name(), get_2nd_name()"
   ]
  },
  {
   "cell_type": "markdown",
   "metadata": {},
   "source": [
    "## Quzz\n",
    "- design a to_upper_func which takes an func(*args) and transform it to inter-modify the args to be UPPER\n",
    "- ex) print('a') -> 'a' ========   upper_print = to_upper_func(print)  =============> upper_print('a') -> 'A'"
   ]
  },
  {
   "cell_type": "code",
   "execution_count": 8,
   "metadata": {
    "execution": {
     "iopub.execute_input": "2021-09-06T11:44:03.215379Z",
     "iopub.status.busy": "2021-09-06T11:44:03.214379Z",
     "iopub.status.idle": "2021-09-06T11:44:03.226378Z",
     "shell.execute_reply": "2021-09-06T11:44:03.225389Z",
     "shell.execute_reply.started": "2021-09-06T11:44:03.215379Z"
    }
   },
   "outputs": [],
   "source": [
    "abclist = ['a', 'b', 'c']"
   ]
  },
  {
   "cell_type": "code",
   "execution_count": 9,
   "metadata": {
    "execution": {
     "iopub.execute_input": "2021-09-06T11:44:03.394397Z",
     "iopub.status.busy": "2021-09-06T11:44:03.394397Z",
     "iopub.status.idle": "2021-09-06T11:44:03.400384Z",
     "shell.execute_reply": "2021-09-06T11:44:03.399384Z",
     "shell.execute_reply.started": "2021-09-06T11:44:03.394397Z"
    }
   },
   "outputs": [],
   "source": [
    "def my_space_print(*args):\n",
    "    for arg in args:\n",
    "        print(arg,' ', end='')"
   ]
  },
  {
   "cell_type": "code",
   "execution_count": 10,
   "metadata": {
    "execution": {
     "iopub.execute_input": "2021-09-06T11:44:03.568382Z",
     "iopub.status.busy": "2021-09-06T11:44:03.568382Z",
     "iopub.status.idle": "2021-09-06T11:44:03.575382Z",
     "shell.execute_reply": "2021-09-06T11:44:03.574382Z",
     "shell.execute_reply.started": "2021-09-06T11:44:03.568382Z"
    }
   },
   "outputs": [],
   "source": [
    "def my_star_print(*args):\n",
    "    for arg in args:\n",
    "        print(arg,'*', end='')"
   ]
  },
  {
   "cell_type": "code",
   "execution_count": 11,
   "metadata": {
    "execution": {
     "iopub.execute_input": "2021-09-06T11:44:03.734378Z",
     "iopub.status.busy": "2021-09-06T11:44:03.733381Z",
     "iopub.status.idle": "2021-09-06T11:44:03.748390Z",
     "shell.execute_reply": "2021-09-06T11:44:03.747380Z",
     "shell.execute_reply.started": "2021-09-06T11:44:03.734378Z"
    }
   },
   "outputs": [
    {
     "name": "stdout",
     "output_type": "stream",
     "text": [
      "a  b  c  a *b *c *"
     ]
    },
    {
     "data": {
      "text/plain": [
       "(None, None)"
      ]
     },
     "execution_count": 11,
     "metadata": {},
     "output_type": "execute_result"
    }
   ],
   "source": [
    "my_space_print(*abclist), my_star_print(*abclist)"
   ]
  },
  {
   "cell_type": "code",
   "execution_count": 12,
   "metadata": {
    "execution": {
     "iopub.execute_input": "2021-09-06T11:44:03.954380Z",
     "iopub.status.busy": "2021-09-06T11:44:03.954380Z",
     "iopub.status.idle": "2021-09-06T11:44:03.968389Z",
     "shell.execute_reply": "2021-09-06T11:44:03.967388Z",
     "shell.execute_reply.started": "2021-09-06T11:44:03.954380Z"
    }
   },
   "outputs": [],
   "source": [
    "def to_upper_func(myprint):\n",
    "    \n",
    "    def inner(*args):\n",
    "        uppered_args = [i.upper() for i in args]\n",
    "        myprint(*uppered_args)\n",
    "        \n",
    "    return inner"
   ]
  },
  {
   "cell_type": "code",
   "execution_count": 13,
   "metadata": {
    "execution": {
     "iopub.execute_input": "2021-09-06T11:44:04.086380Z",
     "iopub.status.busy": "2021-09-06T11:44:04.085380Z",
     "iopub.status.idle": "2021-09-06T11:44:04.096379Z",
     "shell.execute_reply": "2021-09-06T11:44:04.095389Z",
     "shell.execute_reply.started": "2021-09-06T11:44:04.085380Z"
    }
   },
   "outputs": [],
   "source": [
    "upper_my_space_print = to_upper_func(my_space_print)"
   ]
  },
  {
   "cell_type": "code",
   "execution_count": 14,
   "metadata": {
    "execution": {
     "iopub.execute_input": "2021-09-06T11:44:04.272593Z",
     "iopub.status.busy": "2021-09-06T11:44:04.271610Z",
     "iopub.status.idle": "2021-09-06T11:44:04.286608Z",
     "shell.execute_reply": "2021-09-06T11:44:04.285594Z",
     "shell.execute_reply.started": "2021-09-06T11:44:04.272593Z"
    }
   },
   "outputs": [
    {
     "name": "stdout",
     "output_type": "stream",
     "text": [
      "A  B  C  "
     ]
    }
   ],
   "source": [
    "upper_my_space_print(*abclist)"
   ]
  },
  {
   "cell_type": "code",
   "execution_count": 15,
   "metadata": {
    "execution": {
     "iopub.execute_input": "2021-09-06T11:44:04.461610Z",
     "iopub.status.busy": "2021-09-06T11:44:04.461610Z",
     "iopub.status.idle": "2021-09-06T11:44:04.477597Z",
     "shell.execute_reply": "2021-09-06T11:44:04.476592Z",
     "shell.execute_reply.started": "2021-09-06T11:44:04.461610Z"
    }
   },
   "outputs": [],
   "source": [
    "upper_my_star_print = to_upper_func(my_star_print)"
   ]
  },
  {
   "cell_type": "code",
   "execution_count": 16,
   "metadata": {
    "execution": {
     "iopub.execute_input": "2021-09-06T11:44:04.626611Z",
     "iopub.status.busy": "2021-09-06T11:44:04.625610Z",
     "iopub.status.idle": "2021-09-06T11:44:04.634606Z",
     "shell.execute_reply": "2021-09-06T11:44:04.633595Z",
     "shell.execute_reply.started": "2021-09-06T11:44:04.626611Z"
    }
   },
   "outputs": [
    {
     "name": "stdout",
     "output_type": "stream",
     "text": [
      "A *B *C *"
     ]
    }
   ],
   "source": [
    "upper_my_star_print(*abclist)"
   ]
  },
  {
   "cell_type": "markdown",
   "metadata": {},
   "source": [
    "## Variable scope\n",
    " - local : variables which are valid/visible in a function or class\n",
    " - enclosing : variables which is not local to but bound to functions \n",
    " - global : variables which are visible to anywhere\n",
    " - built-in : special reserved keywords callable anywhere within our program WITHOUT definition"
   ]
  },
  {
   "cell_type": "markdown",
   "metadata": {},
   "source": [
    "### local variables\n",
    "> variables defined in a class/method so visiable only to the class/method"
   ]
  },
  {
   "cell_type": "code",
   "execution_count": 17,
   "metadata": {
    "execution": {
     "iopub.execute_input": "2021-09-06T11:44:05.118727Z",
     "iopub.status.busy": "2021-09-06T11:44:05.117729Z",
     "iopub.status.idle": "2021-09-06T11:44:05.123744Z",
     "shell.execute_reply": "2021-09-06T11:44:05.122743Z",
     "shell.execute_reply.started": "2021-09-06T11:44:05.118727Z"
    }
   },
   "outputs": [
    {
     "name": "stdout",
     "output_type": "stream",
     "text": [
      "16\n"
     ]
    }
   ],
   "source": [
    "def print_localnumber_plus(number):\n",
    "\n",
    "    localnumber = 11\n",
    "    print(localnumber + number)\n",
    "\n",
    "print_localnumber_plus(5)"
   ]
  },
  {
   "cell_type": "code",
   "execution_count": 18,
   "metadata": {
    "execution": {
     "iopub.execute_input": "2021-09-06T11:44:05.309739Z",
     "iopub.status.busy": "2021-09-06T11:44:05.308738Z",
     "iopub.status.idle": "2021-09-06T11:44:05.474727Z",
     "shell.execute_reply": "2021-09-06T11:44:05.473744Z",
     "shell.execute_reply.started": "2021-09-06T11:44:05.309739Z"
    }
   },
   "outputs": [
    {
     "ename": "NameError",
     "evalue": "name 'localnumber' is not defined",
     "output_type": "error",
     "traceback": [
      "\u001b[1;31m---------------------------------------------------------------------------\u001b[0m",
      "\u001b[1;31mNameError\u001b[0m                                 Traceback (most recent call last)",
      "\u001b[1;32m<ipython-input-18-f5be9d565c53>\u001b[0m in \u001b[0;36m<module>\u001b[1;34m\u001b[0m\n\u001b[1;32m----> 1\u001b[1;33m \u001b[0mprint\u001b[0m\u001b[1;33m(\u001b[0m\u001b[0mlocalnumber\u001b[0m\u001b[1;33m)\u001b[0m\u001b[1;33m\u001b[0m\u001b[1;33m\u001b[0m\u001b[0m\n\u001b[0m",
      "\u001b[1;31mNameError\u001b[0m: name 'localnumber' is not defined"
     ]
    }
   ],
   "source": [
    "print(localnumber)"
   ]
  },
  {
   "cell_type": "markdown",
   "metadata": {},
   "source": [
    "### global variables\n",
    "> variables defined outside any function. Global variables are accessible from anywhere"
   ]
  },
  {
   "cell_type": "code",
   "execution_count": 19,
   "metadata": {
    "execution": {
     "iopub.execute_input": "2021-09-06T11:44:05.652744Z",
     "iopub.status.busy": "2021-09-06T11:44:05.651744Z",
     "iopub.status.idle": "2021-09-06T11:44:05.664744Z",
     "shell.execute_reply": "2021-09-06T11:44:05.663730Z",
     "shell.execute_reply.started": "2021-09-06T11:44:05.652744Z"
    }
   },
   "outputs": [
    {
     "name": "stdout",
     "output_type": "stream",
     "text": [
      "16\n"
     ]
    }
   ],
   "source": [
    "globalnumber = 11\n",
    "\n",
    "def print_globalnumber_plus(number):\n",
    "        print(globalnumber + number)\n",
    "        \n",
    "print_globalnumber_plus(5)"
   ]
  },
  {
   "cell_type": "code",
   "execution_count": 20,
   "metadata": {
    "execution": {
     "iopub.execute_input": "2021-09-06T11:44:05.853745Z",
     "iopub.status.busy": "2021-09-06T11:44:05.853745Z",
     "iopub.status.idle": "2021-09-06T11:44:05.873755Z",
     "shell.execute_reply": "2021-09-06T11:44:05.871744Z",
     "shell.execute_reply.started": "2021-09-06T11:44:05.853745Z"
    }
   },
   "outputs": [
    {
     "name": "stdout",
     "output_type": "stream",
     "text": [
      "11\n"
     ]
    }
   ],
   "source": [
    "print(globalnumber)"
   ]
  },
  {
   "cell_type": "markdown",
   "metadata": {},
   "source": [
    "> since local variables are defined without declaration, modifying global value need a technique"
   ]
  },
  {
   "cell_type": "code",
   "execution_count": 21,
   "metadata": {
    "execution": {
     "iopub.execute_input": "2021-09-06T11:44:06.212952Z",
     "iopub.status.busy": "2021-09-06T11:44:06.211952Z",
     "iopub.status.idle": "2021-09-06T11:44:06.218954Z",
     "shell.execute_reply": "2021-09-06T11:44:06.217962Z",
     "shell.execute_reply.started": "2021-09-06T11:44:06.212952Z"
    }
   },
   "outputs": [],
   "source": [
    "def change_global_number_bad():\n",
    "    globalnumber = 10"
   ]
  },
  {
   "cell_type": "code",
   "execution_count": 22,
   "metadata": {
    "execution": {
     "iopub.execute_input": "2021-09-06T11:44:06.730574Z",
     "iopub.status.busy": "2021-09-06T11:44:06.729568Z",
     "iopub.status.idle": "2021-09-06T11:44:06.749573Z",
     "shell.execute_reply": "2021-09-06T11:44:06.748560Z",
     "shell.execute_reply.started": "2021-09-06T11:44:06.730574Z"
    }
   },
   "outputs": [
    {
     "name": "stdout",
     "output_type": "stream",
     "text": [
      "16\n"
     ]
    }
   ],
   "source": [
    "change_global_number_bad()\n",
    "print_globalnumber_plus(5)"
   ]
  },
  {
   "cell_type": "code",
   "execution_count": 23,
   "metadata": {
    "execution": {
     "iopub.execute_input": "2021-09-06T11:44:06.916584Z",
     "iopub.status.busy": "2021-09-06T11:44:06.916584Z",
     "iopub.status.idle": "2021-09-06T11:44:06.924560Z",
     "shell.execute_reply": "2021-09-06T11:44:06.922577Z",
     "shell.execute_reply.started": "2021-09-06T11:44:06.916584Z"
    }
   },
   "outputs": [],
   "source": [
    "def change_global_number_good():\n",
    "    global globalnumber\n",
    "    \n",
    "    globalnumber = 10"
   ]
  },
  {
   "cell_type": "code",
   "execution_count": 24,
   "metadata": {
    "execution": {
     "iopub.execute_input": "2021-09-06T11:44:07.091573Z",
     "iopub.status.busy": "2021-09-06T11:44:07.091573Z",
     "iopub.status.idle": "2021-09-06T11:44:07.098561Z",
     "shell.execute_reply": "2021-09-06T11:44:07.097573Z",
     "shell.execute_reply.started": "2021-09-06T11:44:07.091573Z"
    }
   },
   "outputs": [
    {
     "name": "stdout",
     "output_type": "stream",
     "text": [
      "15\n"
     ]
    }
   ],
   "source": [
    "change_global_number_good()\n",
    "print_globalnumber_plus(5)"
   ]
  },
  {
   "cell_type": "markdown",
   "metadata": {},
   "source": [
    "### built-in constants (variable?)\n",
    "> some constants and method accessible anywhere without any declaration/definition"
   ]
  },
  {
   "cell_type": "code",
   "execution_count": 25,
   "metadata": {
    "execution": {
     "iopub.execute_input": "2021-09-06T11:44:07.412562Z",
     "iopub.status.busy": "2021-09-06T11:44:07.412562Z",
     "iopub.status.idle": "2021-09-06T11:44:07.430559Z",
     "shell.execute_reply": "2021-09-06T11:44:07.428556Z",
     "shell.execute_reply.started": "2021-09-06T11:44:07.412562Z"
    }
   },
   "outputs": [
    {
     "data": {
      "text/plain": [
       "(False, True)"
      ]
     },
     "execution_count": 25,
     "metadata": {},
     "output_type": "execute_result"
    }
   ],
   "source": [
    "False, True"
   ]
  },
  {
   "cell_type": "code",
   "execution_count": 26,
   "metadata": {
    "execution": {
     "iopub.execute_input": "2021-09-06T11:44:07.582575Z",
     "iopub.status.busy": "2021-09-06T11:44:07.581560Z",
     "iopub.status.idle": "2021-09-06T11:44:07.588559Z",
     "shell.execute_reply": "2021-09-06T11:44:07.587569Z",
     "shell.execute_reply.started": "2021-09-06T11:44:07.582575Z"
    }
   },
   "outputs": [
    {
     "data": {
      "text/plain": [
       "Ellipsis"
      ]
     },
     "execution_count": 26,
     "metadata": {},
     "output_type": "execute_result"
    }
   ],
   "source": [
    "..."
   ]
  },
  {
   "cell_type": "markdown",
   "metadata": {},
   "source": [
    "### Enclosing variables (enclosure)\n",
    "> variables can be defined as outside of a fuction but not a global variable"
   ]
  },
  {
   "cell_type": "code",
   "execution_count": 27,
   "metadata": {
    "execution": {
     "iopub.execute_input": "2021-09-06T11:44:07.928574Z",
     "iopub.status.busy": "2021-09-06T11:44:07.927572Z",
     "iopub.status.idle": "2021-09-06T11:44:07.938574Z",
     "shell.execute_reply": "2021-09-06T11:44:07.937563Z",
     "shell.execute_reply.started": "2021-09-06T11:44:07.928574Z"
    }
   },
   "outputs": [],
   "source": [
    "def outer(initial_first_num):\n",
    "    first_num = initial_first_num\n",
    "    \n",
    "    def inner():\n",
    "        second_num = 2\n",
    "        print(\"first number is \", first_num)\n",
    "        print(\"second number is \", second_num)\n",
    "        \n",
    "    return inner"
   ]
  },
  {
   "cell_type": "code",
   "execution_count": 28,
   "metadata": {
    "execution": {
     "iopub.execute_input": "2021-09-06T11:44:08.090911Z",
     "iopub.status.busy": "2021-09-06T11:44:08.090911Z",
     "iopub.status.idle": "2021-09-06T11:44:08.097923Z",
     "shell.execute_reply": "2021-09-06T11:44:08.096911Z",
     "shell.execute_reply.started": "2021-09-06T11:44:08.090911Z"
    }
   },
   "outputs": [],
   "source": [
    "new_func_1 = outer(1)"
   ]
  },
  {
   "cell_type": "code",
   "execution_count": 29,
   "metadata": {
    "execution": {
     "iopub.execute_input": "2021-09-06T11:44:08.274153Z",
     "iopub.status.busy": "2021-09-06T11:44:08.274153Z",
     "iopub.status.idle": "2021-09-06T11:44:08.289153Z",
     "shell.execute_reply": "2021-09-06T11:44:08.288152Z",
     "shell.execute_reply.started": "2021-09-06T11:44:08.274153Z"
    }
   },
   "outputs": [
    {
     "name": "stdout",
     "output_type": "stream",
     "text": [
      "first number is  1\n",
      "second number is  2\n"
     ]
    }
   ],
   "source": [
    "new_func_1()"
   ]
  },
  {
   "cell_type": "markdown",
   "metadata": {},
   "source": [
    "<div class=\"alert alert-block alert-info\">\n",
    "    <b> enclosure</b> <br>\n",
    "the enclosing variables are a local variable of outer() method, so it will be declared again <br>\n",
    "and again every time the outer() method is called. But, it will act as a global variable to inner() <br>\n",
    "method because inner() can not modify the variable\n",
    "</div>"
   ]
  },
  {
   "cell_type": "markdown",
   "metadata": {},
   "source": [
    "> example of enclosing variables"
   ]
  },
  {
   "cell_type": "code",
   "execution_count": 30,
   "metadata": {
    "execution": {
     "iopub.execute_input": "2021-09-06T11:44:08.814061Z",
     "iopub.status.busy": "2021-09-06T11:44:08.814061Z",
     "iopub.status.idle": "2021-09-06T11:44:08.828045Z",
     "shell.execute_reply": "2021-09-06T11:44:08.827056Z",
     "shell.execute_reply.started": "2021-09-06T11:44:08.814061Z"
    }
   },
   "outputs": [],
   "source": [
    "def get_plus_number_func(number):\n",
    "    added_number = number\n",
    "    \n",
    "    def inner(num):\n",
    "        return added_number + num\n",
    "    \n",
    "    return inner"
   ]
  },
  {
   "cell_type": "code",
   "execution_count": 31,
   "metadata": {
    "execution": {
     "iopub.execute_input": "2021-09-06T11:44:08.997212Z",
     "iopub.status.busy": "2021-09-06T11:44:08.997212Z",
     "iopub.status.idle": "2021-09-06T11:44:09.016212Z",
     "shell.execute_reply": "2021-09-06T11:44:09.015237Z",
     "shell.execute_reply.started": "2021-09-06T11:44:08.997212Z"
    }
   },
   "outputs": [],
   "source": [
    "# the inner functions behave differently based on the enclosures\n",
    "\n",
    "plus_one = get_plus_number_func(1)\n",
    "plus_ten = get_plus_number_func(10)"
   ]
  },
  {
   "cell_type": "code",
   "execution_count": 32,
   "metadata": {
    "execution": {
     "iopub.execute_input": "2021-09-06T11:44:09.177269Z",
     "iopub.status.busy": "2021-09-06T11:44:09.176285Z",
     "iopub.status.idle": "2021-09-06T11:44:09.191271Z",
     "shell.execute_reply": "2021-09-06T11:44:09.190276Z",
     "shell.execute_reply.started": "2021-09-06T11:44:09.177269Z"
    }
   },
   "outputs": [
    {
     "data": {
      "text/plain": [
       "(6, 15)"
      ]
     },
     "execution_count": 32,
     "metadata": {},
     "output_type": "execute_result"
    }
   ],
   "source": [
    "plus_one(5), plus_ten(5)"
   ]
  },
  {
   "cell_type": "markdown",
   "metadata": {},
   "source": [
    "### A way to modify enclosure variable"
   ]
  },
  {
   "cell_type": "markdown",
   "metadata": {},
   "source": [
    "<div class=\"alert alert-block alert-warning\">\n",
    "    a typical example of enclosures is static variable to the method. <br>\n",
    "    Though we can change the variable values, not a typical examples. <br><br>\n",
    "    <ot>\n",
    "        <ti>new_func.__closure__[0].cell_contents = 2  </ti>\n",
    "    </ot>\n",
    "</div>"
   ]
  },
  {
   "cell_type": "code",
   "execution_count": 33,
   "metadata": {
    "execution": {
     "iopub.execute_input": "2021-09-06T11:44:09.702900Z",
     "iopub.status.busy": "2021-09-06T11:44:09.702900Z",
     "iopub.status.idle": "2021-09-06T11:44:09.710887Z",
     "shell.execute_reply": "2021-09-06T11:44:09.709897Z",
     "shell.execute_reply.started": "2021-09-06T11:44:09.702900Z"
    }
   },
   "outputs": [
    {
     "data": {
      "text/plain": [
       "15"
      ]
     },
     "execution_count": 33,
     "metadata": {},
     "output_type": "execute_result"
    }
   ],
   "source": [
    "plus_one.__closure__[0].cell_contents = 10\n",
    "\n",
    "plus_one(5)"
   ]
  },
  {
   "cell_type": "markdown",
   "metadata": {},
   "source": [
    "### LEGB rules"
   ]
  },
  {
   "cell_type": "markdown",
   "metadata": {},
   "source": [
    "<b> when a variable is referenced, the python interpreter will search the variable in <br> 1) Local, 2) Enclosed, 3) Global, 4) Built-in context. <br> LEGB represents the order of search.</b>"
   ]
  },
  {
   "cell_type": "markdown",
   "metadata": {},
   "source": [
    "## Quzz 1/2\n",
    "- how can we modify the global variables inside fucntions?\n",
    "> correct the below increase_global_int method to increase the 'global' variable"
   ]
  },
  {
   "cell_type": "code",
   "execution_count": 34,
   "metadata": {
    "execution": {
     "iopub.execute_input": "2021-09-06T11:44:10.220813Z",
     "iopub.status.busy": "2021-09-06T11:44:10.219813Z",
     "iopub.status.idle": "2021-09-06T11:44:10.229818Z",
     "shell.execute_reply": "2021-09-06T11:44:10.228827Z",
     "shell.execute_reply.started": "2021-09-06T11:44:10.220813Z"
    }
   },
   "outputs": [],
   "source": [
    "global_int = 0\n",
    "\n",
    "def increase_global_int():  \n",
    "    \n",
    "    global_int += 1\n",
    "    print(global_int)"
   ]
  },
  {
   "cell_type": "code",
   "execution_count": 35,
   "metadata": {
    "execution": {
     "iopub.execute_input": "2021-09-06T11:44:10.398021Z",
     "iopub.status.busy": "2021-09-06T11:44:10.398021Z",
     "iopub.status.idle": "2021-09-06T11:44:10.420015Z",
     "shell.execute_reply": "2021-09-06T11:44:10.419024Z",
     "shell.execute_reply.started": "2021-09-06T11:44:10.398021Z"
    }
   },
   "outputs": [
    {
     "ename": "UnboundLocalError",
     "evalue": "local variable 'global_int' referenced before assignment",
     "output_type": "error",
     "traceback": [
      "\u001b[1;31m---------------------------------------------------------------------------\u001b[0m",
      "\u001b[1;31mUnboundLocalError\u001b[0m                         Traceback (most recent call last)",
      "\u001b[1;32m<ipython-input-35-d8b588d85acb>\u001b[0m in \u001b[0;36m<module>\u001b[1;34m\u001b[0m\n\u001b[1;32m----> 1\u001b[1;33m \u001b[0mincrease_global_int\u001b[0m\u001b[1;33m(\u001b[0m\u001b[1;33m)\u001b[0m\u001b[1;33m\u001b[0m\u001b[1;33m\u001b[0m\u001b[0m\n\u001b[0m",
      "\u001b[1;32m<ipython-input-34-a4140af2034b>\u001b[0m in \u001b[0;36mincrease_global_int\u001b[1;34m()\u001b[0m\n\u001b[0;32m      3\u001b[0m \u001b[1;32mdef\u001b[0m \u001b[0mincrease_global_int\u001b[0m\u001b[1;33m(\u001b[0m\u001b[1;33m)\u001b[0m\u001b[1;33m:\u001b[0m\u001b[1;33m\u001b[0m\u001b[1;33m\u001b[0m\u001b[0m\n\u001b[0;32m      4\u001b[0m \u001b[1;33m\u001b[0m\u001b[0m\n\u001b[1;32m----> 5\u001b[1;33m     \u001b[0mglobal_int\u001b[0m \u001b[1;33m+=\u001b[0m \u001b[1;36m1\u001b[0m\u001b[1;33m\u001b[0m\u001b[1;33m\u001b[0m\u001b[0m\n\u001b[0m\u001b[0;32m      6\u001b[0m     \u001b[0mprint\u001b[0m\u001b[1;33m(\u001b[0m\u001b[0mglobal_int\u001b[0m\u001b[1;33m)\u001b[0m\u001b[1;33m\u001b[0m\u001b[1;33m\u001b[0m\u001b[0m\n",
      "\u001b[1;31mUnboundLocalError\u001b[0m: local variable 'global_int' referenced before assignment"
     ]
    }
   ],
   "source": [
    "increase_global_int()"
   ]
  },
  {
   "cell_type": "markdown",
   "metadata": {},
   "source": [
    "## Quzz 2/2\n",
    "- how can we modify the enclosed variables inside fucntions?\n",
    "> correct the below increase_outer method to increase the 'closure' variable"
   ]
  },
  {
   "cell_type": "code",
   "execution_count": 67,
   "metadata": {
    "execution": {
     "iopub.execute_input": "2021-09-06T12:57:09.693987Z",
     "iopub.status.busy": "2021-09-06T12:57:09.692986Z",
     "iopub.status.idle": "2021-09-06T12:57:09.713973Z",
     "shell.execute_reply": "2021-09-06T12:57:09.712986Z",
     "shell.execute_reply.started": "2021-09-06T12:57:09.693987Z"
    }
   },
   "outputs": [],
   "source": [
    "def outer():  \n",
    "    enclosed_int = 0\n",
    "    \n",
    "    def inner():\n",
    "        enclosed_int += 1\n",
    "        print(enclosed_int)\n",
    "        \n",
    "    return inner\n",
    "\n",
    "increased_closure_int = outer()"
   ]
  },
  {
   "cell_type": "code",
   "execution_count": 37,
   "metadata": {
    "execution": {
     "iopub.execute_input": "2021-09-06T11:44:10.936130Z",
     "iopub.status.busy": "2021-09-06T11:44:10.936130Z",
     "iopub.status.idle": "2021-09-06T11:44:10.958114Z",
     "shell.execute_reply": "2021-09-06T11:44:10.956124Z",
     "shell.execute_reply.started": "2021-09-06T11:44:10.936130Z"
    }
   },
   "outputs": [
    {
     "ename": "UnboundLocalError",
     "evalue": "local variable 'enclosed_int' referenced before assignment",
     "output_type": "error",
     "traceback": [
      "\u001b[1;31m---------------------------------------------------------------------------\u001b[0m",
      "\u001b[1;31mUnboundLocalError\u001b[0m                         Traceback (most recent call last)",
      "\u001b[1;32m<ipython-input-37-f913c184324e>\u001b[0m in \u001b[0;36m<module>\u001b[1;34m\u001b[0m\n\u001b[1;32m----> 1\u001b[1;33m \u001b[0mincreased_closure_int\u001b[0m\u001b[1;33m(\u001b[0m\u001b[1;33m)\u001b[0m\u001b[1;33m\u001b[0m\u001b[1;33m\u001b[0m\u001b[0m\n\u001b[0m",
      "\u001b[1;32m<ipython-input-36-2fb72805b404>\u001b[0m in \u001b[0;36minner\u001b[1;34m()\u001b[0m\n\u001b[0;32m      4\u001b[0m     \u001b[1;32mdef\u001b[0m \u001b[0minner\u001b[0m\u001b[1;33m(\u001b[0m\u001b[1;33m)\u001b[0m\u001b[1;33m:\u001b[0m\u001b[1;33m\u001b[0m\u001b[1;33m\u001b[0m\u001b[0m\n\u001b[0;32m      5\u001b[0m \u001b[1;33m\u001b[0m\u001b[0m\n\u001b[1;32m----> 6\u001b[1;33m         \u001b[0menclosed_int\u001b[0m \u001b[1;33m+=\u001b[0m \u001b[1;36m1\u001b[0m\u001b[1;33m\u001b[0m\u001b[1;33m\u001b[0m\u001b[0m\n\u001b[0m\u001b[0;32m      7\u001b[0m         \u001b[0mprint\u001b[0m\u001b[1;33m(\u001b[0m\u001b[0menclosed_int\u001b[0m\u001b[1;33m)\u001b[0m\u001b[1;33m\u001b[0m\u001b[1;33m\u001b[0m\u001b[0m\n\u001b[0;32m      8\u001b[0m \u001b[1;33m\u001b[0m\u001b[0m\n",
      "\u001b[1;31mUnboundLocalError\u001b[0m: local variable 'enclosed_int' referenced before assignment"
     ]
    }
   ],
   "source": [
    "increased_closure_int()"
   ]
  },
  {
   "cell_type": "markdown",
   "metadata": {},
   "source": [
    "# Decorator"
   ]
  },
  {
   "cell_type": "markdown",
   "metadata": {},
   "source": [
    "<div class=\"alert alert-block alert-info\">\n",
    "- A decorator takes in a function, adds some functionality and returns it. <br>\n",
    "- Since it modify another part of the program at compile timee, so sometimes called <it> metaprogramming </it>\n",
    "</div>"
   ]
  },
  {
   "cell_type": "markdown",
   "metadata": {},
   "source": [
    "### 'Hello Decorator'\n",
    "> a simple decorator example"
   ]
  },
  {
   "cell_type": "code",
   "execution_count": 38,
   "metadata": {
    "execution": {
     "iopub.execute_input": "2021-09-06T11:44:12.033143Z",
     "iopub.status.busy": "2021-09-06T11:44:12.033143Z",
     "iopub.status.idle": "2021-09-06T11:44:12.046143Z",
     "shell.execute_reply": "2021-09-06T11:44:12.045151Z",
     "shell.execute_reply.started": "2021-09-06T11:44:12.033143Z"
    }
   },
   "outputs": [],
   "source": [
    "def decorator(func):\n",
    "    def wrapper():\n",
    "        print(\"Before clsoure func is called.\")\n",
    "        func()\n",
    "        print(\"After closure func is called\")\n",
    "        \n",
    "    return wrapper\n",
    "\n",
    "def inner_func():\n",
    "    print(\"hello decorator!\")"
   ]
  },
  {
   "cell_type": "code",
   "execution_count": 39,
   "metadata": {
    "execution": {
     "iopub.execute_input": "2021-09-06T11:44:12.215144Z",
     "iopub.status.busy": "2021-09-06T11:44:12.214142Z",
     "iopub.status.idle": "2021-09-06T11:44:12.222146Z",
     "shell.execute_reply": "2021-09-06T11:44:12.221143Z",
     "shell.execute_reply.started": "2021-09-06T11:44:12.215144Z"
    }
   },
   "outputs": [
    {
     "name": "stdout",
     "output_type": "stream",
     "text": [
      "hello decorator!\n"
     ]
    }
   ],
   "source": [
    "inner_func()"
   ]
  },
  {
   "cell_type": "code",
   "execution_count": 40,
   "metadata": {
    "execution": {
     "iopub.execute_input": "2021-09-06T11:44:12.412155Z",
     "iopub.status.busy": "2021-09-06T11:44:12.411153Z",
     "iopub.status.idle": "2021-09-06T11:44:12.426142Z",
     "shell.execute_reply": "2021-09-06T11:44:12.425140Z",
     "shell.execute_reply.started": "2021-09-06T11:44:12.412155Z"
    }
   },
   "outputs": [
    {
     "name": "stdout",
     "output_type": "stream",
     "text": [
      "Before clsoure func is called.\n",
      "hello decorator!\n",
      "After closure func is called\n"
     ]
    }
   ],
   "source": [
    "inner_func = decorator(inner_func)\n",
    "inner_func()"
   ]
  },
  {
   "cell_type": "markdown",
   "metadata": {},
   "source": [
    "### @(pi) syntax\n",
    "> Python's @(pi) syntax ease the step of calling decorators on a function and reassigning the function"
   ]
  },
  {
   "cell_type": "code",
   "execution_count": 41,
   "metadata": {
    "execution": {
     "iopub.execute_input": "2021-09-06T11:44:12.773345Z",
     "iopub.status.busy": "2021-09-06T11:44:12.773345Z",
     "iopub.status.idle": "2021-09-06T11:44:12.790359Z",
     "shell.execute_reply": "2021-09-06T11:44:12.789353Z",
     "shell.execute_reply.started": "2021-09-06T11:44:12.773345Z"
    }
   },
   "outputs": [],
   "source": [
    "def inner_func():\n",
    "    print(\"hello decorator!\")"
   ]
  },
  {
   "cell_type": "code",
   "execution_count": 42,
   "metadata": {
    "execution": {
     "iopub.execute_input": "2021-09-06T11:44:12.974704Z",
     "iopub.status.busy": "2021-09-06T11:44:12.973695Z",
     "iopub.status.idle": "2021-09-06T11:44:12.980703Z",
     "shell.execute_reply": "2021-09-06T11:44:12.979699Z",
     "shell.execute_reply.started": "2021-09-06T11:44:12.973695Z"
    }
   },
   "outputs": [
    {
     "name": "stdout",
     "output_type": "stream",
     "text": [
      "hello decorator!\n"
     ]
    }
   ],
   "source": [
    "inner_func()"
   ]
  },
  {
   "cell_type": "code",
   "execution_count": 43,
   "metadata": {
    "execution": {
     "iopub.execute_input": "2021-09-06T11:44:13.176702Z",
     "iopub.status.busy": "2021-09-06T11:44:13.175706Z",
     "iopub.status.idle": "2021-09-06T11:44:13.187696Z",
     "shell.execute_reply": "2021-09-06T11:44:13.185699Z",
     "shell.execute_reply.started": "2021-09-06T11:44:13.176702Z"
    }
   },
   "outputs": [],
   "source": [
    "@decorator\n",
    "def inner_func():\n",
    "    print(\"hello decorator!\")"
   ]
  },
  {
   "cell_type": "code",
   "execution_count": 44,
   "metadata": {
    "execution": {
     "iopub.execute_input": "2021-09-06T11:44:13.359708Z",
     "iopub.status.busy": "2021-09-06T11:44:13.358697Z",
     "iopub.status.idle": "2021-09-06T11:44:13.377697Z",
     "shell.execute_reply": "2021-09-06T11:44:13.376693Z",
     "shell.execute_reply.started": "2021-09-06T11:44:13.359708Z"
    }
   },
   "outputs": [
    {
     "name": "stdout",
     "output_type": "stream",
     "text": [
      "Before clsoure func is called.\n",
      "hello decorator!\n",
      "After closure func is called\n"
     ]
    }
   ],
   "source": [
    "inner_func()"
   ]
  },
  {
   "cell_type": "markdown",
   "metadata": {},
   "source": [
    "<div class=\"alert alert-block alert-warning\">\n",
    "<b> inner_func = decorator(inner_func) is exactly same as put the '@decorator' on the definition of inner_func </b>"
   ]
  },
  {
   "cell_type": "markdown",
   "metadata": {},
   "source": [
    "### Decorators for functions with arguments\n",
    "> *args, **kwargs will help the case when the inner_func has arguments "
   ]
  },
  {
   "cell_type": "code",
   "execution_count": 45,
   "metadata": {
    "execution": {
     "iopub.execute_input": "2021-09-06T11:44:13.940130Z",
     "iopub.status.busy": "2021-09-06T11:44:13.940130Z",
     "iopub.status.idle": "2021-09-06T11:44:13.948132Z",
     "shell.execute_reply": "2021-09-06T11:44:13.947139Z",
     "shell.execute_reply.started": "2021-09-06T11:44:13.940130Z"
    }
   },
   "outputs": [],
   "source": [
    "def decorator_with_arguments(func):\n",
    "    def wrapper(*args, **kwargs):\n",
    "        print(\"before closure func is called\")\n",
    "        func(*args, **kwargs)\n",
    "        print(\"after closure func is called\")\n",
    "    return wrapper\n",
    "\n",
    "@decorator_with_arguments\n",
    "def inner_func(arg1, arg2, kwarg1='something'):\n",
    "    print(f\"arg1: {arg1}, arg2: {arg2}, kwarg1: {kwarg1}\")"
   ]
  },
  {
   "cell_type": "code",
   "execution_count": 46,
   "metadata": {
    "execution": {
     "iopub.execute_input": "2021-09-06T11:44:14.129575Z",
     "iopub.status.busy": "2021-09-06T11:44:14.129575Z",
     "iopub.status.idle": "2021-09-06T11:44:14.138560Z",
     "shell.execute_reply": "2021-09-06T11:44:14.137569Z",
     "shell.execute_reply.started": "2021-09-06T11:44:14.129575Z"
    }
   },
   "outputs": [
    {
     "name": "stdout",
     "output_type": "stream",
     "text": [
      "before closure func is called\n",
      "arg1: there, arg2: are, kwarg1: something\n",
      "after closure func is called\n"
     ]
    }
   ],
   "source": [
    "inner_func(\"there\", \"are\", \"something\")"
   ]
  },
  {
   "cell_type": "code",
   "execution_count": 47,
   "metadata": {
    "execution": {
     "iopub.execute_input": "2021-09-06T11:44:14.329562Z",
     "iopub.status.busy": "2021-09-06T11:44:14.328570Z",
     "iopub.status.idle": "2021-09-06T11:44:14.344567Z",
     "shell.execute_reply": "2021-09-06T11:44:14.343567Z",
     "shell.execute_reply.started": "2021-09-06T11:44:14.329562Z"
    }
   },
   "outputs": [
    {
     "name": "stdout",
     "output_type": "stream",
     "text": [
      "before closure func is called\n",
      "arg1: there, arg2: are, kwarg1: something\n",
      "after closure func is called\n"
     ]
    }
   ],
   "source": [
    "inner_func(\"there\", \"are\")"
   ]
  },
  {
   "cell_type": "code",
   "execution_count": 48,
   "metadata": {
    "execution": {
     "iopub.execute_input": "2021-09-06T11:44:14.527578Z",
     "iopub.status.busy": "2021-09-06T11:44:14.527578Z",
     "iopub.status.idle": "2021-09-06T11:44:14.549564Z",
     "shell.execute_reply": "2021-09-06T11:44:14.548574Z",
     "shell.execute_reply.started": "2021-09-06T11:44:14.527578Z"
    }
   },
   "outputs": [
    {
     "name": "stdout",
     "output_type": "stream",
     "text": [
      "before closure func is called\n",
      "arg1: there, arg2: are, kwarg1: nothing\n",
      "after closure func is called\n"
     ]
    }
   ],
   "source": [
    "inner_func(\"there\", \"are\", kwarg1=\"nothing\")"
   ]
  },
  {
   "cell_type": "code",
   "execution_count": 49,
   "metadata": {
    "execution": {
     "iopub.execute_input": "2021-09-06T11:44:14.732559Z",
     "iopub.status.busy": "2021-09-06T11:44:14.731558Z",
     "iopub.status.idle": "2021-09-06T11:44:14.756559Z",
     "shell.execute_reply": "2021-09-06T11:44:14.754573Z",
     "shell.execute_reply.started": "2021-09-06T11:44:14.732559Z"
    }
   },
   "outputs": [
    {
     "name": "stdout",
     "output_type": "stream",
     "text": [
      "before closure func is called\n"
     ]
    },
    {
     "ename": "TypeError",
     "evalue": "inner_func() got an unexpected keyword argument 'kwarg2'",
     "output_type": "error",
     "traceback": [
      "\u001b[1;31m---------------------------------------------------------------------------\u001b[0m",
      "\u001b[1;31mTypeError\u001b[0m                                 Traceback (most recent call last)",
      "\u001b[1;32m<ipython-input-49-113e611500b1>\u001b[0m in \u001b[0;36m<module>\u001b[1;34m\u001b[0m\n\u001b[1;32m----> 1\u001b[1;33m \u001b[0minner_func\u001b[0m\u001b[1;33m(\u001b[0m\u001b[1;34m\"there\"\u001b[0m\u001b[1;33m,\u001b[0m \u001b[1;34m\"are\"\u001b[0m\u001b[1;33m,\u001b[0m \u001b[0mkwarg2\u001b[0m\u001b[1;33m=\u001b[0m\u001b[1;34m\"problems\"\u001b[0m\u001b[1;33m)\u001b[0m\u001b[1;33m\u001b[0m\u001b[1;33m\u001b[0m\u001b[0m\n\u001b[0m",
      "\u001b[1;32m<ipython-input-45-eade1b218b8d>\u001b[0m in \u001b[0;36mwrapper\u001b[1;34m(*args, **kwargs)\u001b[0m\n\u001b[0;32m      2\u001b[0m     \u001b[1;32mdef\u001b[0m \u001b[0mwrapper\u001b[0m\u001b[1;33m(\u001b[0m\u001b[1;33m*\u001b[0m\u001b[0margs\u001b[0m\u001b[1;33m,\u001b[0m \u001b[1;33m**\u001b[0m\u001b[0mkwargs\u001b[0m\u001b[1;33m)\u001b[0m\u001b[1;33m:\u001b[0m\u001b[1;33m\u001b[0m\u001b[1;33m\u001b[0m\u001b[0m\n\u001b[0;32m      3\u001b[0m         \u001b[0mprint\u001b[0m\u001b[1;33m(\u001b[0m\u001b[1;34m\"before closure func is called\"\u001b[0m\u001b[1;33m)\u001b[0m\u001b[1;33m\u001b[0m\u001b[1;33m\u001b[0m\u001b[0m\n\u001b[1;32m----> 4\u001b[1;33m         \u001b[0mfunc\u001b[0m\u001b[1;33m(\u001b[0m\u001b[1;33m*\u001b[0m\u001b[0margs\u001b[0m\u001b[1;33m,\u001b[0m \u001b[1;33m**\u001b[0m\u001b[0mkwargs\u001b[0m\u001b[1;33m)\u001b[0m\u001b[1;33m\u001b[0m\u001b[1;33m\u001b[0m\u001b[0m\n\u001b[0m\u001b[0;32m      5\u001b[0m         \u001b[0mprint\u001b[0m\u001b[1;33m(\u001b[0m\u001b[1;34m\"after closure func is called\"\u001b[0m\u001b[1;33m)\u001b[0m\u001b[1;33m\u001b[0m\u001b[1;33m\u001b[0m\u001b[0m\n\u001b[0;32m      6\u001b[0m     \u001b[1;32mreturn\u001b[0m \u001b[0mwrapper\u001b[0m\u001b[1;33m\u001b[0m\u001b[1;33m\u001b[0m\u001b[0m\n",
      "\u001b[1;31mTypeError\u001b[0m: inner_func() got an unexpected keyword argument 'kwarg2'"
     ]
    }
   ],
   "source": [
    "inner_func(\"there\", \"are\", kwarg2=\"problems\")"
   ]
  },
  {
   "cell_type": "markdown",
   "metadata": {},
   "source": [
    "### Mutiple Decorators\n",
    "> Mutiple decorators can be stacked to be applied to a function"
   ]
  },
  {
   "cell_type": "code",
   "execution_count": 80,
   "metadata": {
    "execution": {
     "iopub.execute_input": "2021-09-06T13:06:28.957221Z",
     "iopub.status.busy": "2021-09-06T13:06:28.957221Z",
     "iopub.status.idle": "2021-09-06T13:06:28.976217Z",
     "shell.execute_reply": "2021-09-06T13:06:28.975218Z",
     "shell.execute_reply.started": "2021-09-06T13:06:28.957221Z"
    }
   },
   "outputs": [],
   "source": [
    "import time\n",
    "\n",
    "def decorate_exectime(func):\n",
    "    def wrapper(*args, **kwargs):\n",
    "        now = time.time()  \n",
    "        func(*args, **kwargs)\n",
    "        print(f\"elabpsed time {time.time() - now} seconds\")\n",
    "    return wrapper"
   ]
  },
  {
   "cell_type": "code",
   "execution_count": 51,
   "metadata": {
    "execution": {
     "iopub.execute_input": "2021-09-06T11:44:15.718073Z",
     "iopub.status.busy": "2021-09-06T11:44:15.717071Z",
     "iopub.status.idle": "2021-09-06T11:44:15.732071Z",
     "shell.execute_reply": "2021-09-06T11:44:15.731065Z",
     "shell.execute_reply.started": "2021-09-06T11:44:15.718073Z"
    }
   },
   "outputs": [],
   "source": [
    "def decorate_showargs(func):\n",
    "    def wrapper(*args, **kwargs):\n",
    "        print(f\"{args}, {kwargs}\")\n",
    "        func(*args, **kwargs)\n",
    "    return wrapper              "
   ]
  },
  {
   "cell_type": "code",
   "execution_count": 52,
   "metadata": {
    "execution": {
     "iopub.execute_input": "2021-09-06T11:44:15.895055Z",
     "iopub.status.busy": "2021-09-06T11:44:15.894054Z",
     "iopub.status.idle": "2021-09-06T11:44:15.908078Z",
     "shell.execute_reply": "2021-09-06T11:44:15.907064Z",
     "shell.execute_reply.started": "2021-09-06T11:44:15.895055Z"
    }
   },
   "outputs": [],
   "source": [
    "@decorate_exectime\n",
    "@decorate_showargs\n",
    "def inner_func():\n",
    "    print(\"inner_function is exccuted...\")"
   ]
  },
  {
   "cell_type": "code",
   "execution_count": 53,
   "metadata": {
    "execution": {
     "iopub.execute_input": "2021-09-06T11:44:16.079162Z",
     "iopub.status.busy": "2021-09-06T11:44:16.078166Z",
     "iopub.status.idle": "2021-09-06T11:44:16.098165Z",
     "shell.execute_reply": "2021-09-06T11:44:16.097166Z",
     "shell.execute_reply.started": "2021-09-06T11:44:16.079162Z"
    }
   },
   "outputs": [
    {
     "name": "stdout",
     "output_type": "stream",
     "text": [
      "(), {}\n",
      "inner_function is exccuted...\n",
      "elabpsed time 0:00:00.001000 seconds\n"
     ]
    }
   ],
   "source": [
    "inner_func()"
   ]
  },
  {
   "cell_type": "markdown",
   "metadata": {},
   "source": [
    "### Decorators with its own arguments\n",
    "> if we can give arguments to the decorator function itself, the decorator will be much powerful"
   ]
  },
  {
   "cell_type": "code",
   "execution_count": 54,
   "metadata": {
    "execution": {
     "iopub.execute_input": "2021-09-06T11:44:16.457503Z",
     "iopub.status.busy": "2021-09-06T11:44:16.456485Z",
     "iopub.status.idle": "2021-09-06T11:44:16.463485Z",
     "shell.execute_reply": "2021-09-06T11:44:16.462495Z",
     "shell.execute_reply.started": "2021-09-06T11:44:16.457503Z"
    }
   },
   "outputs": [],
   "source": [
    "# wrong way\n",
    "\n",
    "def decorate_mychoice(func, args):\n",
    "    def wrapper(*args, **kwargs):\n",
    "        result = func()\n",
    "        if args == 'first':\n",
    "            choice = result[0]\n",
    "        elif (args == 'second'):\n",
    "            choice = result[1]\n",
    "        else:\n",
    "            choice = result\n",
    "    return wrapper"
   ]
  },
  {
   "cell_type": "code",
   "execution_count": 55,
   "metadata": {
    "execution": {
     "iopub.execute_input": "2021-09-06T11:44:16.652484Z",
     "iopub.status.busy": "2021-09-06T11:44:16.651485Z",
     "iopub.status.idle": "2021-09-06T11:44:16.672484Z",
     "shell.execute_reply": "2021-09-06T11:44:16.670496Z",
     "shell.execute_reply.started": "2021-09-06T11:44:16.652484Z"
    }
   },
   "outputs": [
    {
     "ename": "TypeError",
     "evalue": "decorate_mychoice() missing 1 required positional argument: 'args'",
     "output_type": "error",
     "traceback": [
      "\u001b[1;31m---------------------------------------------------------------------------\u001b[0m",
      "\u001b[1;31mTypeError\u001b[0m                                 Traceback (most recent call last)",
      "\u001b[1;32m<ipython-input-55-a34f79e9d218>\u001b[0m in \u001b[0;36m<module>\u001b[1;34m\u001b[0m\n\u001b[1;32m----> 1\u001b[1;33m \u001b[1;33m@\u001b[0m\u001b[0mdecorate_mychoice\u001b[0m\u001b[1;33m(\u001b[0m\u001b[1;34m'first'\u001b[0m\u001b[1;33m)\u001b[0m\u001b[1;33m\u001b[0m\u001b[1;33m\u001b[0m\u001b[0m\n\u001b[0m\u001b[0;32m      2\u001b[0m \u001b[1;32mdef\u001b[0m \u001b[0mreturn_two_choice\u001b[0m\u001b[1;33m(\u001b[0m\u001b[1;33m)\u001b[0m\u001b[1;33m:\u001b[0m\u001b[1;33m\u001b[0m\u001b[1;33m\u001b[0m\u001b[0m\n\u001b[0;32m      3\u001b[0m     \u001b[1;32mreturn\u001b[0m \u001b[1;33m(\u001b[0m\u001b[1;32mTrue\u001b[0m\u001b[1;33m,\u001b[0m \u001b[1;32mFalse\u001b[0m\u001b[1;33m)\u001b[0m\u001b[1;33m\u001b[0m\u001b[1;33m\u001b[0m\u001b[0m\n",
      "\u001b[1;31mTypeError\u001b[0m: decorate_mychoice() missing 1 required positional argument: 'args'"
     ]
    }
   ],
   "source": [
    "@decorate_mychoice('first')\n",
    "def return_two_choice():\n",
    "    return (True, False)"
   ]
  },
  {
   "cell_type": "code",
   "execution_count": null,
   "metadata": {},
   "outputs": [],
   "source": []
  },
  {
   "cell_type": "code",
   "execution_count": 56,
   "metadata": {
    "execution": {
     "iopub.execute_input": "2021-09-06T11:44:17.035468Z",
     "iopub.status.busy": "2021-09-06T11:44:17.034469Z",
     "iopub.status.idle": "2021-09-06T11:44:17.051485Z",
     "shell.execute_reply": "2021-09-06T11:44:17.050482Z",
     "shell.execute_reply.started": "2021-09-06T11:44:17.035468Z"
    }
   },
   "outputs": [],
   "source": [
    "# correct way - similar to multiple decorators\n",
    "\n",
    "def decorate_mychoice(command):\n",
    "    def decorator(func):\n",
    "        def wrapper(*args, **kwargs):\n",
    "            result = func()\n",
    "            if command == 'first':\n",
    "                choice = result[0]\n",
    "            elif command == 'second':\n",
    "                choice = result[1]\n",
    "            else:\n",
    "                choice = result\n",
    "            return choice\n",
    "        return wrapper\n",
    "    return decorator"
   ]
  },
  {
   "cell_type": "code",
   "execution_count": 57,
   "metadata": {
    "execution": {
     "iopub.execute_input": "2021-09-06T11:44:17.460291Z",
     "iopub.status.busy": "2021-09-06T11:44:17.459278Z",
     "iopub.status.idle": "2021-09-06T11:44:17.474278Z",
     "shell.execute_reply": "2021-09-06T11:44:17.473290Z",
     "shell.execute_reply.started": "2021-09-06T11:44:17.460291Z"
    }
   },
   "outputs": [],
   "source": [
    "@decorate_mychoice('first')\n",
    "def return_two_choice():\n",
    "    return (True, False)"
   ]
  },
  {
   "cell_type": "code",
   "execution_count": 58,
   "metadata": {
    "execution": {
     "iopub.execute_input": "2021-09-06T11:44:17.668482Z",
     "iopub.status.busy": "2021-09-06T11:44:17.668482Z",
     "iopub.status.idle": "2021-09-06T11:44:17.679475Z",
     "shell.execute_reply": "2021-09-06T11:44:17.678467Z",
     "shell.execute_reply.started": "2021-09-06T11:44:17.668482Z"
    }
   },
   "outputs": [
    {
     "data": {
      "text/plain": [
       "True"
      ]
     },
     "execution_count": 58,
     "metadata": {},
     "output_type": "execute_result"
    }
   ],
   "source": [
    "return_two_choice()"
   ]
  },
  {
   "cell_type": "markdown",
   "metadata": {},
   "source": [
    "### @wraps retain functin metatdata\n",
    "> due to decoration, the decorated function's metadata is changed"
   ]
  },
  {
   "cell_type": "code",
   "execution_count": 59,
   "metadata": {
    "execution": {
     "iopub.execute_input": "2021-09-06T11:44:18.114810Z",
     "iopub.status.busy": "2021-09-06T11:44:18.114810Z",
     "iopub.status.idle": "2021-09-06T11:44:18.135809Z",
     "shell.execute_reply": "2021-09-06T11:44:18.134819Z",
     "shell.execute_reply.started": "2021-09-06T11:44:18.114810Z"
    }
   },
   "outputs": [],
   "source": [
    "def decorate(func):\n",
    "    \"\"\" decorator function \"\"\"\n",
    "    def wrapper(*args, **kwargs):\n",
    "        \"\"\" wrapper function \"\"\"\n",
    "        print(\"before the exec of decorated function \")\n",
    "        func(*args, **kwargs)\n",
    "        print(\"after the exec of decorated function \")\n",
    "    return wrapper"
   ]
  },
  {
   "cell_type": "code",
   "execution_count": 60,
   "metadata": {
    "execution": {
     "iopub.execute_input": "2021-09-06T11:44:18.570620Z",
     "iopub.status.busy": "2021-09-06T11:44:18.570620Z",
     "iopub.status.idle": "2021-09-06T11:44:18.588621Z",
     "shell.execute_reply": "2021-09-06T11:44:18.587617Z",
     "shell.execute_reply.started": "2021-09-06T11:44:18.570620Z"
    }
   },
   "outputs": [],
   "source": [
    "def inner_func():\n",
    "    print(\"inner_func is beging executed...\")        "
   ]
  },
  {
   "cell_type": "code",
   "execution_count": 61,
   "metadata": {
    "execution": {
     "iopub.execute_input": "2021-09-06T11:44:18.956037Z",
     "iopub.status.busy": "2021-09-06T11:44:18.955030Z",
     "iopub.status.idle": "2021-09-06T11:44:18.967045Z",
     "shell.execute_reply": "2021-09-06T11:44:18.966038Z",
     "shell.execute_reply.started": "2021-09-06T11:44:18.956037Z"
    }
   },
   "outputs": [
    {
     "data": {
      "text/plain": [
       "<function __main__.inner_func()>"
      ]
     },
     "execution_count": 61,
     "metadata": {},
     "output_type": "execute_result"
    }
   ],
   "source": [
    "inner_func"
   ]
  },
  {
   "cell_type": "code",
   "execution_count": 62,
   "metadata": {
    "execution": {
     "iopub.execute_input": "2021-09-06T11:44:19.147361Z",
     "iopub.status.busy": "2021-09-06T11:44:19.147361Z",
     "iopub.status.idle": "2021-09-06T11:44:19.157360Z",
     "shell.execute_reply": "2021-09-06T11:44:19.156370Z",
     "shell.execute_reply.started": "2021-09-06T11:44:19.147361Z"
    }
   },
   "outputs": [],
   "source": [
    "@decorate\n",
    "def inner_func():\n",
    "    print(\"inner_func is beging executed...\")        "
   ]
  },
  {
   "cell_type": "code",
   "execution_count": 63,
   "metadata": {
    "execution": {
     "iopub.execute_input": "2021-09-06T11:44:19.372377Z",
     "iopub.status.busy": "2021-09-06T11:44:19.372377Z",
     "iopub.status.idle": "2021-09-06T11:44:19.381370Z",
     "shell.execute_reply": "2021-09-06T11:44:19.380360Z",
     "shell.execute_reply.started": "2021-09-06T11:44:19.372377Z"
    }
   },
   "outputs": [
    {
     "data": {
      "text/plain": [
       "<function __main__.decorate.<locals>.wrapper(*args, **kwargs)>"
      ]
     },
     "execution_count": 63,
     "metadata": {},
     "output_type": "execute_result"
    }
   ],
   "source": [
    "inner_func"
   ]
  },
  {
   "cell_type": "markdown",
   "metadata": {},
   "source": [
    "<b>@wraps from functools is the solution to the above case"
   ]
  },
  {
   "cell_type": "code",
   "execution_count": 64,
   "metadata": {
    "execution": {
     "iopub.execute_input": "2021-09-06T11:44:21.693428Z",
     "iopub.status.busy": "2021-09-06T11:44:21.692422Z",
     "iopub.status.idle": "2021-09-06T11:44:21.714419Z",
     "shell.execute_reply": "2021-09-06T11:44:21.713418Z",
     "shell.execute_reply.started": "2021-09-06T11:44:21.693428Z"
    }
   },
   "outputs": [],
   "source": [
    "from functools import wraps\n",
    "\n",
    "def decorate(func):\n",
    "    \"\"\" decorator function \"\"\"\n",
    "    @wraps(func)\n",
    "    def wrapper(*args, **kwargs):\n",
    "        \"\"\" wrapper function \"\"\"\n",
    "        print(\"before the exec of decorated function \")\n",
    "        func(*args, **kwargs)\n",
    "        print(\"after the exec of decorated function \")\n",
    "    return wrapper"
   ]
  },
  {
   "cell_type": "code",
   "execution_count": 65,
   "metadata": {
    "execution": {
     "iopub.execute_input": "2021-09-06T11:44:21.901418Z",
     "iopub.status.busy": "2021-09-06T11:44:21.901418Z",
     "iopub.status.idle": "2021-09-06T11:44:21.920418Z",
     "shell.execute_reply": "2021-09-06T11:44:21.919417Z",
     "shell.execute_reply.started": "2021-09-06T11:44:21.901418Z"
    }
   },
   "outputs": [],
   "source": [
    "@decorate\n",
    "def inner_func():\n",
    "    print(\"inner_func is beging executed...\")        "
   ]
  },
  {
   "cell_type": "code",
   "execution_count": 66,
   "metadata": {
    "execution": {
     "iopub.execute_input": "2021-09-06T11:44:22.134419Z",
     "iopub.status.busy": "2021-09-06T11:44:22.133420Z",
     "iopub.status.idle": "2021-09-06T11:44:22.144417Z",
     "shell.execute_reply": "2021-09-06T11:44:22.142417Z",
     "shell.execute_reply.started": "2021-09-06T11:44:22.133420Z"
    }
   },
   "outputs": [
    {
     "data": {
      "text/plain": [
       "<function __main__.inner_func()>"
      ]
     },
     "execution_count": 66,
     "metadata": {},
     "output_type": "execute_result"
    }
   ],
   "source": [
    "inner_func"
   ]
  },
  {
   "cell_type": "markdown",
   "metadata": {},
   "source": [
    "## Quzz\n",
    "- design a decorator which print the execution time, in seconds or minutes according to the decorator arguments\n",
    "- hint) start = datetime.datetime.now(), elapsed = datetime.datetime.now()-start, elapsed.total_seconds()"
   ]
  },
  {
   "cell_type": "code",
   "execution_count": null,
   "metadata": {},
   "outputs": [],
   "source": [
    "def measure_elapsed_time('s'):  # 's' or 'ms' \n",
    "    ????\n",
    "    ????\n",
    "    ????"
   ]
  },
  {
   "cell_type": "code",
   "execution_count": null,
   "metadata": {
    "execution": {
     "iopub.execute_input": "2021-09-06T13:11:02.041770Z",
     "iopub.status.busy": "2021-09-06T13:11:02.041770Z",
     "iopub.status.idle": "2021-09-06T13:11:02.054754Z",
     "shell.execute_reply": "2021-09-06T13:11:02.053766Z",
     "shell.execute_reply.started": "2021-09-06T13:11:02.041770Z"
    }
   },
   "outputs": [],
   "source": [
    "@measure_elapsed_time('ms')\n",
    "def inner_func(n):\n",
    "    for i in range(n):\n",
    "        continue"
   ]
  },
  {
   "cell_type": "markdown",
   "metadata": {},
   "source": [
    "# Today's Tip"
   ]
  },
  {
   "cell_type": "markdown",
   "metadata": {},
   "source": [
    "### When you are writing code yourself, and also you import the code into your notebook.\n",
    " You have to restart the kerenel or re-import the module via importlib \n",
    " \n",
    " his is only a problem when the source code changes after you start the kernel — essentially only when you are writing code yourself, external to the notebook. "
   ]
  },
  {
   "cell_type": "code",
   "execution_count": null,
   "metadata": {
    "execution": {
     "iopub.execute_input": "2021-09-06T13:20:44.853783Z",
     "iopub.status.busy": "2021-09-06T13:20:44.853783Z",
     "iopub.status.idle": "2021-09-06T13:20:44.875783Z",
     "shell.execute_reply": "2021-09-06T13:20:44.873780Z",
     "shell.execute_reply.started": "2021-09-06T13:20:44.853783Z"
    }
   },
   "outputs": [],
   "source": [
    "# normal way\n",
    "import importlib\n",
    "importlib.reload('under_edit_module')"
   ]
  },
  {
   "cell_type": "code",
   "execution_count": 84,
   "metadata": {
    "execution": {
     "iopub.execute_input": "2021-09-06T13:21:33.979944Z",
     "iopub.status.busy": "2021-09-06T13:21:33.979944Z",
     "iopub.status.idle": "2021-09-06T13:21:34.254944Z",
     "shell.execute_reply": "2021-09-06T13:21:34.253951Z",
     "shell.execute_reply.started": "2021-09-06T13:21:33.979944Z"
    }
   },
   "outputs": [],
   "source": [
    "# simpler way\n",
    "%load_ext autoreload\n",
    "%autoreload 2"
   ]
  }
 ],
 "metadata": {
  "kernelspec": {
   "display_name": "Python 3",
   "language": "python",
   "name": "python3"
  },
  "language_info": {
   "codemirror_mode": {
    "name": "ipython",
    "version": 3
   },
   "file_extension": ".py",
   "mimetype": "text/x-python",
   "name": "python",
   "nbconvert_exporter": "python",
   "pygments_lexer": "ipython3",
   "version": "3.7.8"
  }
 },
 "nbformat": 4,
 "nbformat_minor": 4
}
