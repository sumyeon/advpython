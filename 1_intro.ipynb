{
 "cells": [
  {
   "cell_type": "code",
   "execution_count": null,
   "metadata": {},
   "outputs": [],
   "source": []
  },
  {
   "cell_type": "code",
   "execution_count": null,
   "metadata": {},
   "outputs": [],
   "source": []
  },
  {
   "cell_type": "code",
   "execution_count": null,
   "metadata": {},
   "outputs": [],
   "source": [
    "\t- How to install python\n",
    "\t- Console, Jupyter, PyCharm, Anaconda, etc.\n",
    "\t- How to use pip\n",
    "\t\t- pip list/update/install/delete\n",
    "\t\t\t- how to install from local file\n",
    "\t\t- proxy\n",
    "\t\t- --trusted-host\n",
    "\t- Major versions\n",
    "\t\t- 2.x vs. 3.x\n",
    "\t\t- print vs. print()\n",
    "\t- Language Features\n",
    "\t\t- types\n",
    "\t\t\tint, float, complex\n",
    "\t\t\tstructureslist, tuple, dict, ragne\n",
    "\t\t\tset, frozenset\n",
    "\t\t\tbool\n",
    "\t\t\tbytes, bytearray, memoryview\n",
    "\t\t- data structures\n",
    "\t\t\tdictionary, set, list, tuple"
   ]
  },
  {
   "cell_type": "code",
   "execution_count": null,
   "metadata": {},
   "outputs": [],
   "source": []
  }
 ],
 "metadata": {
  "kernelspec": {
   "display_name": "Python 3",
   "language": "python",
   "name": "python3"
  },
  "language_info": {
   "codemirror_mode": {
    "name": "ipython",
    "version": 3
   },
   "file_extension": ".py",
   "mimetype": "text/x-python",
   "name": "python",
   "nbconvert_exporter": "python",
   "pygments_lexer": "ipython3",
   "version": "3.7.8"
  }
 },
 "nbformat": 4,
 "nbformat_minor": 4
}
