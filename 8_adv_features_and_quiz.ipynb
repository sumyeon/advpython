{
 "cells": [
  {
   "cell_type": "markdown",
   "metadata": {
    "execution": {
     "iopub.execute_input": "2021-09-01T07:17:17.571570Z",
     "iopub.status.busy": "2021-09-01T07:17:17.570576Z",
     "iopub.status.idle": "2021-09-01T07:17:17.585569Z",
     "shell.execute_reply": "2021-09-01T07:17:17.584584Z",
     "shell.execute_reply.started": "2021-09-01T07:17:17.571570Z"
    }
   },
   "source": [
    "<font size=6> <b> Advanced Python : week #9</b> </font>\n",
    "<div class=\"alert alert-block alert-success\">\n",
    "   Advanced Python features <br>\n",
    "    <ol>\n",
    "        <li> AST </li>\n",
    "        <li> dis </li>\n",
    "        <li> f-String formatting </li>\n",
    "        <li> String encoding </li>\n",
    "    </ol>\n",
    "    <br>\n",
    "    Quiz <br>\n",
    "</div>\n",
    "\n",
    "<p style=\"text-align:right;\"> sumyeon@gmail.com </p>"
   ]
  },
  {
   "cell_type": "markdown",
   "metadata": {},
   "source": [
    "# Abstract Syntax Tree (AST)"
   ]
  },
  {
   "cell_type": "code",
   "execution_count": 19,
   "metadata": {
    "execution": {
     "iopub.execute_input": "2021-10-26T11:45:15.641865Z",
     "iopub.status.busy": "2021-10-26T11:45:15.640862Z",
     "iopub.status.idle": "2021-10-26T11:45:15.655862Z",
     "shell.execute_reply": "2021-10-26T11:45:15.654860Z",
     "shell.execute_reply.started": "2021-10-26T11:45:15.641865Z"
    }
   },
   "outputs": [],
   "source": [
    "dict_in_string = '{\"first\":100, \"second\":200, \"third\": 300}'"
   ]
  },
  {
   "cell_type": "code",
   "execution_count": 20,
   "metadata": {
    "execution": {
     "iopub.execute_input": "2021-10-26T11:45:16.140124Z",
     "iopub.status.busy": "2021-10-26T11:45:16.140124Z",
     "iopub.status.idle": "2021-10-26T11:45:16.154120Z",
     "shell.execute_reply": "2021-10-26T11:45:16.153130Z",
     "shell.execute_reply.started": "2021-10-26T11:45:16.140124Z"
    }
   },
   "outputs": [
    {
     "data": {
      "text/plain": [
       "100"
      ]
     },
     "execution_count": 20,
     "metadata": {},
     "output_type": "execute_result"
    }
   ],
   "source": [
    "import json\n",
    "\n",
    "mydict = json.loads(dict_in_string)\n",
    "mydict['first']"
   ]
  },
  {
   "cell_type": "code",
   "execution_count": 21,
   "metadata": {
    "execution": {
     "iopub.execute_input": "2021-10-26T11:45:16.658799Z",
     "iopub.status.busy": "2021-10-26T11:45:16.658799Z",
     "iopub.status.idle": "2021-10-26T11:45:16.666784Z",
     "shell.execute_reply": "2021-10-26T11:45:16.665784Z",
     "shell.execute_reply.started": "2021-10-26T11:45:16.658799Z"
    }
   },
   "outputs": [
    {
     "data": {
      "text/plain": [
       "100"
      ]
     },
     "execution_count": 21,
     "metadata": {},
     "output_type": "execute_result"
    }
   ],
   "source": [
    "import ast\n",
    "\n",
    "mydict = ast.literal_eval(dict_in_string2)\n",
    "mydict['first']"
   ]
  },
  {
   "cell_type": "code",
   "execution_count": 22,
   "metadata": {
    "execution": {
     "iopub.execute_input": "2021-10-26T11:45:17.163253Z",
     "iopub.status.busy": "2021-10-26T11:45:17.162256Z",
     "iopub.status.idle": "2021-10-26T11:45:17.180237Z",
     "shell.execute_reply": "2021-10-26T11:45:17.179251Z",
     "shell.execute_reply.started": "2021-10-26T11:45:17.163253Z"
    }
   },
   "outputs": [
    {
     "data": {
      "text/plain": [
       "100"
      ]
     },
     "execution_count": 22,
     "metadata": {},
     "output_type": "execute_result"
    }
   ],
   "source": [
    "mydict = eval(dict_in_string2)\n",
    "mydict['first']"
   ]
  },
  {
   "cell_type": "markdown",
   "metadata": {},
   "source": [
    "# dis Module\n",
    "- diassembler for Python bytecode"
   ]
  },
  {
   "cell_type": "code",
   "execution_count": 109,
   "metadata": {
    "execution": {
     "iopub.execute_input": "2021-10-27T13:03:46.382363Z",
     "iopub.status.busy": "2021-10-27T13:03:46.381363Z",
     "iopub.status.idle": "2021-10-27T13:03:46.401363Z",
     "shell.execute_reply": "2021-10-27T13:03:46.400366Z",
     "shell.execute_reply.started": "2021-10-27T13:03:46.382363Z"
    }
   },
   "outputs": [],
   "source": [
    "from dis import dis"
   ]
  },
  {
   "cell_type": "code",
   "execution_count": 112,
   "metadata": {
    "execution": {
     "iopub.execute_input": "2021-10-27T13:19:37.360008Z",
     "iopub.status.busy": "2021-10-27T13:19:37.360008Z",
     "iopub.status.idle": "2021-10-27T13:19:37.378992Z",
     "shell.execute_reply": "2021-10-27T13:19:37.378001Z",
     "shell.execute_reply.started": "2021-10-27T13:19:37.360008Z"
    }
   },
   "outputs": [
    {
     "name": "stdout",
     "output_type": "stream",
     "text": [
      "  1           0 LOAD_NAME                0 (a)\n",
      "              2 LOAD_CONST               0 (2)\n",
      "              4 INPLACE_ADD\n",
      "              6 STORE_NAME               0 (a)\n",
      "              8 LOAD_CONST               1 (None)\n",
      "             10 RETURN_VALUE\n"
     ]
    }
   ],
   "source": [
    "dis(\"a += 2\")"
   ]
  },
  {
   "cell_type": "code",
   "execution_count": 113,
   "metadata": {
    "execution": {
     "iopub.execute_input": "2021-10-27T13:19:47.532582Z",
     "iopub.status.busy": "2021-10-27T13:19:47.532582Z",
     "iopub.status.idle": "2021-10-27T13:19:47.542581Z",
     "shell.execute_reply": "2021-10-27T13:19:47.541581Z",
     "shell.execute_reply.started": "2021-10-27T13:19:47.532582Z"
    }
   },
   "outputs": [
    {
     "name": "stdout",
     "output_type": "stream",
     "text": [
      "  1           0 LOAD_NAME                0 (a)\n",
      "              2 LOAD_CONST               0 (2)\n",
      "              4 BINARY_ADD\n",
      "              6 STORE_NAME               0 (a)\n",
      "              8 LOAD_CONST               1 (None)\n",
      "             10 RETURN_VALUE\n"
     ]
    }
   ],
   "source": [
    "dis(\"a = a+ 2\")"
   ]
  },
  {
   "cell_type": "code",
   "execution_count": 111,
   "metadata": {
    "execution": {
     "iopub.execute_input": "2021-10-27T13:05:23.718464Z",
     "iopub.status.busy": "2021-10-27T13:05:23.718464Z",
     "iopub.status.idle": "2021-10-27T13:05:23.749465Z",
     "shell.execute_reply": "2021-10-27T13:05:23.748465Z",
     "shell.execute_reply.started": "2021-10-27T13:05:23.718464Z"
    }
   },
   "outputs": [
    {
     "name": "stdout",
     "output_type": "stream",
     "text": [
      "  2           0 LOAD_FAST                0 (a)\n",
      "              2 LOAD_FAST                1 (b)\n",
      "              4 BINARY_ADD\n",
      "              6 RETURN_VALUE\n"
     ]
    }
   ],
   "source": [
    "def sum(a,b):\n",
    "    return a+b\n",
    "\n",
    "dis(sum)"
   ]
  },
  {
   "cell_type": "markdown",
   "metadata": {},
   "source": [
    "# f-String Formatting"
   ]
  },
  {
   "cell_type": "code",
   "execution_count": 101,
   "metadata": {
    "execution": {
     "iopub.execute_input": "2021-10-27T12:57:31.674117Z",
     "iopub.status.busy": "2021-10-27T12:57:31.673116Z",
     "iopub.status.idle": "2021-10-27T12:57:31.693117Z",
     "shell.execute_reply": "2021-10-27T12:57:31.692119Z",
     "shell.execute_reply.started": "2021-10-27T12:57:31.674117Z"
    }
   },
   "outputs": [
    {
     "name": "stdout",
     "output_type": "stream",
     "text": [
      "80\n",
      "200\n",
      "1.280000e+02\n",
      "128\n",
      "12800.000000%\n"
     ]
    }
   ],
   "source": [
    "a = 128\n",
    "\n",
    "print(f\"{a:x}\")\n",
    "print(f\"{a:o}\")\n",
    "print(f\"{a:e}\")\n",
    "print(f\"{a:d}\")\n",
    "print(f\"{a:%}\")"
   ]
  },
  {
   "cell_type": "code",
   "execution_count": 94,
   "metadata": {
    "execution": {
     "iopub.execute_input": "2021-10-27T12:53:14.059209Z",
     "iopub.status.busy": "2021-10-27T12:53:14.059209Z",
     "iopub.status.idle": "2021-10-27T12:53:14.068200Z",
     "shell.execute_reply": "2021-10-27T12:53:14.067209Z",
     "shell.execute_reply.started": "2021-10-27T12:53:14.059209Z"
    }
   },
   "outputs": [
    {
     "name": "stdout",
     "output_type": "stream",
     "text": [
      "|10.3000 | 10.3000000|\n",
      "|10.3000 | 10.3000000|\n",
      "|   10.3000 | 10.3000000|\n"
     ]
    }
   ],
   "source": [
    "a = 10.3\n",
    "\n",
    "print(f'|{a:.4f} | {a:.7f}|')\n",
    "print(f'|{a:5.4f} | {a:5.7f}|')\n",
    "print(f'|{a:10.4f} | {a:10.7f}|')"
   ]
  },
  {
   "cell_type": "code",
   "execution_count": 83,
   "metadata": {
    "execution": {
     "iopub.execute_input": "2021-10-27T12:49:24.560469Z",
     "iopub.status.busy": "2021-10-27T12:49:24.559469Z",
     "iopub.status.idle": "2021-10-27T12:49:24.573468Z",
     "shell.execute_reply": "2021-10-27T12:49:24.572469Z",
     "shell.execute_reply.started": "2021-10-27T12:49:24.560469Z"
    }
   },
   "outputs": [
    {
     "name": "stdout",
     "output_type": "stream",
     "text": [
      "2021-10-27 21:49:24\n"
     ]
    }
   ],
   "source": [
    "import datetime\n",
    "\n",
    "now = datetime.datetime.now()\n",
    "print(f'{now:%Y-%m-%d %H:%M:%S}')"
   ]
  },
  {
   "cell_type": "code",
   "execution_count": 86,
   "metadata": {
    "execution": {
     "iopub.execute_input": "2021-10-27T12:50:53.479974Z",
     "iopub.status.busy": "2021-10-27T12:50:53.479974Z",
     "iopub.status.idle": "2021-10-27T12:50:53.497984Z",
     "shell.execute_reply": "2021-10-27T12:50:53.496972Z",
     "shell.execute_reply.started": "2021-10-27T12:50:53.479974Z"
    }
   },
   "outputs": [
    {
     "name": "stdout",
     "output_type": "stream",
     "text": [
      "|         a |       abcd|\n",
      "|a          | abcd      |\n",
      "|    a      |    abcd   |\n"
     ]
    }
   ],
   "source": [
    "a = 'a'\n",
    "b = 'abcd'\n",
    "\n",
    "print(f'|{a:>10} | {b:>10}|')\n",
    "print(f'|{a:<10} | {b:<10}|')\n",
    "print(f'|{a:^10} | {b:^10}|')"
   ]
  },
  {
   "cell_type": "code",
   "execution_count": 107,
   "metadata": {
    "execution": {
     "iopub.execute_input": "2021-10-27T13:02:44.803217Z",
     "iopub.status.busy": "2021-10-27T13:02:44.802219Z",
     "iopub.status.idle": "2021-10-27T13:02:44.826217Z",
     "shell.execute_reply": "2021-10-27T13:02:44.824220Z",
     "shell.execute_reply.started": "2021-10-27T13:02:44.803217Z"
    }
   },
   "outputs": [
    {
     "name": "stdout",
     "output_type": "stream",
     "text": [
      "|       123 |       -123|\n",
      "|123        | -123      |\n",
      "|   123     |    -123   |\n",
      "|       123 | -      123|\n"
     ]
    }
   ],
   "source": [
    "a = 123\n",
    "b = -123\n",
    "\n",
    "print(f'|{a:>10} | {b:>10}|')\n",
    "print(f'|{a:<10} | {b:<10}|')\n",
    "print(f'|{a:^10} | {b:^10}|')\n",
    "print(f'|{a:=10} | {b:=10}|')"
   ]
  },
  {
   "cell_type": "code",
   "execution_count": 108,
   "metadata": {
    "execution": {
     "iopub.execute_input": "2021-10-27T13:03:01.660219Z",
     "iopub.status.busy": "2021-10-27T13:03:01.659218Z",
     "iopub.status.idle": "2021-10-27T13:03:01.671217Z",
     "shell.execute_reply": "2021-10-27T13:03:01.670217Z",
     "shell.execute_reply.started": "2021-10-27T13:03:01.660219Z"
    }
   },
   "outputs": [
    {
     "name": "stdout",
     "output_type": "stream",
     "text": [
      "  10_000_000.23\n",
      "  10,000,000.23\n"
     ]
    }
   ],
   "source": [
    "a = 10000000.23\n",
    "print(f'{a:>15_.2f}')\n",
    "print(f'{a:>15,.2f}')"
   ]
  },
  {
   "cell_type": "markdown",
   "metadata": {},
   "source": [
    "# String encoding"
   ]
  },
  {
   "cell_type": "markdown",
   "metadata": {},
   "source": [
    "### an article to read\n",
    "https://www.joelonsoftware.com/2003/10/08/the-absolute-minimum-every-software-developer-absolutely-positively-must-know-about-unicode-and-character-sets-no-excuses/"
   ]
  },
  {
   "cell_type": "markdown",
   "metadata": {},
   "source": [
    "### Unicode vs. Encoding"
   ]
  },
  {
   "cell_type": "markdown",
   "metadata": {},
   "source": [
    "<img src=\"https://1.bp.blogspot.com/-JuYeQkciy8M/VONAHQHLobI/AAAAAAAACgU/oTZHsbN73js/w597-h328/Character%2BEncoding%2C%2BConverting%2BByte%2Barray%2Bto%2BString%2Bin%2BJava.png\" />"
   ]
  },
  {
   "cell_type": "markdown",
   "metadata": {},
   "source": [
    "### Unicode BOM (Byte Order Mark)\n",
    "- help to determine whether a string is stored as Big or Little endian "
   ]
  },
  {
   "cell_type": "markdown",
   "metadata": {},
   "source": [
    "<img src=\"http://taswar.zeytinsoft.com/wp-content/uploads/2013/10/bom.png\"/>"
   ]
  },
  {
   "cell_type": "markdown",
   "metadata": {},
   "source": [
    "### popular encoding\n",
    "- UTF-8 or ASCII or ISO 8859-1 (Latin 1) or Windows 1252 (Western European), "
   ]
  },
  {
   "cell_type": "code",
   "execution_count": 71,
   "metadata": {
    "execution": {
     "iopub.execute_input": "2021-10-27T11:19:53.813206Z",
     "iopub.status.busy": "2021-10-27T11:19:53.812208Z",
     "iopub.status.idle": "2021-10-27T11:19:53.848207Z",
     "shell.execute_reply": "2021-10-27T11:19:53.847203Z",
     "shell.execute_reply.started": "2021-10-27T11:19:53.813206Z"
    }
   },
   "outputs": [],
   "source": [
    "# String encoding\n",
    "euro = '\\N{euro sign}'\n",
    "dollar = '\\N{dollar sign}'\n",
    "rupee = '\\N{rupee sign}'\n",
    "btel = '\\N{black telephone}'"
   ]
  },
  {
   "cell_type": "code",
   "execution_count": 115,
   "metadata": {
    "execution": {
     "iopub.execute_input": "2021-10-27T13:36:58.298646Z",
     "iopub.status.busy": "2021-10-27T13:36:58.297646Z",
     "iopub.status.idle": "2021-10-27T13:36:58.332627Z",
     "shell.execute_reply": "2021-10-27T13:36:58.331638Z",
     "shell.execute_reply.started": "2021-10-27T13:36:58.298646Z"
    }
   },
   "outputs": [],
   "source": [
    "bizzare_string = ''.join([euro, dollar, rupee, btel])"
   ]
  },
  {
   "cell_type": "code",
   "execution_count": 127,
   "metadata": {
    "execution": {
     "iopub.execute_input": "2021-10-27T13:42:59.842456Z",
     "iopub.status.busy": "2021-10-27T13:42:59.841446Z",
     "iopub.status.idle": "2021-10-27T13:42:59.863453Z",
     "shell.execute_reply": "2021-10-27T13:42:59.862444Z",
     "shell.execute_reply.started": "2021-10-27T13:42:59.842456Z"
    }
   },
   "outputs": [
    {
     "data": {
      "text/plain": [
       "'€$₨☎'"
      ]
     },
     "execution_count": 127,
     "metadata": {},
     "output_type": "execute_result"
    }
   ],
   "source": [
    "bizzare_string"
   ]
  },
  {
   "cell_type": "code",
   "execution_count": 118,
   "metadata": {
    "execution": {
     "iopub.execute_input": "2021-10-27T13:37:28.853942Z",
     "iopub.status.busy": "2021-10-27T13:37:28.853942Z",
     "iopub.status.idle": "2021-10-27T13:37:28.862943Z",
     "shell.execute_reply": "2021-10-27T13:37:28.861941Z",
     "shell.execute_reply.started": "2021-10-27T13:37:28.853942Z"
    }
   },
   "outputs": [
    {
     "data": {
      "text/plain": [
       "b'\\xe2\\x82\\xac$\\xe2\\x82\\xa8\\xe2\\x98\\x8e'"
      ]
     },
     "execution_count": 118,
     "metadata": {},
     "output_type": "execute_result"
    }
   ],
   "source": [
    "bizzare_string.encode('utf-8')"
   ]
  },
  {
   "cell_type": "code",
   "execution_count": 134,
   "metadata": {
    "execution": {
     "iopub.execute_input": "2021-10-27T13:48:38.610192Z",
     "iopub.status.busy": "2021-10-27T13:48:38.609189Z",
     "iopub.status.idle": "2021-10-27T13:48:38.630188Z",
     "shell.execute_reply": "2021-10-27T13:48:38.629186Z",
     "shell.execute_reply.started": "2021-10-27T13:48:38.610192Z"
    }
   },
   "outputs": [
    {
     "data": {
      "text/plain": [
       "'€$₨☎'"
      ]
     },
     "execution_count": 134,
     "metadata": {},
     "output_type": "execute_result"
    }
   ],
   "source": [
    "bizzare_string.encode('utf-8').decode('utf-8')"
   ]
  },
  {
   "cell_type": "code",
   "execution_count": 119,
   "metadata": {
    "execution": {
     "iopub.execute_input": "2021-10-27T13:37:55.360320Z",
     "iopub.status.busy": "2021-10-27T13:37:55.360320Z",
     "iopub.status.idle": "2021-10-27T13:37:55.379322Z",
     "shell.execute_reply": "2021-10-27T13:37:55.378321Z",
     "shell.execute_reply.started": "2021-10-27T13:37:55.360320Z"
    }
   },
   "outputs": [
    {
     "data": {
      "text/plain": [
       "b'$'"
      ]
     },
     "execution_count": 119,
     "metadata": {},
     "output_type": "execute_result"
    }
   ],
   "source": [
    "bizzare_string.encode(encoding='ascii', errors='ignore')"
   ]
  },
  {
   "cell_type": "code",
   "execution_count": 120,
   "metadata": {
    "execution": {
     "iopub.execute_input": "2021-10-27T13:38:08.578455Z",
     "iopub.status.busy": "2021-10-27T13:38:08.578455Z",
     "iopub.status.idle": "2021-10-27T13:38:08.598448Z",
     "shell.execute_reply": "2021-10-27T13:38:08.597448Z",
     "shell.execute_reply.started": "2021-10-27T13:38:08.578455Z"
    }
   },
   "outputs": [
    {
     "data": {
      "text/plain": [
       "b'?$??'"
      ]
     },
     "execution_count": 120,
     "metadata": {},
     "output_type": "execute_result"
    }
   ],
   "source": [
    "bizzare_string.encode(encoding='ascii', errors='replace')\n"
   ]
  },
  {
   "cell_type": "code",
   "execution_count": 123,
   "metadata": {
    "execution": {
     "iopub.execute_input": "2021-10-27T13:38:58.525993Z",
     "iopub.status.busy": "2021-10-27T13:38:58.525993Z",
     "iopub.status.idle": "2021-10-27T13:38:58.543977Z",
     "shell.execute_reply": "2021-10-27T13:38:58.541986Z",
     "shell.execute_reply.started": "2021-10-27T13:38:58.525993Z"
    }
   },
   "outputs": [
    {
     "data": {
      "text/plain": [
       "b'?$??'"
      ]
     },
     "execution_count": 123,
     "metadata": {},
     "output_type": "execute_result"
    }
   ],
   "source": [
    "bizzare_string.encode('Latin 1', errors='replace')"
   ]
  },
  {
   "cell_type": "code",
   "execution_count": 125,
   "metadata": {
    "execution": {
     "iopub.execute_input": "2021-10-27T13:40:04.054893Z",
     "iopub.status.busy": "2021-10-27T13:40:04.054893Z",
     "iopub.status.idle": "2021-10-27T13:40:04.075892Z",
     "shell.execute_reply": "2021-10-27T13:40:04.074894Z",
     "shell.execute_reply.started": "2021-10-27T13:40:04.054893Z"
    }
   },
   "outputs": [
    {
     "data": {
      "text/plain": [
       "b'\\x80$??'"
      ]
     },
     "execution_count": 125,
     "metadata": {},
     "output_type": "execute_result"
    }
   ],
   "source": [
    "bizzare_string.encode('cp1252', errors='replace')"
   ]
  },
  {
   "cell_type": "code",
   "execution_count": 135,
   "metadata": {
    "execution": {
     "iopub.execute_input": "2021-10-27T13:48:53.748527Z",
     "iopub.status.busy": "2021-10-27T13:48:53.748527Z",
     "iopub.status.idle": "2021-10-27T13:48:53.859526Z",
     "shell.execute_reply": "2021-10-27T13:48:53.858525Z",
     "shell.execute_reply.started": "2021-10-27T13:48:53.748527Z"
    }
   },
   "outputs": [
    {
     "data": {
      "text/plain": [
       "{'encoding': 'utf-8', 'confidence': 0.87625, 'language': ''}"
      ]
     },
     "execution_count": 135,
     "metadata": {},
     "output_type": "execute_result"
    }
   ],
   "source": [
    "import chardet\n",
    "chardet.detect(bizzare_string.encode('utf-8'))"
   ]
  },
  {
   "cell_type": "markdown",
   "metadata": {},
   "source": [
    "# Quiz"
   ]
  },
  {
   "cell_type": "markdown",
   "metadata": {},
   "source": [
    "### What gets printed?"
   ]
  },
  {
   "cell_type": "raw",
   "metadata": {
    "execution": {
     "iopub.execute_input": "2021-10-26T13:47:37.125383Z",
     "iopub.status.busy": "2021-10-26T13:47:37.124383Z",
     "iopub.status.idle": "2021-10-26T13:47:37.224368Z",
     "shell.execute_reply": "2021-10-26T13:47:37.210367Z",
     "shell.execute_reply.started": "2021-10-26T13:47:37.125383Z"
    }
   },
   "source": [
    "my_tuple = ('A','B')\n",
    "my_list = ['A','B']\n",
    "\n",
    "tuple_dict = {my_tuple : 'immutable'}\n",
    "list_dict = {my_list : 'mutable'}\n",
    "\n",
    "print(tuple_dict[('A','B')], list_dict[['A','B']])"
   ]
  },
  {
   "cell_type": "raw",
   "metadata": {},
   "source": [
    "A. 'immutable', 'mutable'\n",
    "B. 'immutable', None\n",
    "C. None, 'mutable'\n",
    "D. None, None\n",
    "E. Before print, An exception/Error is thrown"
   ]
  },
  {
   "cell_type": "markdown",
   "metadata": {},
   "source": [
    "### What gets printed?"
   ]
  },
  {
   "cell_type": "raw",
   "metadata": {
    "execution": {
     "iopub.execute_input": "2021-10-26T13:52:37.944459Z",
     "iopub.status.busy": "2021-10-26T13:52:37.944459Z",
     "iopub.status.idle": "2021-10-26T13:52:37.962445Z",
     "shell.execute_reply": "2021-10-26T13:52:37.961454Z",
     "shell.execute_reply.started": "2021-10-26T13:52:37.944459Z"
    }
   },
   "source": [
    "text = [['abx','aby','bcx','bcy'], ['Rome','Madrid','Seoul','NewYork'],['ab','abc','bc','bcd']]\n",
    "\n",
    "print([y for x in text for y in x if y.startswith('ab')])"
   ]
  },
  {
   "cell_type": "raw",
   "metadata": {},
   "source": [
    "A. None\n",
    "B. ['abx', 'aby', 'ab', 'abc']\n",
    "C. [['abx', 'aby'], ['ab','abc']]\n",
    "D. ['abx','aby','bcx','bcy','Rome','Madrid','Seoul','NewYork','ab','abc','bc','bcd']\n",
    "E. [['abx','aby','bcx','bcy'], ['Rome','Madrid','Seoul','NewYork'],['ab','abc','bc','bcd']]"
   ]
  },
  {
   "cell_type": "markdown",
   "metadata": {},
   "source": [
    "### What gets printed?"
   ]
  },
  {
   "cell_type": "raw",
   "metadata": {},
   "source": [
    "class SampleContextManager: \n",
    "    def __enter__(self):\n",
    "        print(\"__enter__ is called\")\n",
    "    def __exit__(self, *args):\n",
    "        print(\"__exit__ is called\")\n",
    "        \n",
    "with SampleContextManager() as sample:\n",
    "    raise Exception"
   ]
  },
  {
   "cell_type": "raw",
   "metadata": {},
   "source": [
    "A. An exception is thrown\n",
    "B. '__enter__ is called'\n",
    "   An exception is thrown\n",
    "C. '__enter__ is called'\n",
    "   '__exit__ is called'\n",
    "D. '__enter__ is called'\n",
    "   An exception is thrown\n",
    "   '__exit__ is called' \n",
    "E. '__enter__ is called'\n",
    "   '__exit__ is called'\n",
    "   An exception is thrown"
   ]
  },
  {
   "cell_type": "markdown",
   "metadata": {},
   "source": [
    "### What gets printed?"
   ]
  },
  {
   "cell_type": "code",
   "execution_count": 35,
   "metadata": {
    "execution": {
     "iopub.execute_input": "2021-10-26T14:07:16.354763Z",
     "iopub.status.busy": "2021-10-26T14:07:16.353765Z",
     "iopub.status.idle": "2021-10-26T14:07:16.371747Z",
     "shell.execute_reply": "2021-10-26T14:07:16.370744Z",
     "shell.execute_reply.started": "2021-10-26T14:07:16.354763Z"
    }
   },
   "outputs": [
    {
     "name": "stdout",
     "output_type": "stream",
     "text": [
      "1 (2,) 5 {'fourth': 4}\n"
     ]
    }
   ],
   "source": [
    "list_args = [1, 2]\n",
    "dict_kwargs = {'third':5, 'fourth': 4}\n",
    "\n",
    "def print_arbitrary_args(first, *args, third=3, **kwargs):\n",
    "    print(first, args, third, kwargs)\n",
    "\n",
    "    \n",
    "print_arbitrary_args(*list_args, **dict_kwargs)"
   ]
  },
  {
   "cell_type": "raw",
   "metadata": {},
   "source": [
    "A. 1, 2, 3, 4\n",
    "B. 1, 2, 5, 4\n",
    "C. 1, (2,), 5, 4\n",
    "D. 1, (2,), 5, {'fourth': 4}\n",
    "E. An exception is thrown"
   ]
  },
  {
   "cell_type": "markdown",
   "metadata": {},
   "source": [
    "### What gets printed?"
   ]
  },
  {
   "cell_type": "raw",
   "metadata": {
    "execution": {
     "iopub.execute_input": "2021-10-27T13:51:06.621921Z",
     "iopub.status.busy": "2021-10-27T13:51:06.621921Z",
     "iopub.status.idle": "2021-10-27T13:51:06.639922Z",
     "shell.execute_reply": "2021-10-27T13:51:06.638920Z",
     "shell.execute_reply.started": "2021-10-27T13:51:06.621921Z"
    }
   },
   "source": [
    "global_value_ten = 10\n",
    "global_value_twenty = 20\n",
    "\n",
    "def make_value_double():\n",
    "    global global_value_ten\n",
    "    \n",
    "    global_value_ten = 20\n",
    "    global_value_twenty = 40\n",
    "    \n",
    "\n",
    "make_value_double()\n",
    "print(global_value_ten, global_value_twenty)"
   ]
  },
  {
   "cell_type": "raw",
   "metadata": {},
   "source": [
    "A. 10, 20\n",
    "B. 10, 40\n",
    "C. 20, 20\n",
    "D. 20, 40\n",
    "E. An exception is thrown"
   ]
  },
  {
   "cell_type": "markdown",
   "metadata": {},
   "source": [
    "### What gets printed?"
   ]
  },
  {
   "cell_type": "raw",
   "metadata": {
    "execution": {
     "iopub.execute_input": "2021-10-26T14:27:13.023760Z",
     "iopub.status.busy": "2021-10-26T14:27:13.023760Z",
     "iopub.status.idle": "2021-10-26T14:27:13.030759Z",
     "shell.execute_reply": "2021-10-26T14:27:13.029759Z",
     "shell.execute_reply.started": "2021-10-26T14:27:13.023760Z"
    }
   },
   "source": [
    "x = [True, True, True, None]\n",
    "\n",
    "print(all(x), any(x))"
   ]
  },
  {
   "cell_type": "raw",
   "metadata": {},
   "source": [
    "A. True, True\n",
    "B. True, False\n",
    "C. False, True\n",
    "D. False, False\n",
    "E. An exception is thrown"
   ]
  },
  {
   "cell_type": "markdown",
   "metadata": {},
   "source": [
    "### What gets printed?"
   ]
  },
  {
   "cell_type": "raw",
   "metadata": {
    "execution": {
     "iopub.execute_input": "2021-10-26T14:24:23.296609Z",
     "iopub.status.busy": "2021-10-26T14:24:23.296609Z",
     "iopub.status.idle": "2021-10-26T14:24:23.359594Z",
     "shell.execute_reply": "2021-10-26T14:24:23.358606Z",
     "shell.execute_reply.started": "2021-10-26T14:24:23.296609Z"
    }
   },
   "source": [
    "# under the Cython-based interpreter\n",
    "a1 = a2 = 256\n",
    "c1 = 256\n",
    "c2 = 256\n",
    "b1 = b2 = 5000\n",
    "d1 = 5000\n",
    "d2 = 5000\n",
    "\n",
    "print(a1 is a2, b1 is b2, c1 is c2, d1 is d2)"
   ]
  },
  {
   "cell_type": "raw",
   "metadata": {},
   "source": [
    "A. True, True, True, True\n",
    "B. True, True, True, False\n",
    "C. True, True, False, False\n",
    "D. True, False, False, False\n",
    "E. False, False, False, False"
   ]
  },
  {
   "cell_type": "markdown",
   "metadata": {},
   "source": [
    "### What gets printed?"
   ]
  },
  {
   "cell_type": "raw",
   "metadata": {
    "execution": {
     "iopub.execute_input": "2021-10-26T14:34:58.153797Z",
     "iopub.status.busy": "2021-10-26T14:34:58.152780Z",
     "iopub.status.idle": "2021-10-26T14:34:58.171782Z",
     "shell.execute_reply": "2021-10-26T14:34:58.170786Z",
     "shell.execute_reply.started": "2021-10-26T14:34:58.153797Z"
    }
   },
   "source": [
    "import random\n",
    "\n",
    "def magic_pot(start=1, end=1000):\n",
    "    while True:\n",
    "        stop = (yield 10)  # random.randint(start, end))\n",
    "        print(\"stop %s\" % stop)\n",
    "        if stop is True:\n",
    "            yield \"THE END\"\n",
    "            break\n",
    "            \n",
    "gen = magic_pot()\n",
    "\n",
    "print(next(gen), next(gen), gen.send(False), gen.send(True))"
   ]
  },
  {
   "cell_type": "raw",
   "metadata": {},
   "source": [
    "A. stop None, stop False, stop True, 10 10 10 THE END\n",
    "B. 10 stop None, 10 stop False, 10 stop True, THE END\n",
    "C. stop None, stop None, stop False, stop True, 10 10 10 THE END\n",
    "D. 10 stop None, 10 stop None, 10 stop False, 10 stop True, THE END\n",
    "E. An exception is thrown"
   ]
  },
  {
   "cell_type": "markdown",
   "metadata": {},
   "source": [
    "### What gets printed?"
   ]
  },
  {
   "cell_type": "raw",
   "metadata": {},
   "source": [
    "class NumFactory:\n",
    "    def __init__(self, n):\n",
    "        self.val = n     \n",
    "    def timesTwo(self):         \n",
    "        self.val *= 2     \n",
    "    def plusTwo(self):         \n",
    "        self.val += 2   \n",
    "        \n",
    "f = NumFactory(2) \n",
    "\n",
    "for m in dir(f):     \n",
    "    mthd = getattr(f,m)     \n",
    "    if callable(mthd):         \n",
    "        mthd()   \n",
    "        \n",
    "print f.val"
   ]
  },
  {
   "cell_type": "raw",
   "metadata": {},
   "source": [
    "A. 2\n",
    "B. 4\n",
    "C. 6\n",
    "D. 8\n",
    "E. An exception is thrown"
   ]
  },
  {
   "cell_type": "markdown",
   "metadata": {},
   "source": [
    "### What gets printed?"
   ]
  },
  {
   "cell_type": "raw",
   "metadata": {},
   "source": [
    "x = True \n",
    "y = False \n",
    "z = False   \n",
    "\n",
    "if not x or y:     \n",
    "    print 1 \n",
    "elif not x or not y and z:\n",
    "    print 2 \n",
    "elif not x or y or not y and x:\n",
    "    print 3 \n",
    "else:     \n",
    "    print 4\n",
    "    "
   ]
  },
  {
   "cell_type": "raw",
   "metadata": {},
   "source": [
    "A. 1\n",
    "B. 2\n",
    "C. 3\n",
    "D. 4"
   ]
  },
  {
   "cell_type": "markdown",
   "metadata": {},
   "source": [
    "### What gets printed?"
   ]
  },
  {
   "cell_type": "raw",
   "metadata": {
    "execution": {
     "iopub.execute_input": "2021-10-27T13:52:41.954505Z",
     "iopub.status.busy": "2021-10-27T13:52:41.954505Z",
     "iopub.status.idle": "2021-10-27T13:52:42.031508Z",
     "shell.execute_reply": "2021-10-27T13:52:42.010506Z",
     "shell.execute_reply.started": "2021-10-27T13:52:41.954505Z"
    }
   },
   "source": [
    "class parent:\n",
    "    def __init__(self, param):\n",
    "        self.v1 = param   \n",
    "        \n",
    "class child(parent):\n",
    "    def __init__(self, param):\n",
    "        self.v2 = param   \n",
    "        \n",
    "obj = child(11) \n",
    "print(\"%d %d\" % (obj.v1, obj.v2))"
   ]
  },
  {
   "cell_type": "raw",
   "metadata": {},
   "source": [
    "A. None None\n",
    "B. None 11\n",
    "C. 11 None\n",
    "D. 11 11\n",
    "E. Error is generated by program"
   ]
  },
  {
   "cell_type": "markdown",
   "metadata": {},
   "source": [
    "### What gets printed?"
   ]
  },
  {
   "cell_type": "raw",
   "metadata": {},
   "source": [
    "import re \n",
    "\n",
    "sum = 0   \n",
    "pattern = 'back' \n",
    "\n",
    "if re.match(pattern, 'backup.txt'):\n",
    "    sum += 1 \n",
    "if re.match(pattern, 'text.back'):\n",
    "    sum += 2 \n",
    "if re.search(pattern, 'backup.txt'):\n",
    "    sum += 4\n",
    "if re.search(pattern, 'text.back'):\n",
    "    sum += 8   \n",
    "    \n",
    "print(sum)"
   ]
  },
  {
   "cell_type": "raw",
   "metadata": {},
   "source": [
    "A. 3\n",
    "B. 7\n",
    "C. 13\n",
    "D. 14\n",
    "E. 15"
   ]
  },
  {
   "cell_type": "markdown",
   "metadata": {},
   "source": [
    "### What gets printed?"
   ]
  },
  {
   "cell_type": "raw",
   "metadata": {
    "execution": {
     "iopub.execute_input": "2021-10-27T13:53:25.631725Z",
     "iopub.status.busy": "2021-10-27T13:53:25.631725Z",
     "iopub.status.idle": "2021-10-27T13:53:25.640725Z",
     "shell.execute_reply": "2021-10-27T13:53:25.639721Z",
     "shell.execute_reply.started": "2021-10-27T13:53:25.631725Z"
    }
   },
   "source": [
    "names1 = ['Amir', 'Barry', 'Chales', 'Dao'] \n",
    "names2 = [name.lower() for name in names1]   \n",
    "print(names2[2][0])"
   ]
  },
  {
   "cell_type": "raw",
   "metadata": {},
   "source": [
    "A. b\n",
    "B. B\n",
    "C. c\n",
    "D. C\n",
    "E. y"
   ]
  },
  {
   "cell_type": "markdown",
   "metadata": {},
   "source": [
    "### What gets printed?"
   ]
  },
  {
   "cell_type": "raw",
   "metadata": {
    "execution": {
     "iopub.execute_input": "2021-10-27T13:54:43.362155Z",
     "iopub.status.busy": "2021-10-27T13:54:43.362155Z",
     "iopub.status.idle": "2021-10-27T13:54:43.383155Z",
     "shell.execute_reply": "2021-10-27T13:54:43.381155Z",
     "shell.execute_reply.started": "2021-10-27T13:54:43.362155Z"
    }
   },
   "source": [
    "kvps  = {\"user\",\"bill\", \"password\",\"hillary\"}   \n",
    "print(kvps['password'])"
   ]
  },
  {
   "cell_type": "raw",
   "metadata": {},
   "source": [
    "A. User\n",
    "B. Bill\n",
    "C. Password\n",
    "D. Hillary\n",
    "E. Nothing. Python syntax error"
   ]
  },
  {
   "cell_type": "markdown",
   "metadata": {
    "execution": {
     "iopub.execute_input": "2021-10-27T13:55:05.523324Z",
     "iopub.status.busy": "2021-10-27T13:55:05.522323Z",
     "iopub.status.idle": "2021-10-27T13:55:05.535324Z",
     "shell.execute_reply": "2021-10-27T13:55:05.534333Z",
     "shell.execute_reply.started": "2021-10-27T13:55:05.523324Z"
    }
   },
   "source": [
    "### What does the following code do? "
   ]
  },
  {
   "cell_type": "raw",
   "metadata": {},
   "source": [
    "def a(b, c, d): \n",
    "    pass"
   ]
  },
  {
   "cell_type": "raw",
   "metadata": {},
   "source": [
    "A. Defines a list and initializes it\n",
    "B. Defines a function, which does nothing\n",
    "C. Defines a function, which passes its parameters through\n",
    "D. Defines an empty class"
   ]
  },
  {
   "cell_type": "markdown",
   "metadata": {},
   "source": [
    "### What gets printed?"
   ]
  },
  {
   "cell_type": "raw",
   "metadata": {
    "execution": {
     "iopub.execute_input": "2021-10-25T12:55:08.668904Z",
     "iopub.status.busy": "2021-10-25T12:55:08.667911Z",
     "iopub.status.idle": "2021-10-25T12:55:08.681904Z",
     "shell.execute_reply": "2021-10-25T12:55:08.680914Z",
     "shell.execute_reply.started": "2021-10-25T12:55:08.668904Z"
    }
   },
   "source": [
    "What gets printed? \n",
    "\n",
    "d = lambda p: p * 2 \n",
    "t = lambda p: p * 3 \n",
    "\n",
    "x = 2 \n",
    "x = d(x) \n",
    "x = t(x) \n",
    "x = d(x) \n",
    "\n",
    "print(x)"
   ]
  },
  {
   "cell_type": "raw",
   "metadata": {
    "execution": {
     "iopub.execute_input": "2021-10-25T12:55:08.668904Z",
     "iopub.status.busy": "2021-10-25T12:55:08.667911Z",
     "iopub.status.idle": "2021-10-25T12:55:08.681904Z",
     "shell.execute_reply": "2021-10-25T12:55:08.680914Z",
     "shell.execute_reply.started": "2021-10-25T12:55:08.668904Z"
    }
   },
   "source": [
    "A. 7\n",
    "B. 12\n",
    "C. 24\n",
    "D. 36\n",
    "E. 48"
   ]
  },
  {
   "cell_type": "markdown",
   "metadata": {},
   "source": [
    "### What gets printed?"
   ]
  },
  {
   "cell_type": "raw",
   "metadata": {
    "execution": {
     "iopub.execute_input": "2021-10-27T12:33:16.529320Z",
     "iopub.status.busy": "2021-10-27T12:33:16.528320Z",
     "iopub.status.idle": "2021-10-27T12:33:16.574319Z",
     "shell.execute_reply": "2021-10-27T12:33:16.573324Z",
     "shell.execute_reply.started": "2021-10-27T12:33:16.529320Z"
    }
   },
   "source": [
    "def some_func(int1 : int, float1: float, str1: str = 'default'):\n",
    "    print(int1, float1, type(str1))\n",
    "    \n",
    "some_func(5.4, 3, 23)"
   ]
  },
  {
   "cell_type": "raw",
   "metadata": {},
   "source": [
    "A. 5.4  3  <class 'int'>\n",
    "B. 5 3.0 <class 'str'>\n",
    "C. 5 3.0 <class 'int'>\n",
    "D. 5.4 3 <class 'str'>\n",
    "E. An exception is thrown"
   ]
  },
  {
   "cell_type": "markdown",
   "metadata": {},
   "source": [
    "# Today's Tip"
   ]
  },
  {
   "cell_type": "markdown",
   "metadata": {},
   "source": [
    "### When you need a Web server, http.server would be the one for you"
   ]
  },
  {
   "cell_type": "markdown",
   "metadata": {
    "execution": {
     "iopub.execute_input": "2021-10-27T14:01:03.991933Z",
     "iopub.status.busy": "2021-10-27T14:01:03.990934Z",
     "iopub.status.idle": "2021-10-27T14:01:04.012935Z",
     "shell.execute_reply": "2021-10-27T14:01:04.010935Z",
     "shell.execute_reply.started": "2021-10-27T14:01:03.991933Z"
    }
   },
   "source": [
    "- just run \"python -m http.server\""
   ]
  }
 ],
 "metadata": {
  "kernelspec": {
   "display_name": "Python 3",
   "language": "python",
   "name": "python3"
  },
  "language_info": {
   "codemirror_mode": {
    "name": "ipython",
    "version": 3
   },
   "file_extension": ".py",
   "mimetype": "text/x-python",
   "name": "python",
   "nbconvert_exporter": "python",
   "pygments_lexer": "ipython3",
   "version": "3.7.8"
  }
 },
 "nbformat": 4,
 "nbformat_minor": 4
}
