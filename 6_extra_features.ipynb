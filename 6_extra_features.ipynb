{
 "cells": [
  {
   "cell_type": "markdown",
   "metadata": {
    "execution": {
     "iopub.execute_input": "2021-09-01T07:17:17.571570Z",
     "iopub.status.busy": "2021-09-01T07:17:17.570576Z",
     "iopub.status.idle": "2021-09-01T07:17:17.585569Z",
     "shell.execute_reply": "2021-09-01T07:17:17.584584Z",
     "shell.execute_reply.started": "2021-09-01T07:17:17.571570Z"
    }
   },
   "source": [
    "<font size=6> <b> Advanced Python : week #7</b> </font>\n",
    "<div class=\"alert alert-block alert-success\">\n",
    "   Advanced Python features <br>\n",
    "    <ol>\n",
    "        <li> PEP </li>\n",
    "        <li> type hint </li>\n",
    "        <li> dir, inspect </li>\n",
    "        <li> code formatting </li>\n",
    "        <li> debugging </li>\n",
    "    </ol>\n",
    "</div>\n",
    "\n",
    "<p style=\"text-align:right;\"> sumyeon@gmail.com </p>"
   ]
  },
  {
   "cell_type": "markdown",
   "metadata": {},
   "source": [
    "#### - import frequently used modules"
   ]
  },
  {
   "cell_type": "code",
   "execution_count": 1,
   "metadata": {
    "execution": {
     "iopub.execute_input": "2021-10-13T15:13:44.726916Z",
     "iopub.status.busy": "2021-10-13T15:13:44.725916Z",
     "iopub.status.idle": "2021-10-13T15:13:44.731916Z",
     "shell.execute_reply": "2021-10-13T15:13:44.730916Z",
     "shell.execute_reply.started": "2021-10-13T15:13:44.726916Z"
    }
   },
   "outputs": [],
   "source": [
    "import sys\n",
    "import pandas as pd\n",
    "import numpy as np\n",
    "import matplotlib.pyplot as plt"
   ]
  },
  {
   "cell_type": "markdown",
   "metadata": {},
   "source": [
    "# PEP : Python Enhancement Proposals"
   ]
  },
  {
   "cell_type": "markdown",
   "metadata": {
    "execution": {
     "iopub.execute_input": "2021-09-04T00:24:07.156915Z",
     "iopub.status.busy": "2021-09-04T00:24:07.156915Z",
     "iopub.status.idle": "2021-09-04T00:24:07.177909Z",
     "shell.execute_reply": "2021-09-04T00:24:07.175899Z",
     "shell.execute_reply.started": "2021-09-04T00:24:07.156915Z"
    }
   },
   "source": [
    "A PEP is a design document providing information to the Python community, <br> \n",
    "or describing a new feature for Python or its processes or environment. <br>\n",
    "The PEP should provide a concise technical specification of the feature and a rationale for the feature."
   ]
  },
  {
   "cell_type": "markdown",
   "metadata": {},
   "source": [
    "## PEP examples"
   ]
  },
  {
   "cell_type": "markdown",
   "metadata": {},
   "source": [
    "### PEP 0 : Index of Python Enhancemnet Proposals\n",
    "> it contains the index of all Python Enhancement Proposals, known as PEPs. PEP numbers are assigned by the PEP editors, and once assigned are never changed. <br>\n",
    "\n",
    "> https://www.python.org/dev/peps/pep-0000/"
   ]
  },
  {
   "cell_type": "markdown",
   "metadata": {},
   "source": [
    "### PEP 8 style guides\n",
    "> it gives coding conventions for the Python code comprising the standard library in the main Python distribution.\n",
    "<br>\n",
    "\n",
    "> https://www.python.org/dev/peps/pep-0008/"
   ]
  },
  {
   "cell_type": "markdown",
   "metadata": {},
   "source": [
    "### PEP 20 : The Zen of Python\n",
    "> The Zen of Python is a collection of 19 \"guiding principles\" for writing computer programs that influence the design of the Python programming language"
   ]
  },
  {
   "cell_type": "code",
   "execution_count": 2,
   "metadata": {
    "execution": {
     "iopub.execute_input": "2021-10-13T15:13:46.697632Z",
     "iopub.status.busy": "2021-10-13T15:13:46.696630Z",
     "iopub.status.idle": "2021-10-13T15:13:46.723629Z",
     "shell.execute_reply": "2021-10-13T15:13:46.722639Z",
     "shell.execute_reply.started": "2021-10-13T15:13:46.697632Z"
    }
   },
   "outputs": [
    {
     "name": "stdout",
     "output_type": "stream",
     "text": [
      "The Zen of Python, by Tim Peters\n",
      "\n",
      "Beautiful is better than ugly.\n",
      "Explicit is better than implicit.\n",
      "Simple is better than complex.\n",
      "Complex is better than complicated.\n",
      "Flat is better than nested.\n",
      "Sparse is better than dense.\n",
      "Readability counts.\n",
      "Special cases aren't special enough to break the rules.\n",
      "Although practicality beats purity.\n",
      "Errors should never pass silently.\n",
      "Unless explicitly silenced.\n",
      "In the face of ambiguity, refuse the temptation to guess.\n",
      "There should be one-- and preferably only one --obvious way to do it.\n",
      "Although that way may not be obvious at first unless you're Dutch.\n",
      "Now is better than never.\n",
      "Although never is often better than *right* now.\n",
      "If the implementation is hard to explain, it's a bad idea.\n",
      "If the implementation is easy to explain, it may be a good idea.\n",
      "Namespaces are one honking great idea -- let's do more of those!\n"
     ]
    }
   ],
   "source": [
    "import this"
   ]
  },
  {
   "cell_type": "markdown",
   "metadata": {},
   "source": [
    "# Type hints (PEP 484)\n",
    "> type annotation convention for static analysis"
   ]
  },
  {
   "cell_type": "markdown",
   "metadata": {},
   "source": [
    "\n",
    "> <b> Pros </b> : imporve readability, catch certation errors, help document your code, imporve IDEs and linters <br>\n",
    "> <b> Cons </b> : take developer time and effort, introduce a slight penalty in start-up time"
   ]
  },
  {
   "cell_type": "markdown",
   "metadata": {},
   "source": [
    "### How-to"
   ]
  },
  {
   "cell_type": "markdown",
   "metadata": {},
   "source": [
    "> Variables/Built-in types"
   ]
  },
  {
   "cell_type": "code",
   "execution_count": 3,
   "metadata": {
    "execution": {
     "iopub.execute_input": "2021-10-13T15:13:48.037937Z",
     "iopub.status.busy": "2021-10-13T15:13:48.037937Z",
     "iopub.status.idle": "2021-10-13T15:13:48.048940Z",
     "shell.execute_reply": "2021-10-13T15:13:48.047934Z",
     "shell.execute_reply.started": "2021-10-13T15:13:48.037937Z"
    }
   },
   "outputs": [],
   "source": [
    "from typing import Dict, List, Optional, Set, Tuple\n",
    "\n",
    "# For simple built-in types, just use the name of the type\n",
    "x: int = 1\n",
    "x: float = 1.0\n",
    "x: bool = True\n",
    "x: str = \"test\"\n",
    "x: bytes = b\"test\"\n",
    "\n",
    "x: List[int] = [1]\n",
    "x: Set[int] = {6, 7}\n",
    "x: Dict[str, float] = {\"field\": 2.0}\n",
    "x: Tuple[int, str, float] = (3, \"yes\", 7.5)  # tuple of fixed size\n",
    "x: Tuple[int, ...] = (1, 2, 3)  # tuple of variable size\n",
    "x: Optional[str] = lambda x: x * X  # values that could be None"
   ]
  },
  {
   "cell_type": "markdown",
   "metadata": {},
   "source": [
    "> Functions"
   ]
  },
  {
   "cell_type": "code",
   "execution_count": 4,
   "metadata": {
    "execution": {
     "iopub.execute_input": "2021-10-13T15:13:48.537709Z",
     "iopub.status.busy": "2021-10-13T15:13:48.537709Z",
     "iopub.status.idle": "2021-10-13T15:13:48.547710Z",
     "shell.execute_reply": "2021-10-13T15:13:48.546710Z",
     "shell.execute_reply.started": "2021-10-13T15:13:48.537709Z"
    }
   },
   "outputs": [],
   "source": [
    "from typing import Callable, Iterator, Union, Optional, List\n",
    "\n",
    "\n",
    "def f(num1: int, my_float: float = 3.5) -> float:\n",
    "    return num1 + my_float\n",
    "\n",
    "\n",
    "x: Callable[[int, float], float] = f\n",
    "\n",
    "\n",
    "def g(n: int) -> Iterator[int]:\n",
    "    i = 0\n",
    "    while i < n:\n",
    "        yield i\n",
    "        i += 1"
   ]
  },
  {
   "cell_type": "markdown",
   "metadata": {},
   "source": [
    "> Classes"
   ]
  },
  {
   "cell_type": "code",
   "execution_count": 5,
   "metadata": {
    "execution": {
     "iopub.execute_input": "2021-10-13T15:13:49.008417Z",
     "iopub.status.busy": "2021-10-13T15:13:49.007417Z",
     "iopub.status.idle": "2021-10-13T15:13:49.015418Z",
     "shell.execute_reply": "2021-10-13T15:13:49.014416Z",
     "shell.execute_reply.started": "2021-10-13T15:13:49.007417Z"
    }
   },
   "outputs": [],
   "source": [
    "class MyClass:\n",
    "\n",
    "    attr: int\n",
    "    charge_percent: int = 100\n",
    "\n",
    "    def __init__(self) -> None:\n",
    "        ...\n",
    "\n",
    "    def my_method(self, num: int, str1: str) -> str:\n",
    "        return num * str1"
   ]
  },
  {
   "cell_type": "markdown",
   "metadata": {},
   "source": [
    "### Note: type hint is just a HINT!!"
   ]
  },
  {
   "cell_type": "code",
   "execution_count": 6,
   "metadata": {
    "execution": {
     "iopub.execute_input": "2021-10-13T15:13:49.462622Z",
     "iopub.status.busy": "2021-10-13T15:13:49.462622Z",
     "iopub.status.idle": "2021-10-13T15:13:49.467616Z",
     "shell.execute_reply": "2021-10-13T15:13:49.466625Z",
     "shell.execute_reply.started": "2021-10-13T15:13:49.462622Z"
    }
   },
   "outputs": [],
   "source": [
    "def add_two_int(x: int, y: int) -> int:\n",
    "    return x + y"
   ]
  },
  {
   "cell_type": "code",
   "execution_count": 7,
   "metadata": {
    "execution": {
     "iopub.execute_input": "2021-10-13T15:13:49.676079Z",
     "iopub.status.busy": "2021-10-13T15:13:49.675093Z",
     "iopub.status.idle": "2021-10-13T15:13:49.694077Z",
     "shell.execute_reply": "2021-10-13T15:13:49.693078Z",
     "shell.execute_reply.started": "2021-10-13T15:13:49.676079Z"
    }
   },
   "outputs": [
    {
     "data": {
      "text/plain": [
       "4.69"
      ]
     },
     "execution_count": 7,
     "metadata": {},
     "output_type": "execute_result"
    }
   ],
   "source": [
    "add_two_int(3.7, 0.99)"
   ]
  },
  {
   "cell_type": "markdown",
   "metadata": {},
   "source": [
    "### Type checking tools : pydantic example"
   ]
  },
  {
   "cell_type": "markdown",
   "metadata": {},
   "source": [
    "!pip install -U pydantic"
   ]
  },
  {
   "cell_type": "code",
   "execution_count": 8,
   "metadata": {
    "execution": {
     "iopub.execute_input": "2021-10-13T15:13:50.297426Z",
     "iopub.status.busy": "2021-10-13T15:13:50.296407Z",
     "iopub.status.idle": "2021-10-13T15:13:50.311406Z",
     "shell.execute_reply": "2021-10-13T15:13:50.310416Z",
     "shell.execute_reply.started": "2021-10-13T15:13:50.297426Z"
    },
    "tags": []
   },
   "outputs": [],
   "source": [
    "from datetime import datetime\n",
    "from typing import List, Optional\n",
    "from dataclasses import dataclass\n",
    "\n",
    "\n",
    "@dataclass\n",
    "class User:\n",
    "    id: int\n",
    "    name: str\n",
    "    signup_ts: Optional[datetime] = None\n",
    "    friends: List[int] = None"
   ]
  },
  {
   "cell_type": "code",
   "execution_count": 9,
   "metadata": {
    "execution": {
     "iopub.execute_input": "2021-10-13T15:13:50.511129Z",
     "iopub.status.busy": "2021-10-13T15:13:50.511129Z",
     "iopub.status.idle": "2021-10-13T15:13:50.522126Z",
     "shell.execute_reply": "2021-10-13T15:13:50.521137Z",
     "shell.execute_reply.started": "2021-10-13T15:13:50.511129Z"
    },
    "tags": []
   },
   "outputs": [
    {
     "data": {
      "text/plain": [
       "User(id='123', name='smkim', signup_ts='2017-06-01 12:22', friends=[1, '2', b'3'])"
      ]
     },
     "execution_count": 9,
     "metadata": {},
     "output_type": "execute_result"
    }
   ],
   "source": [
    "User(id='123', name='smkim', signup_ts = '2017-06-01 12:22', friends = [1, '2', b'3'])"
   ]
  },
  {
   "cell_type": "code",
   "execution_count": 10,
   "metadata": {
    "execution": {
     "iopub.execute_input": "2021-10-13T15:13:50.733551Z",
     "iopub.status.busy": "2021-10-13T15:13:50.732542Z",
     "iopub.status.idle": "2021-10-13T15:13:50.764534Z",
     "shell.execute_reply": "2021-10-13T15:13:50.762542Z",
     "shell.execute_reply.started": "2021-10-13T15:13:50.733551Z"
    }
   },
   "outputs": [
    {
     "ename": "TypeError",
     "evalue": "__init__() missing 2 required positional arguments: 'id' and 'name'",
     "output_type": "error",
     "traceback": [
      "\u001b[1;31m---------------------------------------------------------------------------\u001b[0m",
      "\u001b[1;31mTypeError\u001b[0m                                 Traceback (most recent call last)",
      "\u001b[1;32m<ipython-input-10-7a13cdd5b253>\u001b[0m in \u001b[0;36m<module>\u001b[1;34m\u001b[0m\n\u001b[1;32m----> 1\u001b[1;33m \u001b[0mUser\u001b[0m\u001b[1;33m(\u001b[0m\u001b[0msignup_ts\u001b[0m\u001b[1;33m=\u001b[0m\u001b[1;34m'broken'\u001b[0m\u001b[1;33m,\u001b[0m \u001b[0mfriends\u001b[0m\u001b[1;33m=\u001b[0m\u001b[1;33m[\u001b[0m\u001b[1;36m1\u001b[0m\u001b[1;33m,\u001b[0m \u001b[1;36m2\u001b[0m\u001b[1;33m,\u001b[0m \u001b[1;34m'not number'\u001b[0m\u001b[1;33m]\u001b[0m\u001b[1;33m)\u001b[0m\u001b[1;33m\u001b[0m\u001b[1;33m\u001b[0m\u001b[0m\n\u001b[0m",
      "\u001b[1;31mTypeError\u001b[0m: __init__() missing 2 required positional arguments: 'id' and 'name'"
     ]
    }
   ],
   "source": [
    "User(signup_ts='broken', friends=[1, 2, 'not number'])"
   ]
  },
  {
   "cell_type": "code",
   "execution_count": 11,
   "metadata": {
    "execution": {
     "iopub.execute_input": "2021-10-13T15:13:50.956549Z",
     "iopub.status.busy": "2021-10-13T15:13:50.956549Z",
     "iopub.status.idle": "2021-10-13T15:13:50.974536Z",
     "shell.execute_reply": "2021-10-13T15:13:50.973533Z",
     "shell.execute_reply.started": "2021-10-13T15:13:50.956549Z"
    }
   },
   "outputs": [
    {
     "data": {
      "text/plain": [
       "User(id='123', name='smkim', signup_ts='broken', friends=[1, 2, 'not number'])"
      ]
     },
     "execution_count": 11,
     "metadata": {},
     "output_type": "execute_result"
    }
   ],
   "source": [
    "User(id='123', name='smkim', signup_ts='broken', friends=[1, 2, 'not number'])"
   ]
  },
  {
   "cell_type": "code",
   "execution_count": 12,
   "metadata": {
    "execution": {
     "iopub.execute_input": "2021-10-13T15:13:51.186823Z",
     "iopub.status.busy": "2021-10-13T15:13:51.186823Z",
     "iopub.status.idle": "2021-10-13T15:13:51.364820Z",
     "shell.execute_reply": "2021-10-13T15:13:51.363847Z",
     "shell.execute_reply.started": "2021-10-13T15:13:51.186823Z"
    },
    "tags": []
   },
   "outputs": [],
   "source": [
    "from pydantic import BaseModel\n",
    "\n",
    "class PydanticUser(BaseModel):\n",
    "    id: int\n",
    "    name = 'John Doe'\n",
    "    signup_ts: Optional[datetime] = None\n",
    "    friends: List[int] = None"
   ]
  },
  {
   "cell_type": "code",
   "execution_count": 13,
   "metadata": {
    "execution": {
     "iopub.execute_input": "2021-10-13T15:13:51.440818Z",
     "iopub.status.busy": "2021-10-13T15:13:51.439834Z",
     "iopub.status.idle": "2021-10-13T15:13:51.455819Z",
     "shell.execute_reply": "2021-10-13T15:13:51.454819Z",
     "shell.execute_reply.started": "2021-10-13T15:13:51.440818Z"
    },
    "tags": []
   },
   "outputs": [
    {
     "data": {
      "text/plain": [
       "PydanticUser(id=123, signup_ts=datetime.datetime(2017, 6, 1, 12, 22), friends=[1, 2, 3], name='smkim')"
      ]
     },
     "execution_count": 13,
     "metadata": {},
     "output_type": "execute_result"
    }
   ],
   "source": [
    "PydanticUser(id='123', name='smkim', signup_ts = '2017-06-01 12:22', friends = [1, '2', b'3'])"
   ]
  },
  {
   "cell_type": "code",
   "execution_count": 14,
   "metadata": {
    "execution": {
     "iopub.execute_input": "2021-10-13T15:13:51.798432Z",
     "iopub.status.busy": "2021-10-13T15:13:51.797432Z",
     "iopub.status.idle": "2021-10-13T15:13:51.835435Z",
     "shell.execute_reply": "2021-10-13T15:13:51.833432Z",
     "shell.execute_reply.started": "2021-10-13T15:13:51.798432Z"
    }
   },
   "outputs": [
    {
     "ename": "ValidationError",
     "evalue": "3 validation errors for PydanticUser\nid\n  field required (type=value_error.missing)\nsignup_ts\n  invalid datetime format (type=value_error.datetime)\nfriends -> 2\n  value is not a valid integer (type=type_error.integer)",
     "output_type": "error",
     "traceback": [
      "\u001b[1;31m---------------------------------------------------------------------------\u001b[0m",
      "\u001b[1;31mValidationError\u001b[0m                           Traceback (most recent call last)",
      "\u001b[1;32m<ipython-input-14-86e2afd15a73>\u001b[0m in \u001b[0;36m<module>\u001b[1;34m\u001b[0m\n\u001b[1;32m----> 1\u001b[1;33m \u001b[0mPydanticUser\u001b[0m\u001b[1;33m(\u001b[0m\u001b[0msignup_ts\u001b[0m\u001b[1;33m=\u001b[0m\u001b[1;34m'broken'\u001b[0m\u001b[1;33m,\u001b[0m \u001b[0mfriends\u001b[0m\u001b[1;33m=\u001b[0m\u001b[1;33m[\u001b[0m\u001b[1;36m1\u001b[0m\u001b[1;33m,\u001b[0m \u001b[1;36m2\u001b[0m\u001b[1;33m,\u001b[0m \u001b[1;34m'not number'\u001b[0m\u001b[1;33m]\u001b[0m\u001b[1;33m)\u001b[0m\u001b[1;33m\u001b[0m\u001b[1;33m\u001b[0m\u001b[0m\n\u001b[0m",
      "\u001b[1;32mC:\\ProgramData\\Anaconda3\\lib\\site-packages\\pydantic\\main.cp37-win_amd64.pyd\u001b[0m in \u001b[0;36mpydantic.main.BaseModel.__init__\u001b[1;34m()\u001b[0m\n",
      "\u001b[1;31mValidationError\u001b[0m: 3 validation errors for PydanticUser\nid\n  field required (type=value_error.missing)\nsignup_ts\n  invalid datetime format (type=value_error.datetime)\nfriends -> 2\n  value is not a valid integer (type=type_error.integer)"
     ]
    }
   ],
   "source": [
    "PydanticUser(signup_ts='broken', friends=[1, 2, 'not number'])"
   ]
  },
  {
   "cell_type": "markdown",
   "metadata": {},
   "source": [
    "# dir \n",
    "> Without arguments, return the list of names in the current local scope. <br>\n",
    "> With an argument, attempt to return a list of valid attributes for that object."
   ]
  },
  {
   "cell_type": "code",
   "execution_count": 15,
   "metadata": {
    "execution": {
     "iopub.execute_input": "2021-10-13T15:13:53.584668Z",
     "iopub.status.busy": "2021-10-13T15:13:53.583669Z",
     "iopub.status.idle": "2021-10-13T15:13:53.600669Z",
     "shell.execute_reply": "2021-10-13T15:13:53.599680Z",
     "shell.execute_reply.started": "2021-10-13T15:13:53.584668Z"
    }
   },
   "outputs": [
    {
     "name": "stdout",
     "output_type": "stream",
     "text": [
      "Pretty printing has been turned OFF\n"
     ]
    }
   ],
   "source": [
    "pprint"
   ]
  },
  {
   "cell_type": "code",
   "execution_count": 16,
   "metadata": {
    "execution": {
     "iopub.execute_input": "2021-10-13T15:13:53.804354Z",
     "iopub.status.busy": "2021-10-13T15:13:53.803346Z",
     "iopub.status.idle": "2021-10-13T15:13:53.811345Z",
     "shell.execute_reply": "2021-10-13T15:13:53.810356Z",
     "shell.execute_reply.started": "2021-10-13T15:13:53.804354Z"
    }
   },
   "outputs": [
    {
     "data": {
      "text/plain": [
       "['ARIMA', 'BaseModel', 'Callable', 'CountVectorizer', 'Dict', 'ElasticNet', 'ElasticNetCV', 'GradientBoostingClassifier', 'GradientBoostingRegressor', 'GridSearchCV', 'Image', 'In', 'Iterator', 'KFold', 'KMeans', 'LabelEncoder', 'Lasso', 'LassoCV', 'LazyImport', 'LinearRegression', 'List', 'LogisticRegression', 'MinMaxScaler', 'MyClass', 'OneHotEncoder', 'Optional', 'Out', 'PCA', 'Path', 'PolynomialFeatures', 'Prophet', 'PydanticUser', 'RandomForestClassifier', 'RandomForestRegressor', 'RandomizedSearchCV', 'Ridge', 'RidgeCV', 'RobustScaler', 'Set', 'SimpleImputer', 'SparkContext', 'StandardScaler', 'StratifiedKFold', 'TSNE', 'TfidfVectorizer', 'Tuple', 'Union', 'User', '_', '_11', '_13', '_7', '_9', '__', '___', '__annotations__', '__builtin__', '__builtins__', '__cached__', '__doc__', '__loader__', '__name__', '__package__', '__path__', '__spec__', '_dh', '_i', '_i1', '_i10', '_i11', '_i12', '_i13', '_i14', '_i15', '_i16', '_i2', '_i3', '_i4', '_i5', '_i6', '_i7', '_i8', '_i9', '_ih', '_ii', '_iii', '_importable', '_imports', '_oh', 'active_imports', 'add_two_int', 'alt', 'bokeh', 'cross_val_score', 'cv2', 'dash', 'dataclass', 'datetime', 'dd', 'dt', 'exit', 'f', 'fastai', 'fbprophet', 'g', 'gensim', 'get_ipython', 'get_user_symbols', 'glob', 'go', 'imutils', 'install_extensions', 'install_labextension', 'install_nbextension', 'keras', 'lazy_imports', 'lgb', 'load_workbook', 'metrics', 'mpl', 'nltk', 'np', 'open_workbook', 'os', 'pd', 'pickle', 'plt', 'px', 'py', 'pydot', 'pyforest', 'quit', 're', 'sg', 'skimage', 'sklearn', 'sm', 'sns', 'spacy', 'statistics', 'stats', 'svm', 'sys', 'textblob', 'tf', 'this', 'torch', 'tqdm', 'train_test_split', 'user_specific_imports', 'user_symbols', 'utils', 'wr', 'x', 'xgb']"
      ]
     },
     "execution_count": 16,
     "metadata": {},
     "output_type": "execute_result"
    }
   ],
   "source": [
    "dir()"
   ]
  },
  {
   "cell_type": "code",
   "execution_count": 17,
   "metadata": {
    "execution": {
     "iopub.execute_input": "2021-10-13T15:13:54.008692Z",
     "iopub.status.busy": "2021-10-13T15:13:54.007675Z",
     "iopub.status.idle": "2021-10-13T15:13:54.021675Z",
     "shell.execute_reply": "2021-10-13T15:13:54.020685Z",
     "shell.execute_reply.started": "2021-10-13T15:13:54.007675Z"
    }
   },
   "outputs": [
    {
     "data": {
      "text/plain": [
       "['__add__', '__class__', '__contains__', '__delattr__', '__dir__', '__doc__', '__eq__', '__format__', '__ge__', '__getattribute__', '__getitem__', '__getnewargs__', '__gt__', '__hash__', '__init__', '__init_subclass__', '__iter__', '__le__', '__len__', '__lt__', '__mod__', '__mul__', '__ne__', '__new__', '__reduce__', '__reduce_ex__', '__repr__', '__rmod__', '__rmul__', '__setattr__', '__sizeof__', '__str__', '__subclasshook__', 'capitalize', 'casefold', 'center', 'count', 'encode', 'endswith', 'expandtabs', 'find', 'format', 'format_map', 'index', 'isalnum', 'isalpha', 'isascii', 'isdecimal', 'isdigit', 'isidentifier', 'islower', 'isnumeric', 'isprintable', 'isspace', 'istitle', 'isupper', 'join', 'ljust', 'lower', 'lstrip', 'maketrans', 'partition', 'replace', 'rfind', 'rindex', 'rjust', 'rpartition', 'rsplit', 'rstrip', 'split', 'splitlines', 'startswith', 'strip', 'swapcase', 'title', 'translate', 'upper', 'zfill']"
      ]
     },
     "execution_count": 17,
     "metadata": {},
     "output_type": "execute_result"
    }
   ],
   "source": [
    "dir('hello world')"
   ]
  },
  {
   "cell_type": "code",
   "execution_count": 18,
   "metadata": {
    "execution": {
     "iopub.execute_input": "2021-10-13T15:13:54.210677Z",
     "iopub.status.busy": "2021-10-13T15:13:54.210677Z",
     "iopub.status.idle": "2021-10-13T15:13:54.216686Z",
     "shell.execute_reply": "2021-10-13T15:13:54.215677Z",
     "shell.execute_reply.started": "2021-10-13T15:13:54.210677Z"
    }
   },
   "outputs": [
    {
     "name": "stdout",
     "output_type": "stream",
     "text": [
      "Pretty printing has been turned ON\n"
     ]
    }
   ],
   "source": [
    "pprint"
   ]
  },
  {
   "cell_type": "markdown",
   "metadata": {},
   "source": [
    "# inspect"
   ]
  },
  {
   "cell_type": "markdown",
   "metadata": {
    "execution": {
     "iopub.execute_input": "2021-10-10T04:18:57.310140Z",
     "iopub.status.busy": "2021-10-10T04:18:57.309141Z",
     "iopub.status.idle": "2021-10-10T04:18:57.328139Z",
     "shell.execute_reply": "2021-10-10T04:18:57.326138Z",
     "shell.execute_reply.started": "2021-10-10T04:18:57.309141Z"
    }
   },
   "source": [
    "The inspect module provides several useful functions to help get information about live objects such as modules, classes, methods, functions, tracebacks, frame objects, and code objects."
   ]
  },
  {
   "cell_type": "code",
   "execution_count": 19,
   "metadata": {
    "execution": {
     "iopub.execute_input": "2021-10-13T15:13:54.906167Z",
     "iopub.status.busy": "2021-10-13T15:13:54.905165Z",
     "iopub.status.idle": "2021-10-13T15:13:54.924165Z",
     "shell.execute_reply": "2021-10-13T15:13:54.923169Z",
     "shell.execute_reply.started": "2021-10-13T15:13:54.906167Z"
    }
   },
   "outputs": [],
   "source": [
    "import inspect"
   ]
  },
  {
   "cell_type": "code",
   "execution_count": 20,
   "metadata": {
    "execution": {
     "iopub.execute_input": "2021-10-13T15:13:55.142162Z",
     "iopub.status.busy": "2021-10-13T15:13:55.142162Z",
     "iopub.status.idle": "2021-10-13T15:13:55.150162Z",
     "shell.execute_reply": "2021-10-13T15:13:55.149162Z",
     "shell.execute_reply.started": "2021-10-13T15:13:55.142162Z"
    }
   },
   "outputs": [],
   "source": [
    "class anyclass:\n",
    "    def any_func(self, x):\n",
    "        return x*x*x"
   ]
  },
  {
   "cell_type": "code",
   "execution_count": 21,
   "metadata": {
    "execution": {
     "iopub.execute_input": "2021-10-13T15:13:55.360391Z",
     "iopub.status.busy": "2021-10-13T15:13:55.359389Z",
     "iopub.status.idle": "2021-10-13T15:13:55.375389Z",
     "shell.execute_reply": "2021-10-13T15:13:55.374400Z",
     "shell.execute_reply.started": "2021-10-13T15:13:55.360391Z"
    }
   },
   "outputs": [
    {
     "data": {
      "text/plain": [
       "<module '__main__'>"
      ]
     },
     "execution_count": 21,
     "metadata": {},
     "output_type": "execute_result"
    }
   ],
   "source": [
    "inspect.getmodule(anyclass.any_func)"
   ]
  },
  {
   "cell_type": "code",
   "execution_count": 22,
   "metadata": {
    "execution": {
     "iopub.execute_input": "2021-10-13T15:13:55.571401Z",
     "iopub.status.busy": "2021-10-13T15:13:55.571401Z",
     "iopub.status.idle": "2021-10-13T15:13:55.589389Z",
     "shell.execute_reply": "2021-10-13T15:13:55.588393Z",
     "shell.execute_reply.started": "2021-10-13T15:13:55.571401Z"
    }
   },
   "outputs": [
    {
     "data": {
      "text/plain": [
       "'    def any_func(self, x):\\n        return x*x*x\\n'"
      ]
     },
     "execution_count": 22,
     "metadata": {},
     "output_type": "execute_result"
    }
   ],
   "source": [
    "inspect.getsource(anyclass.any_func)"
   ]
  },
  {
   "cell_type": "code",
   "execution_count": 23,
   "metadata": {
    "execution": {
     "iopub.execute_input": "2021-10-13T15:13:55.781933Z",
     "iopub.status.busy": "2021-10-13T15:13:55.781933Z",
     "iopub.status.idle": "2021-10-13T15:13:55.800934Z",
     "shell.execute_reply": "2021-10-13T15:13:55.799929Z",
     "shell.execute_reply.started": "2021-10-13T15:13:55.781933Z"
    }
   },
   "outputs": [
    {
     "name": "stdout",
     "output_type": "stream",
     "text": [
      "def getsource(object):\n",
      "    \"\"\"Return the text of the source code for an object.\n",
      "\n",
      "    The argument may be a module, class, method, function, traceback, frame,\n",
      "    or code object.  The source code is returned as a single string.  An\n",
      "    OSError is raised if the source code cannot be retrieved.\"\"\"\n",
      "    lines, lnum = getsourcelines(object)\n",
      "    return ''.join(lines)\n",
      "\n"
     ]
    }
   ],
   "source": [
    "print(inspect.getsource(inspect.getsource))"
   ]
  },
  {
   "cell_type": "code",
   "execution_count": 24,
   "metadata": {
    "execution": {
     "iopub.execute_input": "2021-10-13T15:13:55.987557Z",
     "iopub.status.busy": "2021-10-13T15:13:55.986558Z",
     "iopub.status.idle": "2021-10-13T15:13:55.996559Z",
     "shell.execute_reply": "2021-10-13T15:13:55.995565Z",
     "shell.execute_reply.started": "2021-10-13T15:13:55.987557Z"
    }
   },
   "outputs": [
    {
     "data": {
      "text/plain": [
       "[('__class__', type),\n",
       " ('__delattr__', <slot wrapper '__delattr__' of 'object' objects>),\n",
       " ('__dict__',\n",
       "  mappingproxy({'__module__': '__main__',\n",
       "                'any_func': <function __main__.anyclass.any_func(self, x)>,\n",
       "                '__dict__': <attribute '__dict__' of 'anyclass' objects>,\n",
       "                '__weakref__': <attribute '__weakref__' of 'anyclass' objects>,\n",
       "                '__doc__': None})),\n",
       " ('__dir__', <method '__dir__' of 'object' objects>),\n",
       " ('__doc__', None),\n",
       " ('__eq__', <slot wrapper '__eq__' of 'object' objects>),\n",
       " ('__format__', <method '__format__' of 'object' objects>),\n",
       " ('__ge__', <slot wrapper '__ge__' of 'object' objects>),\n",
       " ('__getattribute__', <slot wrapper '__getattribute__' of 'object' objects>),\n",
       " ('__gt__', <slot wrapper '__gt__' of 'object' objects>),\n",
       " ('__hash__', <slot wrapper '__hash__' of 'object' objects>),\n",
       " ('__init__', <slot wrapper '__init__' of 'object' objects>),\n",
       " ('__init_subclass__', <function anyclass.__init_subclass__>),\n",
       " ('__le__', <slot wrapper '__le__' of 'object' objects>),\n",
       " ('__lt__', <slot wrapper '__lt__' of 'object' objects>),\n",
       " ('__module__', '__main__'),\n",
       " ('__ne__', <slot wrapper '__ne__' of 'object' objects>),\n",
       " ('__new__', <function object.__new__(*args, **kwargs)>),\n",
       " ('__reduce__', <method '__reduce__' of 'object' objects>),\n",
       " ('__reduce_ex__', <method '__reduce_ex__' of 'object' objects>),\n",
       " ('__repr__', <slot wrapper '__repr__' of 'object' objects>),\n",
       " ('__setattr__', <slot wrapper '__setattr__' of 'object' objects>),\n",
       " ('__sizeof__', <method '__sizeof__' of 'object' objects>),\n",
       " ('__str__', <slot wrapper '__str__' of 'object' objects>),\n",
       " ('__subclasshook__', <function anyclass.__subclasshook__>),\n",
       " ('__weakref__', <attribute '__weakref__' of 'anyclass' objects>),\n",
       " ('any_func', <function __main__.anyclass.any_func(self, x)>)]"
      ]
     },
     "execution_count": 24,
     "metadata": {},
     "output_type": "execute_result"
    }
   ],
   "source": [
    "inspect.getmembers(anyclass)"
   ]
  },
  {
   "cell_type": "code",
   "execution_count": 25,
   "metadata": {
    "execution": {
     "iopub.execute_input": "2021-10-13T15:13:56.189771Z",
     "iopub.status.busy": "2021-10-13T15:13:56.189771Z",
     "iopub.status.idle": "2021-10-13T15:13:56.206769Z",
     "shell.execute_reply": "2021-10-13T15:13:56.205770Z",
     "shell.execute_reply.started": "2021-10-13T15:13:56.189771Z"
    }
   },
   "outputs": [
    {
     "name": "stdout",
     "output_type": "stream",
     "text": [
      "1\n",
      "2\n"
     ]
    },
    {
     "data": {
      "text/plain": [
       "3"
      ]
     },
     "execution_count": 25,
     "metadata": {},
     "output_type": "execute_result"
    }
   ],
   "source": [
    "print(1)\n",
    "print(2)\n",
    "inspect.currentframe().f_lineno"
   ]
  },
  {
   "cell_type": "markdown",
   "metadata": {},
   "source": [
    "# Code Formatting"
   ]
  },
  {
   "cell_type": "markdown",
   "metadata": {},
   "source": [
    "### Pylint and Flake8"
   ]
  },
  {
   "cell_type": "markdown",
   "metadata": {},
   "source": [
    "> Pylint is a tool that checks for errors in Python. It tries to enforce a coding standard and looks for code smells. It can also look for certain type errors, it can recommend suggestions about how particular blocks can be refactored, and can offer you details about the code’s complexity."
   ]
  },
  {
   "cell_type": "markdown",
   "metadata": {},
   "source": [
    "> Flake8 is a Python library that wraps PyFlakes, pycodestyle and Ned Batchelder’s McCabe script. It is a great toolkit for checking your code base against coding style (PEP8), programming errors like “library imported but unused”, “Undefined name” and code which is not indented."
   ]
  },
  {
   "cell_type": "markdown",
   "metadata": {},
   "source": [
    "### Jupyterlab Code Formatter\n",
    "> https://jupyterlab-code-formatter.readthedocs.io/en/latest/installation.html <br>\n",
    "> https://jupyterlab-code-formatter.readthedocs.io/en/latest/how-to-use.html#changing-formatter-parameter"
   ]
  },
  {
   "cell_type": "markdown",
   "metadata": {},
   "source": [
    "# Debugging"
   ]
  },
  {
   "cell_type": "code",
   "execution_count": 26,
   "metadata": {
    "execution": {
     "iopub.execute_input": "2021-10-13T15:13:58.157646Z",
     "iopub.status.busy": "2021-10-13T15:13:58.157646Z",
     "iopub.status.idle": "2021-10-13T15:13:58.164629Z",
     "shell.execute_reply": "2021-10-13T15:13:58.163637Z",
     "shell.execute_reply.started": "2021-10-13T15:13:58.157646Z"
    }
   },
   "outputs": [],
   "source": [
    "def my_add(value_a, value_b):\n",
    "    plus_a = value_a+1\n",
    "    plus_b = value_b+1\n",
    "    return plus_a+plus_b\n",
    "\n",
    "def my_print(first, second):\n",
    "    \n",
    "    result = my_add(first,second)\n",
    "    print(int(result))\n",
    "    "
   ]
  },
  {
   "cell_type": "code",
   "execution_count": 27,
   "metadata": {
    "execution": {
     "iopub.execute_input": "2021-10-13T15:13:58.412644Z",
     "iopub.status.busy": "2021-10-13T15:13:58.412644Z",
     "iopub.status.idle": "2021-10-13T15:13:58.435631Z",
     "shell.execute_reply": "2021-10-13T15:13:58.433642Z",
     "shell.execute_reply.started": "2021-10-13T15:13:58.412644Z"
    }
   },
   "outputs": [
    {
     "ename": "TypeError",
     "evalue": "can only concatenate str (not \"int\") to str",
     "output_type": "error",
     "traceback": [
      "\u001b[1;31m---------------------------------------------------------------------------\u001b[0m",
      "\u001b[1;31mTypeError\u001b[0m                                 Traceback (most recent call last)",
      "\u001b[1;32m<ipython-input-27-8626e4689a8a>\u001b[0m in \u001b[0;36m<module>\u001b[1;34m\u001b[0m\n\u001b[1;32m----> 1\u001b[1;33m \u001b[0mmy_print\u001b[0m\u001b[1;33m(\u001b[0m\u001b[1;36m10\u001b[0m\u001b[1;33m,\u001b[0m \u001b[1;34m'10'\u001b[0m\u001b[1;33m)\u001b[0m\u001b[1;33m\u001b[0m\u001b[1;33m\u001b[0m\u001b[0m\n\u001b[0m",
      "\u001b[1;32m<ipython-input-26-4d38af6cd134>\u001b[0m in \u001b[0;36mmy_print\u001b[1;34m(first, second)\u001b[0m\n\u001b[0;32m      6\u001b[0m \u001b[1;32mdef\u001b[0m \u001b[0mmy_print\u001b[0m\u001b[1;33m(\u001b[0m\u001b[0mfirst\u001b[0m\u001b[1;33m,\u001b[0m \u001b[0msecond\u001b[0m\u001b[1;33m)\u001b[0m\u001b[1;33m:\u001b[0m\u001b[1;33m\u001b[0m\u001b[1;33m\u001b[0m\u001b[0m\n\u001b[0;32m      7\u001b[0m \u001b[1;33m\u001b[0m\u001b[0m\n\u001b[1;32m----> 8\u001b[1;33m     \u001b[0mresult\u001b[0m \u001b[1;33m=\u001b[0m \u001b[0mmy_add\u001b[0m\u001b[1;33m(\u001b[0m\u001b[0mfirst\u001b[0m\u001b[1;33m,\u001b[0m\u001b[0msecond\u001b[0m\u001b[1;33m)\u001b[0m\u001b[1;33m\u001b[0m\u001b[1;33m\u001b[0m\u001b[0m\n\u001b[0m\u001b[0;32m      9\u001b[0m     \u001b[0mprint\u001b[0m\u001b[1;33m(\u001b[0m\u001b[0mint\u001b[0m\u001b[1;33m(\u001b[0m\u001b[0mresult\u001b[0m\u001b[1;33m)\u001b[0m\u001b[1;33m)\u001b[0m\u001b[1;33m\u001b[0m\u001b[1;33m\u001b[0m\u001b[0m\n\u001b[0;32m     10\u001b[0m \u001b[1;33m\u001b[0m\u001b[0m\n",
      "\u001b[1;32m<ipython-input-26-4d38af6cd134>\u001b[0m in \u001b[0;36mmy_add\u001b[1;34m(value_a, value_b)\u001b[0m\n\u001b[0;32m      1\u001b[0m \u001b[1;32mdef\u001b[0m \u001b[0mmy_add\u001b[0m\u001b[1;33m(\u001b[0m\u001b[0mvalue_a\u001b[0m\u001b[1;33m,\u001b[0m \u001b[0mvalue_b\u001b[0m\u001b[1;33m)\u001b[0m\u001b[1;33m:\u001b[0m\u001b[1;33m\u001b[0m\u001b[1;33m\u001b[0m\u001b[0m\n\u001b[0;32m      2\u001b[0m     \u001b[0mplus_a\u001b[0m \u001b[1;33m=\u001b[0m \u001b[0mvalue_a\u001b[0m\u001b[1;33m+\u001b[0m\u001b[1;36m1\u001b[0m\u001b[1;33m\u001b[0m\u001b[1;33m\u001b[0m\u001b[0m\n\u001b[1;32m----> 3\u001b[1;33m     \u001b[0mplus_b\u001b[0m \u001b[1;33m=\u001b[0m \u001b[0mvalue_b\u001b[0m\u001b[1;33m+\u001b[0m\u001b[1;36m1\u001b[0m\u001b[1;33m\u001b[0m\u001b[1;33m\u001b[0m\u001b[0m\n\u001b[0m\u001b[0;32m      4\u001b[0m     \u001b[1;32mreturn\u001b[0m \u001b[0mplus_a\u001b[0m\u001b[1;33m+\u001b[0m\u001b[0mplus_b\u001b[0m\u001b[1;33m\u001b[0m\u001b[1;33m\u001b[0m\u001b[0m\n\u001b[0;32m      5\u001b[0m \u001b[1;33m\u001b[0m\u001b[0m\n",
      "\u001b[1;31mTypeError\u001b[0m: can only concatenate str (not \"int\") to str"
     ]
    }
   ],
   "source": [
    "my_print(10, '10')"
   ]
  },
  {
   "cell_type": "code",
   "execution_count": 28,
   "metadata": {
    "execution": {
     "iopub.execute_input": "2021-10-13T15:13:58.647745Z",
     "iopub.status.busy": "2021-10-13T15:13:58.646745Z",
     "iopub.status.idle": "2021-10-13T15:13:58.659748Z",
     "shell.execute_reply": "2021-10-13T15:13:58.658747Z",
     "shell.execute_reply.started": "2021-10-13T15:13:58.647745Z"
    }
   },
   "outputs": [
    {
     "name": "stderr",
     "output_type": "stream",
     "text": [
      "UsageError: Line magic function `%` not found.\n"
     ]
    }
   ],
   "source": [
    "%debug"
   ]
  },
  {
   "cell_type": "markdown",
   "metadata": {},
   "source": [
    "# Sorting Objects by Multiple Keys"
   ]
  },
  {
   "cell_type": "code",
   "execution_count": 29,
   "metadata": {
    "execution": {
     "iopub.execute_input": "2021-10-13T15:14:18.247403Z",
     "iopub.status.busy": "2021-10-13T15:14:18.246388Z",
     "iopub.status.idle": "2021-10-13T15:14:18.253389Z",
     "shell.execute_reply": "2021-10-13T15:14:18.252390Z",
     "shell.execute_reply.started": "2021-10-13T15:14:18.247403Z"
    }
   },
   "outputs": [],
   "source": [
    "people = [\n",
    "    {\"name\": \"John\", \"age\": 64},\n",
    "    {\"name\": \"Janet\", \"age\": 34},\n",
    "    {\"name\": \"Ed\", \"age\": 24},\n",
    "    {\"name\": \"Sara\", \"age\": 64},\n",
    "    {\"name\": \"John\", \"age\": 32},\n",
    "    {\"name\": \"Jane\", \"age\": 34},\n",
    "    {\"name\": \"John\", \"age\": 99},\n",
    "]"
   ]
  },
  {
   "cell_type": "code",
   "execution_count": 30,
   "metadata": {
    "execution": {
     "iopub.execute_input": "2021-10-13T15:14:18.920250Z",
     "iopub.status.busy": "2021-10-13T15:14:18.920250Z",
     "iopub.status.idle": "2021-10-13T15:14:18.931250Z",
     "shell.execute_reply": "2021-10-13T15:14:18.930266Z",
     "shell.execute_reply.started": "2021-10-13T15:14:18.920250Z"
    }
   },
   "outputs": [],
   "source": [
    "# SELECT * FROM people ORDER by name, age\n",
    "\n",
    "import operator\n",
    "\n",
    "people.sort(key=operator.itemgetter(\"age\"))\n",
    "people.sort(key=operator.itemgetter(\"name\"))"
   ]
  },
  {
   "cell_type": "code",
   "execution_count": 33,
   "metadata": {
    "execution": {
     "iopub.execute_input": "2021-10-13T15:14:27.403506Z",
     "iopub.status.busy": "2021-10-13T15:14:27.402505Z",
     "iopub.status.idle": "2021-10-13T15:14:27.418506Z",
     "shell.execute_reply": "2021-10-13T15:14:27.417505Z",
     "shell.execute_reply.started": "2021-10-13T15:14:27.403506Z"
    }
   },
   "outputs": [
    {
     "data": {
      "text/plain": [
       "[{'name': 'Ed', 'age': 24},\n",
       " {'name': 'Jane', 'age': 34},\n",
       " {'name': 'Janet', 'age': 34},\n",
       " {'name': 'John', 'age': 32},\n",
       " {'name': 'John', 'age': 64},\n",
       " {'name': 'John', 'age': 99},\n",
       " {'name': 'Sara', 'age': 64}]"
      ]
     },
     "execution_count": 33,
     "metadata": {},
     "output_type": "execute_result"
    }
   ],
   "source": [
    "people"
   ]
  },
  {
   "cell_type": "markdown",
   "metadata": {},
   "source": [
    "# Pickling and Unpicklong\n",
    "> a way of object serialization and deserialization"
   ]
  },
  {
   "cell_type": "code",
   "execution_count": 34,
   "metadata": {
    "execution": {
     "iopub.execute_input": "2021-10-13T15:14:33.470172Z",
     "iopub.status.busy": "2021-10-13T15:14:33.470172Z",
     "iopub.status.idle": "2021-10-13T15:14:33.489172Z",
     "shell.execute_reply": "2021-10-13T15:14:33.487181Z",
     "shell.execute_reply.started": "2021-10-13T15:14:33.470172Z"
    }
   },
   "outputs": [],
   "source": [
    "import pickle\n",
    "\n",
    "people_serialized = pickle.dumps(people)"
   ]
  },
  {
   "cell_type": "code",
   "execution_count": 35,
   "metadata": {
    "execution": {
     "iopub.execute_input": "2021-10-13T15:14:34.131524Z",
     "iopub.status.busy": "2021-10-13T15:14:34.131524Z",
     "iopub.status.idle": "2021-10-13T15:14:34.151511Z",
     "shell.execute_reply": "2021-10-13T15:14:34.150527Z",
     "shell.execute_reply.started": "2021-10-13T15:14:34.131524Z"
    }
   },
   "outputs": [
    {
     "data": {
      "text/plain": [
       "b'\\x80\\x03]q\\x00(}q\\x01(X\\x04\\x00\\x00\\x00nameq\\x02X\\x02\\x00\\x00\\x00Edq\\x03X\\x03\\x00\\x00\\x00ageq\\x04K\\x18u}q\\x05(h\\x02X\\x04\\x00\\x00\\x00Janeq\\x06h\\x04K\"u}q\\x07(h\\x02X\\x05\\x00\\x00\\x00Janetq\\x08h\\x04K\"u}q\\t(h\\x02X\\x04\\x00\\x00\\x00Johnq\\nh\\x04K u}q\\x0b(h\\x02h\\nh\\x04K@u}q\\x0c(h\\x02h\\nh\\x04Kcu}q\\r(h\\x02X\\x04\\x00\\x00\\x00Saraq\\x0eh\\x04K@ue.'"
      ]
     },
     "execution_count": 35,
     "metadata": {},
     "output_type": "execute_result"
    }
   ],
   "source": [
    "people_serialized"
   ]
  },
  {
   "cell_type": "code",
   "execution_count": 36,
   "metadata": {
    "execution": {
     "iopub.execute_input": "2021-10-13T15:14:34.789326Z",
     "iopub.status.busy": "2021-10-13T15:14:34.789326Z",
     "iopub.status.idle": "2021-10-13T15:14:34.801340Z",
     "shell.execute_reply": "2021-10-13T15:14:34.800339Z",
     "shell.execute_reply.started": "2021-10-13T15:14:34.789326Z"
    }
   },
   "outputs": [],
   "source": [
    "new_people = pickle.loads(people_serialized)"
   ]
  },
  {
   "cell_type": "code",
   "execution_count": 37,
   "metadata": {
    "execution": {
     "iopub.execute_input": "2021-10-13T15:14:35.217511Z",
     "iopub.status.busy": "2021-10-13T15:14:35.217511Z",
     "iopub.status.idle": "2021-10-13T15:14:35.239512Z",
     "shell.execute_reply": "2021-10-13T15:14:35.238512Z",
     "shell.execute_reply.started": "2021-10-13T15:14:35.217511Z"
    }
   },
   "outputs": [
    {
     "data": {
      "text/plain": [
       "True"
      ]
     },
     "execution_count": 37,
     "metadata": {},
     "output_type": "execute_result"
    }
   ],
   "source": [
    "new_people == people"
   ]
  },
  {
   "cell_type": "markdown",
   "metadata": {},
   "source": [
    "# Today's Tip"
   ]
  },
  {
   "cell_type": "markdown",
   "metadata": {},
   "source": [
    "Why should we explicitly add every time \"import\" module statements? "
   ]
  },
  {
   "cell_type": "code",
   "execution_count": 38,
   "metadata": {
    "execution": {
     "iopub.execute_input": "2021-10-13T15:14:36.619514Z",
     "iopub.status.busy": "2021-10-13T15:14:36.618525Z",
     "iopub.status.idle": "2021-10-13T15:14:36.642511Z",
     "shell.execute_reply": "2021-10-13T15:14:36.640520Z",
     "shell.execute_reply.started": "2021-10-13T15:14:36.619514Z"
    }
   },
   "outputs": [],
   "source": [
    "df = pd.DataFrame(data={'first' : [21,15,10], 'second' : [11, 12, 13]}, index=[0,1,2])"
   ]
  },
  {
   "cell_type": "code",
   "execution_count": 39,
   "metadata": {
    "execution": {
     "iopub.execute_input": "2021-10-13T15:14:36.822513Z",
     "iopub.status.busy": "2021-10-13T15:14:36.821510Z",
     "iopub.status.idle": "2021-10-13T15:14:36.867512Z",
     "shell.execute_reply": "2021-10-13T15:14:36.866512Z",
     "shell.execute_reply.started": "2021-10-13T15:14:36.822513Z"
    }
   },
   "outputs": [
    {
     "data": {
      "text/html": [
       "<div>\n",
       "<style scoped>\n",
       "    .dataframe tbody tr th:only-of-type {\n",
       "        vertical-align: middle;\n",
       "    }\n",
       "\n",
       "    .dataframe tbody tr th {\n",
       "        vertical-align: top;\n",
       "    }\n",
       "\n",
       "    .dataframe thead th {\n",
       "        text-align: right;\n",
       "    }\n",
       "</style>\n",
       "<table border=\"1\" class=\"dataframe\">\n",
       "  <thead>\n",
       "    <tr style=\"text-align: right;\">\n",
       "      <th></th>\n",
       "      <th>first</th>\n",
       "      <th>second</th>\n",
       "    </tr>\n",
       "  </thead>\n",
       "  <tbody>\n",
       "    <tr>\n",
       "      <th>0</th>\n",
       "      <td>21</td>\n",
       "      <td>11</td>\n",
       "    </tr>\n",
       "    <tr>\n",
       "      <th>1</th>\n",
       "      <td>15</td>\n",
       "      <td>12</td>\n",
       "    </tr>\n",
       "    <tr>\n",
       "      <th>2</th>\n",
       "      <td>10</td>\n",
       "      <td>13</td>\n",
       "    </tr>\n",
       "  </tbody>\n",
       "</table>\n",
       "</div>"
      ],
      "text/plain": [
       "   first  second\n",
       "0     21      11\n",
       "1     15      12\n",
       "2     10      13"
      ]
     },
     "execution_count": 39,
     "metadata": {},
     "output_type": "execute_result"
    }
   ],
   "source": [
    "df"
   ]
  },
  {
   "cell_type": "code",
   "execution_count": 40,
   "metadata": {
    "execution": {
     "iopub.execute_input": "2021-10-13T15:14:37.018511Z",
     "iopub.status.busy": "2021-10-13T15:14:37.018511Z",
     "iopub.status.idle": "2021-10-13T15:14:37.309512Z",
     "shell.execute_reply": "2021-10-13T15:14:37.307511Z",
     "shell.execute_reply.started": "2021-10-13T15:14:37.018511Z"
    }
   },
   "outputs": [
    {
     "data": {
      "text/plain": [
       "<AxesSubplot:>"
      ]
     },
     "execution_count": 40,
     "metadata": {},
     "output_type": "execute_result"
    },
    {
     "data": {
      "image/png": "[encoded data removed]",
      "text/plain": [
       "<Figure size 432x288 with 1 Axes>"
      ]
     },
     "metadata": {
      "needs_background": "light"
     },
     "output_type": "display_data"
    }
   ],
   "source": [
    "df.plot()"
   ]
  },
  {
   "cell_type": "code",
   "execution_count": 41,
   "metadata": {
    "execution": {
     "iopub.execute_input": "2021-10-13T15:14:37.312511Z",
     "iopub.status.busy": "2021-10-13T15:14:37.312511Z",
     "iopub.status.idle": "2021-10-13T15:14:38.413690Z",
     "shell.execute_reply": "2021-10-13T15:14:38.411690Z",
     "shell.execute_reply.started": "2021-10-13T15:14:37.312511Z"
    }
   },
   "outputs": [
    {
     "data": {
      "application/javascript": [
       "\n",
       "        if (window._pyforest_update_imports_cell) { window._pyforest_update_imports_cell('import seaborn as sns'); }\n",
       "    "
      ],
      "text/plain": [
       "<IPython.core.display.Javascript object>"
      ]
     },
     "metadata": {},
     "output_type": "display_data"
    },
    {
     "ename": "AttributeError",
     "evalue": "module 'seaborn' has no attribute 'plot'",
     "output_type": "error",
     "traceback": [
      "\u001b[1;31m---------------------------------------------------------------------------\u001b[0m",
      "\u001b[1;31mAttributeError\u001b[0m                            Traceback (most recent call last)",
      "\u001b[1;32m<ipython-input-41-52fde9146a1e>\u001b[0m in \u001b[0;36m<module>\u001b[1;34m\u001b[0m\n\u001b[1;32m----> 1\u001b[1;33m \u001b[0msns\u001b[0m\u001b[1;33m.\u001b[0m\u001b[0mplot\u001b[0m\u001b[1;33m(\u001b[0m\u001b[0mdf\u001b[0m\u001b[1;33m)\u001b[0m\u001b[1;33m\u001b[0m\u001b[1;33m\u001b[0m\u001b[0m\n\u001b[0m",
      "\u001b[1;32mC:\\ProgramData\\Anaconda3\\lib\\site-packages\\pyforest\\_importable.py\u001b[0m in \u001b[0;36m__getattr__\u001b[1;34m(self, attribute)\u001b[0m\n\u001b[0;32m     69\u001b[0m     \u001b[1;32mdef\u001b[0m \u001b[0m__getattr__\u001b[0m\u001b[1;33m(\u001b[0m\u001b[0mself\u001b[0m\u001b[1;33m,\u001b[0m \u001b[0mattribute\u001b[0m\u001b[1;33m)\u001b[0m\u001b[1;33m:\u001b[0m\u001b[1;33m\u001b[0m\u001b[1;33m\u001b[0m\u001b[0m\n\u001b[0;32m     70\u001b[0m         \u001b[0mself\u001b[0m\u001b[1;33m.\u001b[0m\u001b[0m__maybe_import__\u001b[0m\u001b[1;33m(\u001b[0m\u001b[1;33m)\u001b[0m\u001b[1;33m\u001b[0m\u001b[1;33m\u001b[0m\u001b[0m\n\u001b[1;32m---> 71\u001b[1;33m         \u001b[1;32mreturn\u001b[0m \u001b[0meval\u001b[0m\u001b[1;33m(\u001b[0m\u001b[1;34mf\"{self.__imported_name__}.{attribute}\"\u001b[0m\u001b[1;33m)\u001b[0m\u001b[1;33m\u001b[0m\u001b[1;33m\u001b[0m\u001b[0m\n\u001b[0m\u001b[0;32m     72\u001b[0m \u001b[1;33m\u001b[0m\u001b[0m\n\u001b[0;32m     73\u001b[0m     \u001b[1;31m# called for callable objects, e.g. from pathlib import Path; Path(\".\")\u001b[0m\u001b[1;33m\u001b[0m\u001b[1;33m\u001b[0m\u001b[1;33m\u001b[0m\u001b[0m\n",
      "\u001b[1;32mC:\\ProgramData\\Anaconda3\\lib\\site-packages\\pyforest\\_importable.py\u001b[0m in \u001b[0;36m<module>\u001b[1;34m\u001b[0m\n",
      "\u001b[1;31mAttributeError\u001b[0m: module 'seaborn' has no attribute 'plot'"
     ]
    }
   ],
   "source": [
    "sns.plot(df)"
   ]
  },
  {
   "cell_type": "code",
   "execution_count": 42,
   "metadata": {
    "execution": {
     "iopub.execute_input": "2021-10-13T15:14:53.074558Z",
     "iopub.status.busy": "2021-10-13T15:14:53.074558Z",
     "iopub.status.idle": "2021-10-13T15:14:53.081552Z",
     "shell.execute_reply": "2021-10-13T15:14:53.080551Z",
     "shell.execute_reply.started": "2021-10-13T15:14:53.074558Z"
    }
   },
   "outputs": [],
   "source": [
    "import pyforest"
   ]
  },
  {
   "cell_type": "code",
   "execution_count": 43,
   "metadata": {
    "execution": {
     "iopub.execute_input": "2021-10-13T15:14:54.308889Z",
     "iopub.status.busy": "2021-10-13T15:14:54.307889Z",
     "iopub.status.idle": "2021-10-13T15:14:54.528886Z",
     "shell.execute_reply": "2021-10-13T15:14:54.527888Z",
     "shell.execute_reply.started": "2021-10-13T15:14:54.308889Z"
    }
   },
   "outputs": [
    {
     "data": {
      "application/javascript": [
       "\n",
       "        if (window._pyforest_update_imports_cell) { window._pyforest_update_imports_cell('import seaborn as sns'); }\n",
       "    "
      ],
      "text/plain": [
       "<IPython.core.display.Javascript object>"
      ]
     },
     "metadata": {},
     "output_type": "display_data"
    },
    {
     "data": {
      "text/plain": [
       "<AxesSubplot:>"
      ]
     },
     "execution_count": 43,
     "metadata": {},
     "output_type": "execute_result"
    },
    {
     "data": {
      "image/png": "[encoded data removed]",
      "text/plain": [
       "<Figure size 432x288 with 1 Axes>"
      ]
     },
     "metadata": {
      "needs_background": "light"
     },
     "output_type": "display_data"
    }
   ],
   "source": [
    "sns.lineplot(data=df)"
   ]
  },
  {
   "cell_type": "markdown",
   "metadata": {},
   "source": [
    "## Practical Coding Techniques"
   ]
  },
  {
   "cell_type": "markdown",
   "metadata": {},
   "source": [
    "** 32 Advanced Techniques for Better Python Code ** <br>\n",
    "https://betterprogramming.pub/thirty-two-advanced-techniques-for-better-python-code-6717226eb611"
   ]
  }
 ],
 "metadata": {
  "kernelspec": {
   "display_name": "Python 3",
   "language": "python",
   "name": "python3"
  },
  "language_info": {
   "codemirror_mode": {
    "name": "ipython",
    "version": 3
   },
   "file_extension": ".py",
   "mimetype": "text/x-python",
   "name": "python",
   "nbconvert_exporter": "python",
   "pygments_lexer": "ipython3",
   "version": "3.7.8"
  }
 },
 "nbformat": 4,
 "nbformat_minor": 4
}
