{
 "cells": [
  {
   "cell_type": "markdown",
   "metadata": {
    "execution": {
     "iopub.execute_input": "2021-09-01T07:17:17.571570Z",
     "iopub.status.busy": "2021-09-01T07:17:17.570576Z",
     "iopub.status.idle": "2021-09-01T07:17:17.585569Z",
     "shell.execute_reply": "2021-09-01T07:17:17.584584Z",
     "shell.execute_reply.started": "2021-09-01T07:17:17.571570Z"
    }
   },
   "source": [
    "<font size=6> <b> Advanced Python : week #5</b> </font>\n",
    "<div class=\"alert alert-block alert-success\">\n",
    "   Advanced Python features <br>\n",
    "    <ol>\n",
    "        <li> asyncio : iterator/generator/coroutine </li>\n",
    "    </ol>\n",
    "</div>\n",
    "\n",
    "<p style=\"text-align:right;\"> sumyeon@gmail.com </p>"
   ]
  },
  {
   "cell_type": "markdown",
   "metadata": {},
   "source": [
    "# Asyncio : Iterator/Generator/Coroutine\n",
    "- coroutine is a core concept of asynchronous programming which is provided by 'asyncio' module\n",
    "- coroutine is implemented using the syntax/mechanism of generator\n",
    "- generator is a kind of iterator "
   ]
  },
  {
   "cell_type": "markdown",
   "metadata": {},
   "source": [
    "## iterable/iterator"
   ]
  },
  {
   "cell_type": "markdown",
   "metadata": {},
   "source": [
    "### list, dict, set, tuple are iterable objects"
   ]
  },
  {
   "cell_type": "code",
   "execution_count": 1,
   "metadata": {
    "execution": {
     "iopub.execute_input": "2021-09-29T14:18:55.171772Z",
     "iopub.status.busy": "2021-09-29T14:18:55.171772Z",
     "iopub.status.idle": "2021-09-29T14:18:55.184758Z",
     "shell.execute_reply": "2021-09-29T14:18:55.183751Z",
     "shell.execute_reply.started": "2021-09-29T14:18:55.171772Z"
    }
   },
   "outputs": [],
   "source": [
    "a = [2,4,6,8,10]"
   ]
  },
  {
   "cell_type": "code",
   "execution_count": 2,
   "metadata": {
    "execution": {
     "iopub.execute_input": "2021-09-29T14:18:55.346754Z",
     "iopub.status.busy": "2021-09-29T14:18:55.345752Z",
     "iopub.status.idle": "2021-09-29T14:18:55.364755Z",
     "shell.execute_reply": "2021-09-29T14:18:55.363753Z",
     "shell.execute_reply.started": "2021-09-29T14:18:55.346754Z"
    },
    "tags": []
   },
   "outputs": [
    {
     "name": "stdout",
     "output_type": "stream",
     "text": [
      "2\n",
      "4\n",
      "6\n",
      "8\n",
      "10\n"
     ]
    }
   ],
   "source": [
    "for val in a:\n",
    "    print(val)"
   ]
  },
  {
   "cell_type": "markdown",
   "metadata": {},
   "source": [
    "### mechanism under iteration\n",
    "\n",
    "- iterable object is that can return its members one by one\n",
    " > technically, iterable objects are those with __iter__ method which will return iterator\n",
    "- iterator is an object which can be iterated one by one\n",
    " > technically, iterator are those with __next__ method which will return its members one by one. "
   ]
  },
  {
   "cell_type": "code",
   "execution_count": 3,
   "metadata": {
    "execution": {
     "iopub.execute_input": "2021-09-29T14:18:55.712369Z",
     "iopub.status.busy": "2021-09-29T14:18:55.712369Z",
     "iopub.status.idle": "2021-09-29T14:18:55.725353Z",
     "shell.execute_reply": "2021-09-29T14:18:55.724352Z",
     "shell.execute_reply.started": "2021-09-29T14:18:55.712369Z"
    },
    "tags": []
   },
   "outputs": [
    {
     "data": {
      "text/plain": [
       "True"
      ]
     },
     "execution_count": 3,
     "metadata": {},
     "output_type": "execute_result"
    }
   ],
   "source": [
    "a = [2,4,6,8,10]\n",
    "'__iter__' in a.__class__.__dict__"
   ]
  },
  {
   "cell_type": "code",
   "execution_count": 4,
   "metadata": {
    "execution": {
     "iopub.execute_input": "2021-09-29T14:18:55.895358Z",
     "iopub.status.busy": "2021-09-29T14:18:55.894355Z",
     "iopub.status.idle": "2021-09-29T14:18:55.905353Z",
     "shell.execute_reply": "2021-09-29T14:18:55.904354Z",
     "shell.execute_reply.started": "2021-09-29T14:18:55.894355Z"
    },
    "tags": []
   },
   "outputs": [
    {
     "name": "stdout",
     "output_type": "stream",
     "text": [
      "<class 'list_iterator'>\n"
     ]
    }
   ],
   "source": [
    "iter_a =  iter(a)\n",
    "print(type(iter_a))"
   ]
  },
  {
   "cell_type": "code",
   "execution_count": 5,
   "metadata": {
    "execution": {
     "iopub.execute_input": "2021-09-29T14:18:56.070366Z",
     "iopub.status.busy": "2021-09-29T14:18:56.070366Z",
     "iopub.status.idle": "2021-09-29T14:18:56.085354Z",
     "shell.execute_reply": "2021-09-29T14:18:56.084356Z",
     "shell.execute_reply.started": "2021-09-29T14:18:56.070366Z"
    },
    "tags": []
   },
   "outputs": [
    {
     "data": {
      "text/plain": [
       "True"
      ]
     },
     "execution_count": 5,
     "metadata": {},
     "output_type": "execute_result"
    }
   ],
   "source": [
    "'__next__' in iter_a.__class__.__dict__"
   ]
  },
  {
   "cell_type": "code",
   "execution_count": 6,
   "metadata": {
    "execution": {
     "iopub.execute_input": "2021-09-29T14:18:56.254358Z",
     "iopub.status.busy": "2021-09-29T14:18:56.254358Z",
     "iopub.status.idle": "2021-09-29T14:18:56.265355Z",
     "shell.execute_reply": "2021-09-29T14:18:56.264354Z",
     "shell.execute_reply.started": "2021-09-29T14:18:56.254358Z"
    },
    "tags": []
   },
   "outputs": [
    {
     "data": {
      "text/plain": [
       "(2, 4, 6, 8, 10)"
      ]
     },
     "execution_count": 6,
     "metadata": {},
     "output_type": "execute_result"
    }
   ],
   "source": [
    "next(iter_a), next(iter_a), next(iter_a), next(iter_a), next(iter_a)"
   ]
  },
  {
   "cell_type": "code",
   "execution_count": 7,
   "metadata": {
    "execution": {
     "iopub.execute_input": "2021-09-29T14:18:56.433450Z",
     "iopub.status.busy": "2021-09-29T14:18:56.432457Z",
     "iopub.status.idle": "2021-09-29T14:18:56.596451Z",
     "shell.execute_reply": "2021-09-29T14:18:56.595458Z",
     "shell.execute_reply.started": "2021-09-29T14:18:56.433450Z"
    },
    "tags": []
   },
   "outputs": [
    {
     "ename": "StopIteration",
     "evalue": "",
     "output_type": "error",
     "traceback": [
      "\u001b[1;31m---------------------------------------------------------------------------\u001b[0m",
      "\u001b[1;31mStopIteration\u001b[0m                             Traceback (most recent call last)",
      "\u001b[1;32m<ipython-input-7-5020f13ec362>\u001b[0m in \u001b[0;36m<module>\u001b[1;34m\u001b[0m\n\u001b[1;32m----> 1\u001b[1;33m \u001b[0mnext\u001b[0m\u001b[1;33m(\u001b[0m\u001b[0miter_a\u001b[0m\u001b[1;33m)\u001b[0m\u001b[1;33m\u001b[0m\u001b[1;33m\u001b[0m\u001b[0m\n\u001b[0m",
      "\u001b[1;31mStopIteration\u001b[0m: "
     ]
    }
   ],
   "source": [
    "next(iter_a)"
   ]
  },
  {
   "cell_type": "markdown",
   "metadata": {},
   "source": [
    "### example of an iterable class"
   ]
  },
  {
   "cell_type": "code",
   "execution_count": 8,
   "metadata": {
    "execution": {
     "iopub.execute_input": "2021-09-29T14:18:57.115009Z",
     "iopub.status.busy": "2021-09-29T14:18:57.114016Z",
     "iopub.status.idle": "2021-09-29T14:18:57.123027Z",
     "shell.execute_reply": "2021-09-29T14:18:57.122014Z",
     "shell.execute_reply.started": "2021-09-29T14:18:57.115009Z"
    },
    "tags": []
   },
   "outputs": [],
   "source": [
    "class SimpleRange:\n",
    "    \"\"\"Class to implement an iterator\n",
    "    of powers of two\"\"\"\n",
    "\n",
    "    def __init__(self, max=0):\n",
    "        self.max = max\n",
    "\n",
    "    def __iter__(self):\n",
    "        self.n = 0\n",
    "        return self\n",
    "\n",
    "    def __next__(self):\n",
    "        if self.n < self.max:\n",
    "            result = self.n\n",
    "            self.n += 1\n",
    "            return result\n",
    "        else:\n",
    "            raise StopIteration"
   ]
  },
  {
   "cell_type": "code",
   "execution_count": 9,
   "metadata": {
    "execution": {
     "iopub.execute_input": "2021-09-29T14:18:57.294018Z",
     "iopub.status.busy": "2021-09-29T14:18:57.293008Z",
     "iopub.status.idle": "2021-09-29T14:18:57.303010Z",
     "shell.execute_reply": "2021-09-29T14:18:57.302006Z",
     "shell.execute_reply.started": "2021-09-29T14:18:57.294018Z"
    },
    "tags": []
   },
   "outputs": [
    {
     "name": "stdout",
     "output_type": "stream",
     "text": [
      "0\n",
      "1\n",
      "2\n",
      "3\n",
      "4\n"
     ]
    }
   ],
   "source": [
    "# for - in syntax first call the iter function, and call the next function till StopIteration exception\n",
    "for i in SimpleRange(5):\n",
    "    print(i)"
   ]
  },
  {
   "cell_type": "markdown",
   "metadata": {},
   "source": [
    "## Generator\n",
    "- A kind of iterator, but simpler than iterator at coding\n",
    "- technicall, a generator object is the one with 'yield'\n",
    "- 'yield' is a keyword that is used like return, except the function will return a generator"
   ]
  },
  {
   "cell_type": "markdown",
   "metadata": {},
   "source": [
    "### An Example"
   ]
  },
  {
   "cell_type": "code",
   "execution_count": 10,
   "metadata": {
    "execution": {
     "iopub.execute_input": "2021-09-29T14:18:57.836286Z",
     "iopub.status.busy": "2021-09-29T14:18:57.836286Z",
     "iopub.status.idle": "2021-09-29T14:18:57.844288Z",
     "shell.execute_reply": "2021-09-29T14:18:57.843296Z",
     "shell.execute_reply.started": "2021-09-29T14:18:57.836286Z"
    },
    "tags": []
   },
   "outputs": [],
   "source": [
    "def create_generator():\n",
    "    for i in range(4):\n",
    "        yield i*i"
   ]
  },
  {
   "cell_type": "code",
   "execution_count": 11,
   "metadata": {
    "execution": {
     "iopub.execute_input": "2021-09-29T14:18:58.036303Z",
     "iopub.status.busy": "2021-09-29T14:18:58.036303Z",
     "iopub.status.idle": "2021-09-29T14:18:58.055295Z",
     "shell.execute_reply": "2021-09-29T14:18:58.054295Z",
     "shell.execute_reply.started": "2021-09-29T14:18:58.036303Z"
    },
    "tags": []
   },
   "outputs": [
    {
     "name": "stdout",
     "output_type": "stream",
     "text": [
      "<generator object create_generator at 0x000001D2FABF16C8>\n"
     ]
    }
   ],
   "source": [
    "gen_instance = create_generator()\n",
    "\n",
    "print(gen_instance)"
   ]
  },
  {
   "cell_type": "code",
   "execution_count": 12,
   "metadata": {
    "execution": {
     "iopub.execute_input": "2021-09-29T14:18:58.209288Z",
     "iopub.status.busy": "2021-09-29T14:18:58.208292Z",
     "iopub.status.idle": "2021-09-29T14:18:58.221297Z",
     "shell.execute_reply": "2021-09-29T14:18:58.219290Z",
     "shell.execute_reply.started": "2021-09-29T14:18:58.209288Z"
    },
    "tags": []
   },
   "outputs": [
    {
     "name": "stdout",
     "output_type": "stream",
     "text": [
      "0\n",
      "1\n",
      "4\n",
      "9\n"
     ]
    }
   ],
   "source": [
    "print(next(gen_instance))\n",
    "\n",
    "print(next(gen_instance))\n",
    "\n",
    "print(next(gen_instance))\n",
    "\n",
    "print(next(gen_instance))"
   ]
  },
  {
   "cell_type": "code",
   "execution_count": 13,
   "metadata": {
    "execution": {
     "iopub.execute_input": "2021-09-29T14:18:58.390471Z",
     "iopub.status.busy": "2021-09-29T14:18:58.389473Z",
     "iopub.status.idle": "2021-09-29T14:18:58.417466Z",
     "shell.execute_reply": "2021-09-29T14:18:58.414461Z",
     "shell.execute_reply.started": "2021-09-29T14:18:58.390471Z"
    },
    "tags": []
   },
   "outputs": [
    {
     "ename": "StopIteration",
     "evalue": "",
     "output_type": "error",
     "traceback": [
      "\u001b[1;31m---------------------------------------------------------------------------\u001b[0m",
      "\u001b[1;31mStopIteration\u001b[0m                             Traceback (most recent call last)",
      "\u001b[1;32m<ipython-input-13-fa14d6f21d3b>\u001b[0m in \u001b[0;36m<module>\u001b[1;34m\u001b[0m\n\u001b[1;32m----> 1\u001b[1;33m \u001b[0mprint\u001b[0m\u001b[1;33m(\u001b[0m\u001b[0mnext\u001b[0m\u001b[1;33m(\u001b[0m\u001b[0mgen_instance\u001b[0m\u001b[1;33m)\u001b[0m\u001b[1;33m)\u001b[0m\u001b[1;33m\u001b[0m\u001b[1;33m\u001b[0m\u001b[0m\n\u001b[0m",
      "\u001b[1;31mStopIteration\u001b[0m: "
     ]
    }
   ],
   "source": [
    "print(next(gen_instance))"
   ]
  },
  {
   "cell_type": "code",
   "execution_count": 14,
   "metadata": {
    "execution": {
     "iopub.execute_input": "2021-09-29T14:18:58.588854Z",
     "iopub.status.busy": "2021-09-29T14:18:58.588854Z",
     "iopub.status.idle": "2021-09-29T14:18:58.596860Z",
     "shell.execute_reply": "2021-09-29T14:18:58.595850Z",
     "shell.execute_reply.started": "2021-09-29T14:18:58.588854Z"
    },
    "tags": []
   },
   "outputs": [
    {
     "name": "stdout",
     "output_type": "stream",
     "text": [
      "0\n",
      "1\n",
      "4\n",
      "9\n"
     ]
    }
   ],
   "source": [
    "for i in create_generator():\n",
    "    print(i)"
   ]
  },
  {
   "cell_type": "markdown",
   "metadata": {},
   "source": [
    "### Comparison with Iterator\n",
    "- the instance creation will match the '__iter__' call of Iterator\n",
    "- code before the 'yield' and the 'yield' itself will match the '__next__' calls\n",
    "- at the end of 'yield', the unmatched '__next__' call will raise StopIteration exception"
   ]
  },
  {
   "cell_type": "code",
   "execution_count": 15,
   "metadata": {
    "execution": {
     "iopub.execute_input": "2021-09-29T14:18:58.946116Z",
     "iopub.status.busy": "2021-09-29T14:18:58.946116Z",
     "iopub.status.idle": "2021-09-29T14:18:58.957100Z",
     "shell.execute_reply": "2021-09-29T14:18:58.956116Z",
     "shell.execute_reply.started": "2021-09-29T14:18:58.946116Z"
    },
    "tags": []
   },
   "outputs": [],
   "source": [
    "def gen_template():\n",
    "    print(\"before 1st yield\")\n",
    "    yield 1\n",
    "    print(\"after 1st bet before the 2nd yield\")\n",
    "    yield 2\n",
    "    print(\"after 2nd yield\")"
   ]
  },
  {
   "cell_type": "code",
   "execution_count": 16,
   "metadata": {
    "execution": {
     "iopub.execute_input": "2021-09-29T14:18:59.120101Z",
     "iopub.status.busy": "2021-09-29T14:18:59.120101Z",
     "iopub.status.idle": "2021-09-29T14:18:59.137105Z",
     "shell.execute_reply": "2021-09-29T14:18:59.136110Z",
     "shell.execute_reply.started": "2021-09-29T14:18:59.120101Z"
    },
    "tags": []
   },
   "outputs": [
    {
     "name": "stdout",
     "output_type": "stream",
     "text": [
      "before 1st yield\n"
     ]
    },
    {
     "data": {
      "text/plain": [
       "1"
      ]
     },
     "execution_count": 16,
     "metadata": {},
     "output_type": "execute_result"
    }
   ],
   "source": [
    "next(gen_template())"
   ]
  },
  {
   "cell_type": "code",
   "execution_count": 17,
   "metadata": {
    "execution": {
     "iopub.execute_input": "2021-09-29T14:18:59.311335Z",
     "iopub.status.busy": "2021-09-29T14:18:59.310336Z",
     "iopub.status.idle": "2021-09-29T14:18:59.317340Z",
     "shell.execute_reply": "2021-09-29T14:18:59.316344Z",
     "shell.execute_reply.started": "2021-09-29T14:18:59.311335Z"
    },
    "tags": []
   },
   "outputs": [],
   "source": [
    "gen_iter = iter(gen_template())"
   ]
  },
  {
   "cell_type": "code",
   "execution_count": 18,
   "metadata": {
    "execution": {
     "iopub.execute_input": "2021-09-29T14:18:59.517568Z",
     "iopub.status.busy": "2021-09-29T14:18:59.517568Z",
     "iopub.status.idle": "2021-09-29T14:18:59.527558Z",
     "shell.execute_reply": "2021-09-29T14:18:59.526568Z",
     "shell.execute_reply.started": "2021-09-29T14:18:59.517568Z"
    },
    "tags": []
   },
   "outputs": [
    {
     "name": "stdout",
     "output_type": "stream",
     "text": [
      "before 1st yield\n"
     ]
    },
    {
     "data": {
      "text/plain": [
       "1"
      ]
     },
     "execution_count": 18,
     "metadata": {},
     "output_type": "execute_result"
    }
   ],
   "source": [
    "next(gen_iter)"
   ]
  },
  {
   "cell_type": "code",
   "execution_count": 19,
   "metadata": {
    "execution": {
     "iopub.execute_input": "2021-09-29T14:18:59.728789Z",
     "iopub.status.busy": "2021-09-29T14:18:59.728789Z",
     "iopub.status.idle": "2021-09-29T14:18:59.738777Z",
     "shell.execute_reply": "2021-09-29T14:18:59.737772Z",
     "shell.execute_reply.started": "2021-09-29T14:18:59.728789Z"
    },
    "tags": []
   },
   "outputs": [
    {
     "name": "stdout",
     "output_type": "stream",
     "text": [
      "after 1st bet before the 2nd yield\n"
     ]
    },
    {
     "data": {
      "text/plain": [
       "2"
      ]
     },
     "execution_count": 19,
     "metadata": {},
     "output_type": "execute_result"
    }
   ],
   "source": [
    "next(gen_iter)"
   ]
  },
  {
   "cell_type": "code",
   "execution_count": 20,
   "metadata": {
    "execution": {
     "iopub.execute_input": "2021-09-29T14:18:59.942776Z",
     "iopub.status.busy": "2021-09-29T14:18:59.942776Z",
     "iopub.status.idle": "2021-09-29T14:18:59.964777Z",
     "shell.execute_reply": "2021-09-29T14:18:59.962783Z",
     "shell.execute_reply.started": "2021-09-29T14:18:59.942776Z"
    },
    "tags": []
   },
   "outputs": [
    {
     "name": "stdout",
     "output_type": "stream",
     "text": [
      "after 2nd yield\n"
     ]
    },
    {
     "ename": "StopIteration",
     "evalue": "",
     "output_type": "error",
     "traceback": [
      "\u001b[1;31m---------------------------------------------------------------------------\u001b[0m",
      "\u001b[1;31mStopIteration\u001b[0m                             Traceback (most recent call last)",
      "\u001b[1;32m<ipython-input-20-f8a340ef3282>\u001b[0m in \u001b[0;36m<module>\u001b[1;34m\u001b[0m\n\u001b[1;32m----> 1\u001b[1;33m \u001b[0mnext\u001b[0m\u001b[1;33m(\u001b[0m\u001b[0mgen_iter\u001b[0m\u001b[1;33m)\u001b[0m\u001b[1;33m\u001b[0m\u001b[1;33m\u001b[0m\u001b[0m\n\u001b[0m",
      "\u001b[1;31mStopIteration\u001b[0m: "
     ]
    }
   ],
   "source": [
    "next(gen_iter)"
   ]
  },
  {
   "cell_type": "markdown",
   "metadata": {},
   "source": [
    "### yield from\n",
    "- syntatic sugar for the below frequently used pattern <br>\n",
    "\n",
    "<pre>\n",
    "    for xxx in source: \n",
    "        yield xxx\n",
    "=>\n",
    "    yield from source\n",
    "</pre>"
   ]
  },
  {
   "cell_type": "code",
   "execution_count": 21,
   "metadata": {
    "execution": {
     "iopub.execute_input": "2021-09-29T14:19:00.310535Z",
     "iopub.status.busy": "2021-09-29T14:19:00.310535Z",
     "iopub.status.idle": "2021-09-29T14:19:00.324519Z",
     "shell.execute_reply": "2021-09-29T14:19:00.323532Z",
     "shell.execute_reply.started": "2021-09-29T14:19:00.310535Z"
    },
    "tags": []
   },
   "outputs": [
    {
     "name": "stdout",
     "output_type": "stream",
     "text": [
      "0\n",
      "1\n",
      "2\n",
      "3\n",
      "4\n",
      "5\n",
      "6\n",
      "7\n",
      "8\n",
      "9\n"
     ]
    }
   ],
   "source": [
    "def baz():\n",
    "    for i in range(5):\n",
    "        yield i\n",
    "\n",
    "def bar():\n",
    "    for i in range(5,10):\n",
    "        yield i\n",
    "\n",
    "def foo():\n",
    "    for v in baz():\n",
    "        yield v\n",
    "    for v in bar():\n",
    "        yield v\n",
    "\n",
    "for v in foo():\n",
    "    print(v)"
   ]
  },
  {
   "cell_type": "code",
   "execution_count": 22,
   "metadata": {
    "execution": {
     "iopub.execute_input": "2021-09-29T14:19:00.494587Z",
     "iopub.status.busy": "2021-09-29T14:19:00.494587Z",
     "iopub.status.idle": "2021-09-29T14:19:00.504589Z",
     "shell.execute_reply": "2021-09-29T14:19:00.503600Z",
     "shell.execute_reply.started": "2021-09-29T14:19:00.494587Z"
    },
    "tags": []
   },
   "outputs": [
    {
     "name": "stdout",
     "output_type": "stream",
     "text": [
      "0\n",
      "1\n",
      "2\n",
      "3\n",
      "4\n",
      "5\n",
      "6\n",
      "7\n",
      "8\n",
      "9\n"
     ]
    }
   ],
   "source": [
    "def baz():\n",
    "    for i in range(5):\n",
    "        yield i\n",
    "\n",
    "def bar():\n",
    "    for i in range(5,10):\n",
    "        yield i\n",
    "\n",
    "def foo():\n",
    "    yield from baz()\n",
    "    yield from bar()\n",
    "\n",
    "for v in foo():\n",
    "    print(v)"
   ]
  },
  {
   "cell_type": "markdown",
   "metadata": {},
   "source": [
    "## Coroutine\n",
    "- is a building block of asynchronous programming\n",
    "- functions whose execution can be paused/suspended at a particular point\n",
    "- while generators are data producuers, coroutines are data consumers"
   ]
  },
  {
   "cell_type": "markdown",
   "metadata": {
    "execution": {
     "iopub.execute_input": "2021-09-22T13:34:59.066395Z",
     "iopub.status.busy": "2021-09-22T13:34:59.066395Z",
     "iopub.status.idle": "2021-09-22T13:34:59.077393Z",
     "shell.execute_reply": "2021-09-22T13:34:59.076402Z",
     "shell.execute_reply.started": "2021-09-22T13:34:59.066395Z"
    }
   },
   "source": [
    "> feedback = (yield xxxx) template get the feedback from the caller and save it into feedback <br>\n",
    "> the caller can send back the feedback to generaor using 'send' <br>\n",
    "> NOTE: \"next(generator)\" is exactly same as \"generator.send(None)\" <br>"
   ]
  },
  {
   "cell_type": "markdown",
   "metadata": {},
   "source": [
    "### Simple Coroutine\n",
    "> coroutine which is alomost like generator but using feedback"
   ]
  },
  {
   "cell_type": "code",
   "execution_count": 23,
   "metadata": {
    "execution": {
     "iopub.execute_input": "2021-09-29T14:19:01.799674Z",
     "iopub.status.busy": "2021-09-29T14:19:01.798665Z",
     "iopub.status.idle": "2021-09-29T14:19:01.816664Z",
     "shell.execute_reply": "2021-09-29T14:19:01.815673Z",
     "shell.execute_reply.started": "2021-09-29T14:19:01.798665Z"
    },
    "tags": []
   },
   "outputs": [
    {
     "name": "stdout",
     "output_type": "stream",
     "text": [
      "bar\n"
     ]
    }
   ],
   "source": [
    "def foo():\n",
    "    msg = yield  # coroutine feature\n",
    "    yield msg    # generator feature\n",
    "\n",
    "coro = foo()\n",
    "\n",
    "next(coro)\n",
    "result = coro.send(\"bar\")\n",
    "print(result) "
   ]
  },
  {
   "cell_type": "markdown",
   "metadata": {},
   "source": [
    "### Another Simple Coroutine : Stop-control"
   ]
  },
  {
   "cell_type": "code",
   "execution_count": 24,
   "metadata": {
    "execution": {
     "iopub.execute_input": "2021-09-29T14:19:02.159081Z",
     "iopub.status.busy": "2021-09-29T14:19:02.158081Z",
     "iopub.status.idle": "2021-09-29T14:19:02.177067Z",
     "shell.execute_reply": "2021-09-29T14:19:02.176067Z",
     "shell.execute_reply.started": "2021-09-29T14:19:02.159081Z"
    },
    "tags": []
   },
   "outputs": [],
   "source": [
    "import random\n",
    "def magic_pot(start=1, end=1000):\n",
    "    while True:\n",
    "        stop = (yield random.randint(start, end))\n",
    "        print(\"stop %s\" % stop)\n",
    "        if stop is True:\n",
    "            yield \"magic pot stopped\"\n",
    "            break"
   ]
  },
  {
   "cell_type": "code",
   "execution_count": 25,
   "metadata": {
    "execution": {
     "iopub.execute_input": "2021-09-29T14:19:02.359083Z",
     "iopub.status.busy": "2021-09-29T14:19:02.358081Z",
     "iopub.status.idle": "2021-09-29T14:19:02.372069Z",
     "shell.execute_reply": "2021-09-29T14:19:02.371065Z",
     "shell.execute_reply.started": "2021-09-29T14:19:02.359083Z"
    },
    "tags": []
   },
   "outputs": [],
   "source": [
    "gen = magic_pot()"
   ]
  },
  {
   "cell_type": "code",
   "execution_count": 26,
   "metadata": {
    "execution": {
     "iopub.execute_input": "2021-09-29T14:19:02.555545Z",
     "iopub.status.busy": "2021-09-29T14:19:02.555545Z",
     "iopub.status.idle": "2021-09-29T14:19:02.567532Z",
     "shell.execute_reply": "2021-09-29T14:19:02.566540Z",
     "shell.execute_reply.started": "2021-09-29T14:19:02.555545Z"
    },
    "tags": []
   },
   "outputs": [
    {
     "name": "stdout",
     "output_type": "stream",
     "text": [
      "<generator object magic_pot at 0x000001D2FABF17C8>\n"
     ]
    }
   ],
   "source": [
    "print(gen)"
   ]
  },
  {
   "cell_type": "code",
   "execution_count": 27,
   "metadata": {
    "execution": {
     "iopub.execute_input": "2021-09-29T14:19:02.751530Z",
     "iopub.status.busy": "2021-09-29T14:19:02.750533Z",
     "iopub.status.idle": "2021-09-29T14:19:02.762535Z",
     "shell.execute_reply": "2021-09-29T14:19:02.761530Z",
     "shell.execute_reply.started": "2021-09-29T14:19:02.751530Z"
    },
    "tags": []
   },
   "outputs": [
    {
     "name": "stdout",
     "output_type": "stream",
     "text": [
      "287\n"
     ]
    }
   ],
   "source": [
    "print(next(gen))"
   ]
  },
  {
   "cell_type": "code",
   "execution_count": 28,
   "metadata": {
    "execution": {
     "iopub.execute_input": "2021-09-29T14:19:02.946546Z",
     "iopub.status.busy": "2021-09-29T14:19:02.946546Z",
     "iopub.status.idle": "2021-09-29T14:19:02.959530Z",
     "shell.execute_reply": "2021-09-29T14:19:02.958541Z",
     "shell.execute_reply.started": "2021-09-29T14:19:02.946546Z"
    },
    "tags": []
   },
   "outputs": [
    {
     "name": "stdout",
     "output_type": "stream",
     "text": [
      "second\n"
     ]
    }
   ],
   "source": [
    "print(\"second\")"
   ]
  },
  {
   "cell_type": "code",
   "execution_count": 29,
   "metadata": {
    "execution": {
     "iopub.execute_input": "2021-09-29T14:19:03.152530Z",
     "iopub.status.busy": "2021-09-29T14:19:03.151543Z",
     "iopub.status.idle": "2021-09-29T14:19:03.171542Z",
     "shell.execute_reply": "2021-09-29T14:19:03.170541Z",
     "shell.execute_reply.started": "2021-09-29T14:19:03.152530Z"
    },
    "tags": []
   },
   "outputs": [
    {
     "name": "stdout",
     "output_type": "stream",
     "text": [
      "stop False\n",
      "153\n"
     ]
    }
   ],
   "source": [
    "print(gen.send(False))  # input value for generator"
   ]
  },
  {
   "cell_type": "code",
   "execution_count": 30,
   "metadata": {
    "execution": {
     "iopub.execute_input": "2021-09-29T14:19:03.799627Z",
     "iopub.status.busy": "2021-09-29T14:19:03.799627Z",
     "iopub.status.idle": "2021-09-29T14:19:03.804627Z",
     "shell.execute_reply": "2021-09-29T14:19:03.803643Z",
     "shell.execute_reply.started": "2021-09-29T14:19:03.799627Z"
    },
    "tags": []
   },
   "outputs": [
    {
     "name": "stdout",
     "output_type": "stream",
     "text": [
      "stop True\n",
      "magic pot stopped\n"
     ]
    }
   ],
   "source": [
    "print(gen.send(True))  # input value for generator"
   ]
  },
  {
   "cell_type": "code",
   "execution_count": 31,
   "metadata": {
    "execution": {
     "iopub.execute_input": "2021-09-29T14:19:03.981627Z",
     "iopub.status.busy": "2021-09-29T14:19:03.981627Z",
     "iopub.status.idle": "2021-09-29T14:19:04.000630Z",
     "shell.execute_reply": "2021-09-29T14:19:03.999626Z",
     "shell.execute_reply.started": "2021-09-29T14:19:03.981627Z"
    },
    "tags": []
   },
   "outputs": [
    {
     "name": "stdout",
     "output_type": "stream",
     "text": [
      "iteration stopped\n"
     ]
    }
   ],
   "source": [
    "try:\n",
    "    print(next(gen))\n",
    "except StopIteration:\n",
    "    print('iteration stopped')"
   ]
  },
  {
   "cell_type": "markdown",
   "metadata": {},
   "source": [
    "### Another Simple Coroutine : Status Control\n",
    "- prime number generator, but you can set the starting number at any time"
   ]
  },
  {
   "cell_type": "code",
   "execution_count": 32,
   "metadata": {
    "execution": {
     "iopub.execute_input": "2021-09-29T14:19:04.363320Z",
     "iopub.status.busy": "2021-09-29T14:19:04.363320Z",
     "iopub.status.idle": "2021-09-29T14:19:04.377326Z",
     "shell.execute_reply": "2021-09-29T14:19:04.375325Z",
     "shell.execute_reply.started": "2021-09-29T14:19:04.363320Z"
    }
   },
   "outputs": [],
   "source": [
    "# normal python method which check whether the give value is prime or not\n",
    "def isPrime(n):\n",
    "    if n < 2 or n % 1 > 0:\n",
    "        return False\n",
    "    elif n == 2 or n == 3:\n",
    "        return True\n",
    "    for x in range(2, int(n**0.5) + 1):\n",
    "        if n % x == 0:\n",
    "            return False\n",
    "    return True"
   ]
  },
  {
   "cell_type": "code",
   "execution_count": 33,
   "metadata": {
    "execution": {
     "iopub.execute_input": "2021-09-29T14:19:04.592699Z",
     "iopub.status.busy": "2021-09-29T14:19:04.592699Z",
     "iopub.status.idle": "2021-09-29T14:19:04.601686Z",
     "shell.execute_reply": "2021-09-29T14:19:04.600684Z",
     "shell.execute_reply.started": "2021-09-29T14:19:04.592699Z"
    }
   },
   "outputs": [],
   "source": [
    "# prime generator\n",
    "def getPrimes():\n",
    "    value = 0\n",
    "    while True:\n",
    "        if isPrime(value):\n",
    "            i = yield value\n",
    "            if i is not None:\n",
    "                value = i\n",
    "        value += 1"
   ]
  },
  {
   "cell_type": "code",
   "execution_count": 34,
   "metadata": {
    "execution": {
     "iopub.execute_input": "2021-09-29T14:19:04.795072Z",
     "iopub.status.busy": "2021-09-29T14:19:04.794071Z",
     "iopub.status.idle": "2021-09-29T14:19:04.812073Z",
     "shell.execute_reply": "2021-09-29T14:19:04.811070Z",
     "shell.execute_reply.started": "2021-09-29T14:19:04.795072Z"
    }
   },
   "outputs": [],
   "source": [
    "primes = getPrimes()"
   ]
  },
  {
   "cell_type": "code",
   "execution_count": 35,
   "metadata": {
    "execution": {
     "iopub.execute_input": "2021-09-29T14:19:04.986072Z",
     "iopub.status.busy": "2021-09-29T14:19:04.986072Z",
     "iopub.status.idle": "2021-09-29T14:19:04.992074Z",
     "shell.execute_reply": "2021-09-29T14:19:04.991080Z",
     "shell.execute_reply.started": "2021-09-29T14:19:04.986072Z"
    }
   },
   "outputs": [
    {
     "data": {
      "text/plain": [
       "2"
      ]
     },
     "execution_count": 35,
     "metadata": {},
     "output_type": "execute_result"
    }
   ],
   "source": [
    "next(primes)"
   ]
  },
  {
   "cell_type": "code",
   "execution_count": 36,
   "metadata": {
    "execution": {
     "iopub.execute_input": "2021-09-29T14:19:05.180463Z",
     "iopub.status.busy": "2021-09-29T14:19:05.180463Z",
     "iopub.status.idle": "2021-09-29T14:19:05.189472Z",
     "shell.execute_reply": "2021-09-29T14:19:05.188477Z",
     "shell.execute_reply.started": "2021-09-29T14:19:05.180463Z"
    }
   },
   "outputs": [
    {
     "data": {
      "text/plain": [
       "3"
      ]
     },
     "execution_count": 36,
     "metadata": {},
     "output_type": "execute_result"
    }
   ],
   "source": [
    "next(primes)"
   ]
  },
  {
   "cell_type": "code",
   "execution_count": 37,
   "metadata": {
    "execution": {
     "iopub.execute_input": "2021-09-29T14:19:05.372462Z",
     "iopub.status.busy": "2021-09-29T14:19:05.372462Z",
     "iopub.status.idle": "2021-09-29T14:19:05.384479Z",
     "shell.execute_reply": "2021-09-29T14:19:05.383465Z",
     "shell.execute_reply.started": "2021-09-29T14:19:05.372462Z"
    }
   },
   "outputs": [
    {
     "data": {
      "text/plain": [
       "101"
      ]
     },
     "execution_count": 37,
     "metadata": {},
     "output_type": "execute_result"
    }
   ],
   "source": [
    "primes.send(100)"
   ]
  },
  {
   "cell_type": "code",
   "execution_count": 38,
   "metadata": {
    "execution": {
     "iopub.execute_input": "2021-09-29T14:19:05.579463Z",
     "iopub.status.busy": "2021-09-29T14:19:05.578468Z",
     "iopub.status.idle": "2021-09-29T14:19:05.594469Z",
     "shell.execute_reply": "2021-09-29T14:19:05.593472Z",
     "shell.execute_reply.started": "2021-09-29T14:19:05.579463Z"
    }
   },
   "outputs": [
    {
     "data": {
      "text/plain": [
       "103"
      ]
     },
     "execution_count": 38,
     "metadata": {},
     "output_type": "execute_result"
    }
   ],
   "source": [
    "next(primes)"
   ]
  },
  {
   "cell_type": "code",
   "execution_count": 39,
   "metadata": {
    "execution": {
     "iopub.execute_input": "2021-09-29T14:19:05.755464Z",
     "iopub.status.busy": "2021-09-29T14:19:05.755464Z",
     "iopub.status.idle": "2021-09-29T14:19:05.776462Z",
     "shell.execute_reply": "2021-09-29T14:19:05.773464Z",
     "shell.execute_reply.started": "2021-09-29T14:19:05.755464Z"
    }
   },
   "outputs": [
    {
     "data": {
      "text/plain": [
       "307"
      ]
     },
     "execution_count": 39,
     "metadata": {},
     "output_type": "execute_result"
    }
   ],
   "source": [
    "primes.send(300)"
   ]
  },
  {
   "cell_type": "code",
   "execution_count": 40,
   "metadata": {
    "execution": {
     "iopub.execute_input": "2021-09-29T14:19:05.920465Z",
     "iopub.status.busy": "2021-09-29T14:19:05.919465Z",
     "iopub.status.idle": "2021-09-29T14:19:05.941479Z",
     "shell.execute_reply": "2021-09-29T14:19:05.939472Z",
     "shell.execute_reply.started": "2021-09-29T14:19:05.920465Z"
    }
   },
   "outputs": [
    {
     "data": {
      "text/plain": [
       "311"
      ]
     },
     "execution_count": 40,
     "metadata": {},
     "output_type": "execute_result"
    }
   ],
   "source": [
    "next(primes)"
   ]
  },
  {
   "cell_type": "code",
   "execution_count": 41,
   "metadata": {
    "execution": {
     "iopub.execute_input": "2021-09-29T14:19:06.065478Z",
     "iopub.status.busy": "2021-09-29T14:19:06.064465Z",
     "iopub.status.idle": "2021-09-29T14:19:06.075462Z",
     "shell.execute_reply": "2021-09-29T14:19:06.074470Z",
     "shell.execute_reply.started": "2021-09-29T14:19:06.065478Z"
    }
   },
   "outputs": [],
   "source": [
    "primes.close()"
   ]
  },
  {
   "cell_type": "code",
   "execution_count": 42,
   "metadata": {
    "execution": {
     "iopub.execute_input": "2021-09-29T14:19:06.817995Z",
     "iopub.status.busy": "2021-09-29T14:19:06.816986Z",
     "iopub.status.idle": "2021-09-29T14:19:06.844982Z",
     "shell.execute_reply": "2021-09-29T14:19:06.842991Z",
     "shell.execute_reply.started": "2021-09-29T14:19:06.817995Z"
    }
   },
   "outputs": [
    {
     "ename": "ValueError",
     "evalue": "Too Large",
     "output_type": "error",
     "traceback": [
      "\u001b[1;31m---------------------------------------------------------------------------\u001b[0m",
      "\u001b[1;31mValueError\u001b[0m                                Traceback (most recent call last)",
      "\u001b[1;32m<ipython-input-42-b26d08b85f76>\u001b[0m in \u001b[0;36m<module>\u001b[1;34m\u001b[0m\n\u001b[1;32m----> 1\u001b[1;33m \u001b[0mprimes\u001b[0m\u001b[1;33m.\u001b[0m\u001b[0mthrow\u001b[0m\u001b[1;33m(\u001b[0m\u001b[0mValueError\u001b[0m\u001b[1;33m,\u001b[0m \u001b[1;34m\"Too Large\"\u001b[0m\u001b[1;33m)\u001b[0m\u001b[1;33m\u001b[0m\u001b[1;33m\u001b[0m\u001b[0m\n\u001b[0m",
      "\u001b[1;31mValueError\u001b[0m: Too Large"
     ]
    }
   ],
   "source": [
    "primes.throw(ValueError, \"Too Large\")"
   ]
  },
  {
   "cell_type": "markdown",
   "metadata": {},
   "source": [
    "## Generator Coroutine\n",
    "> coroutine which use '@asyncio.coroutine' decorator with 'yield from'"
   ]
  },
  {
   "cell_type": "code",
   "execution_count": 43,
   "metadata": {
    "execution": {
     "iopub.execute_input": "2021-09-29T14:19:10.697835Z",
     "iopub.status.busy": "2021-09-29T14:19:10.697835Z",
     "iopub.status.idle": "2021-09-29T14:19:11.566191Z",
     "shell.execute_reply": "2021-09-29T14:19:11.564200Z",
     "shell.execute_reply.started": "2021-09-29T14:19:10.697835Z"
    },
    "tags": []
   },
   "outputs": [
    {
     "name": "stdout",
     "output_type": "stream",
     "text": [
      "4\n"
     ]
    }
   ],
   "source": [
    "import asyncio\n",
    "import random\n",
    "\n",
    "@asyncio.coroutine\n",
    "def compute_coroutine(x):\n",
    "    yield from asyncio.sleep(random.random()) # yield from native coroutine\n",
    "    print(x * 2)\n",
    "\n",
    "# asyncio.run(compute_coroutine(2))\n",
    "await compute_coroutine(2)\n"
   ]
  },
  {
   "cell_type": "markdown",
   "metadata": {},
   "source": [
    "### (Native) Coroutine\n",
    "- async/await instead of '@asynio.coroutin'/'yield from'"
   ]
  },
  {
   "cell_type": "code",
   "execution_count": 44,
   "metadata": {
    "execution": {
     "iopub.execute_input": "2021-09-29T14:19:11.845207Z",
     "iopub.status.busy": "2021-09-29T14:19:11.845207Z",
     "iopub.status.idle": "2021-09-29T14:19:11.855195Z",
     "shell.execute_reply": "2021-09-29T14:19:11.854202Z",
     "shell.execute_reply.started": "2021-09-29T14:19:11.845207Z"
    },
    "tags": []
   },
   "outputs": [],
   "source": [
    "import asyncio\n",
    "\n",
    "async def f1():\n",
    "    print('before')\n",
    "    await asyncio.sleep(1)\n",
    "    print('after 1 sec')\n",
    "    "
   ]
  },
  {
   "cell_type": "code",
   "execution_count": 45,
   "metadata": {
    "execution": {
     "iopub.execute_input": "2021-09-29T14:19:12.472780Z",
     "iopub.status.busy": "2021-09-29T14:19:12.472780Z",
     "iopub.status.idle": "2021-09-29T14:19:13.498564Z",
     "shell.execute_reply": "2021-09-29T14:19:13.496574Z",
     "shell.execute_reply.started": "2021-09-29T14:19:12.472780Z"
    },
    "tags": []
   },
   "outputs": [
    {
     "name": "stdout",
     "output_type": "stream",
     "text": [
      "before\n",
      "after 1 sec\n"
     ]
    }
   ],
   "source": [
    "# asyncio.run(f1()) \n",
    "await f1()"
   ]
  },
  {
   "cell_type": "markdown",
   "metadata": {},
   "source": [
    "## Coroutine Event Loop Simplified (from ver 3.7)"
   ]
  },
  {
   "cell_type": "markdown",
   "metadata": {},
   "source": [
    "### Before 3.7"
   ]
  },
  {
   "cell_type": "code",
   "execution_count": 46,
   "metadata": {
    "execution": {
     "iopub.execute_input": "2021-09-29T14:19:14.913949Z",
     "iopub.status.busy": "2021-09-29T14:19:14.912957Z",
     "iopub.status.idle": "2021-09-29T14:19:14.930951Z",
     "shell.execute_reply": "2021-09-29T14:19:14.929950Z",
     "shell.execute_reply.started": "2021-09-29T14:19:14.913949Z"
    },
    "tags": []
   },
   "outputs": [
    {
     "name": "stdout",
     "output_type": "stream",
     "text": [
      "Running in foo\n",
      "Explicit context to bar\n",
      "Explicit context switch to foo again\n",
      "Implicit context switch back to bar\n"
     ]
    }
   ],
   "source": [
    "import asyncio\n",
    "\n",
    "\n",
    "async def foo():\n",
    "    print('Running in foo')\n",
    "    await asyncio.sleep(0)\n",
    "    print('Explicit context switch to foo again')\n",
    "\n",
    "\n",
    "async def bar():\n",
    "    print('Explicit context to bar')\n",
    "    await asyncio.sleep(0)\n",
    "    print('Implicit context switch back to bar')\n",
    "\n",
    "\n",
    "ioloop = asyncio.get_event_loop()\n",
    "tasks = [ioloop.create_task(foo()), ioloop.create_task(bar())]\n",
    "wait_tasks = asyncio.wait(tasks)\n",
    "\n",
    "#ioloop.run_until_complete(wait_tasks)\n",
    "#ioloop.close()"
   ]
  },
  {
   "cell_type": "code",
   "execution_count": 47,
   "metadata": {
    "execution": {
     "iopub.execute_input": "2021-09-29T14:19:15.505623Z",
     "iopub.status.busy": "2021-09-29T14:19:15.505623Z",
     "iopub.status.idle": "2021-09-29T14:19:15.517626Z",
     "shell.execute_reply": "2021-09-29T14:19:15.516634Z",
     "shell.execute_reply.started": "2021-09-29T14:19:15.505623Z"
    },
    "tags": []
   },
   "outputs": [
    {
     "name": "stdout",
     "output_type": "stream",
     "text": [
      "None\n"
     ]
    }
   ],
   "source": [
    "print(tasks[0].result())"
   ]
  },
  {
   "cell_type": "code",
   "execution_count": 48,
   "metadata": {
    "execution": {
     "iopub.execute_input": "2021-09-29T14:19:16.065732Z",
     "iopub.status.busy": "2021-09-29T14:19:16.064743Z",
     "iopub.status.idle": "2021-09-29T14:19:16.090733Z",
     "shell.execute_reply": "2021-09-29T14:19:16.088730Z",
     "shell.execute_reply.started": "2021-09-29T14:19:16.065732Z"
    },
    "tags": []
   },
   "outputs": [
    {
     "name": "stdout",
     "output_type": "stream",
     "text": [
      "Running in foo\n",
      "Explicit context to bar\n",
      "Explicit context switch to foo again\n",
      "Implicit context switch back to bar\n"
     ]
    },
    {
     "data": {
      "text/plain": [
       "[None, None]"
      ]
     },
     "execution_count": 48,
     "metadata": {},
     "output_type": "execute_result"
    }
   ],
   "source": [
    "import asyncio\n",
    "\n",
    "\n",
    "async def foo():\n",
    "    print('Running in foo')\n",
    "    await asyncio.sleep(0)\n",
    "    print('Explicit context switch to foo again')\n",
    "\n",
    "\n",
    "async def bar():\n",
    "    print('Explicit context to bar')\n",
    "    await asyncio.sleep(0)\n",
    "    print('Implicit context switch back to bar')\n",
    "\n",
    "\n",
    "async def main():\n",
    "    tasks = [foo(), bar()]\n",
    "    return await asyncio.gather(*tasks)\n",
    "\n",
    "\n",
    "#asyncio.run(main())\n",
    "await main()"
   ]
  },
  {
   "cell_type": "markdown",
   "metadata": {},
   "source": [
    "# Generator/Coroutine Summary"
   ]
  },
  {
   "cell_type": "markdown",
   "metadata": {},
   "source": [
    "<div class=\"alert alert-block alert-info\">\n",
    "    <b>Generator</b> <br>\n",
    "    - yield <br>\n",
    "    - yield from (ver 3.3)\n",
    "    <blockquote> bridge between caller & returning generator </blockquote> \n",
    "    <br>\n",
    "    <b> Coroutine</b>\n",
    "    <blockquote> similar to generator, but not just a producer but also data consumer</blockquote>\n",
    "    - asyncio (ver3.4)\n",
    "    <blockquote> coroutine was implmented using generator syntax <br>\n",
    "        ex) @asyncio.coroutine, yield from </blockquote> <br>\n",
    "    - 'async def'/'await' (ver 3.5)\n",
    "    <blockquote> new keyword 'async','await','@types.coroutine' are introduced <br>\n",
    "        async def = @types.coroutine = @asyncio.coroutine <br>\n",
    "        await = yield from </blockquote> <br>\n",
    "    - asyncio simpler syntax introduced (ver 3.7)\n",
    "    <blockquote> boiler-plate code for task creation & event loop handler are simplified </blockquote>\n",
    "</div>"
   ]
  },
  {
   "cell_type": "markdown",
   "metadata": {},
   "source": [
    "# [Reference] coroutine examples"
   ]
  },
  {
   "cell_type": "markdown",
   "metadata": {},
   "source": [
    "### synchronous example"
   ]
  },
  {
   "cell_type": "code",
   "execution_count": 49,
   "metadata": {
    "execution": {
     "iopub.execute_input": "2021-09-29T14:19:20.078776Z",
     "iopub.status.busy": "2021-09-29T14:19:20.077776Z",
     "iopub.status.idle": "2021-09-29T14:19:25.108913Z",
     "shell.execute_reply": "2021-09-29T14:19:25.107923Z",
     "shell.execute_reply.started": "2021-09-29T14:19:20.078776Z"
    }
   },
   "outputs": [
    {
     "name": "stdout",
     "output_type": "stream",
     "text": [
      "sync_task_1 start\n",
      "sync_task_1 sleeping for 3 secs\n",
      "sync_task_1 complete\n",
      "sync_task_2 start\n",
      "sync_task_2 sleeping for 2 secs\n",
      "sync_task_2 complete\n",
      "5.013146877288818\n"
     ]
    }
   ],
   "source": [
    "import time\n",
    "\n",
    "def sync_task_1():\n",
    "    print('sync_task_1 start')\n",
    "    print('sync_task_1 sleeping for 3 secs')\n",
    "    time.sleep(3)\n",
    "    print('sync_task_1 complete')\n",
    "    \n",
    "def sync_task_2():\n",
    "    print('sync_task_2 start')\n",
    "    print('sync_task_2 sleeping for 2 secs')\n",
    "    time.sleep(2)\n",
    "    print('sync_task_2 complete')\n",
    "    \n",
    "start = time.time()\n",
    "sync_task_1()\n",
    "sync_task_2()\n",
    "end = time.time()\n",
    "print(end-start)"
   ]
  },
  {
   "cell_type": "markdown",
   "metadata": {},
   "source": [
    "### asynchronous example - wrong"
   ]
  },
  {
   "cell_type": "code",
   "execution_count": 50,
   "metadata": {
    "execution": {
     "iopub.execute_input": "2021-09-29T14:19:25.110929Z",
     "iopub.status.busy": "2021-09-29T14:19:25.109942Z",
     "iopub.status.idle": "2021-09-29T14:19:30.147722Z",
     "shell.execute_reply": "2021-09-29T14:19:30.145711Z",
     "shell.execute_reply.started": "2021-09-29T14:19:25.110929Z"
    }
   },
   "outputs": [
    {
     "name": "stdout",
     "output_type": "stream",
     "text": [
      "sync_task_1 start\n",
      "sync_task_1 sleeping for 3 secs\n",
      "sync_task_1 complete\n",
      "sync_task_2 start\n",
      "sync_task_2 sleeping for 2 secs\n",
      "sync_task_2 complete\n",
      "5.01580810546875\n"
     ]
    }
   ],
   "source": [
    "import asyncio\n",
    "import time\n",
    "\n",
    "async def sync_task_1():\n",
    "    print('sync_task_1 start')\n",
    "    print('sync_task_1 sleeping for 3 secs')\n",
    "    await asyncio.sleep(3)\n",
    "    print('sync_task_1 complete')\n",
    "    \n",
    "async def sync_task_2():\n",
    "    print('sync_task_2 start')\n",
    "    print('sync_task_2 sleeping for 2 secs')\n",
    "    await asyncio.sleep(2)\n",
    "    print('sync_task_2 complete')\n",
    "    \n",
    "async def main():\n",
    "    start = time.time()\n",
    "    await sync_task_1()\n",
    "    await sync_task_2()\n",
    "    end = time.time()\n",
    "    print(end-start)\n",
    "    \n",
    "#asyncio.run(main())\n",
    "await main()"
   ]
  },
  {
   "cell_type": "markdown",
   "metadata": {},
   "source": [
    "### asynchronous example - correct"
   ]
  },
  {
   "cell_type": "code",
   "execution_count": 51,
   "metadata": {
    "execution": {
     "iopub.execute_input": "2021-09-29T14:19:30.148713Z",
     "iopub.status.busy": "2021-09-29T14:19:30.148713Z",
     "iopub.status.idle": "2021-09-29T14:19:33.179440Z",
     "shell.execute_reply": "2021-09-29T14:19:33.178446Z",
     "shell.execute_reply.started": "2021-09-29T14:19:30.148713Z"
    }
   },
   "outputs": [
    {
     "name": "stdout",
     "output_type": "stream",
     "text": [
      "sync_task_1 start\n",
      "sync_task_1 sleeping for 3 secs\n",
      "sync_task_2 start\n",
      "sync_task_2 sleeping for 2 secs\n",
      "sync_task_2 complete\n",
      "sync_task_1 complete\n",
      "3.0097382068634033\n"
     ]
    }
   ],
   "source": [
    "import asyncio\n",
    "import time\n",
    "\n",
    "async def sync_task_1():\n",
    "    print('sync_task_1 start')\n",
    "    print('sync_task_1 sleeping for 3 secs')\n",
    "    await asyncio.sleep(3)\n",
    "    print('sync_task_1 complete')\n",
    "    \n",
    "async def sync_task_2():\n",
    "    print('sync_task_2 start')\n",
    "    print('sync_task_2 sleeping for 2 secs')\n",
    "    await asyncio.sleep(2)\n",
    "    print('sync_task_2 complete')\n",
    "    \n",
    "async def main():\n",
    "    start = time.time()\n",
    "    task1 =  asyncio.create_task(sync_task_1())\n",
    "    task2 =  asyncio.create_task(sync_task_2())\n",
    "    await task1\n",
    "    await task2\n",
    "    end = time.time()\n",
    "    print(end-start)\n",
    "    \n",
    "#asyncio.run(main())\n",
    "await main()"
   ]
  },
  {
   "cell_type": "markdown",
   "metadata": {},
   "source": [
    "### asynchronous example - correct & simple"
   ]
  },
  {
   "cell_type": "code",
   "execution_count": 52,
   "metadata": {
    "execution": {
     "iopub.execute_input": "2021-09-29T14:19:33.181454Z",
     "iopub.status.busy": "2021-09-29T14:19:33.181454Z",
     "iopub.status.idle": "2021-09-29T14:19:36.215354Z",
     "shell.execute_reply": "2021-09-29T14:19:36.212352Z",
     "shell.execute_reply.started": "2021-09-29T14:19:33.181454Z"
    }
   },
   "outputs": [
    {
     "name": "stdout",
     "output_type": "stream",
     "text": [
      "sync_task_1 start\n",
      "sync_task_1 sleeping for 3 secs\n",
      "sync_task_2 start\n",
      "sync_task_2 sleeping for 2 secs\n",
      "sync_task_2 complete\n",
      "sync_task_1 complete\n",
      "-8.093514680862427\n"
     ]
    }
   ],
   "source": [
    "import asyncio\n",
    "import time\n",
    "\n",
    "async def sync_task_1():\n",
    "    print('sync_task_1 start')\n",
    "    print('sync_task_1 sleeping for 3 secs')\n",
    "    await asyncio.sleep(3)\n",
    "    print('sync_task_1 complete')\n",
    "    \n",
    "async def sync_task_2():\n",
    "    print('sync_task_2 start')\n",
    "    print('sync_task_2 sleeping for 2 secs')\n",
    "    await asyncio.sleep(2)\n",
    "    print('sync_task_2 complete')\n",
    "    \n",
    "async def main():\n",
    "    start = time.time()\n",
    "    await asyncio.gather(sync_task_1(), sync_task_2())\n",
    "    print(end-start)\n",
    "    \n",
    "#asyncio.run(main())\n",
    "await main()"
   ]
  },
  {
   "cell_type": "markdown",
   "metadata": {},
   "source": [
    "### asynchronous example - correct & simple & returning value"
   ]
  },
  {
   "cell_type": "code",
   "execution_count": 53,
   "metadata": {
    "execution": {
     "iopub.execute_input": "2021-09-29T14:19:36.216356Z",
     "iopub.status.busy": "2021-09-29T14:19:36.216356Z",
     "iopub.status.idle": "2021-09-29T14:19:36.231352Z",
     "shell.execute_reply": "2021-09-29T14:19:36.228358Z",
     "shell.execute_reply.started": "2021-09-29T14:19:36.216356Z"
    }
   },
   "outputs": [],
   "source": [
    "import asyncio\n",
    "\n",
    "async def factorial(name, number):\n",
    "    f = 1\n",
    "    if number < 0:\n",
    "        raise ValueError('Exception')\n",
    "    for i in range(2, number+1):\n",
    "        print(f\"Task {name}: Compute factoral({i})...\")\n",
    "        await asyncio.sleep(1)\n",
    "        f *= i\n",
    "    print(f\"Task {name}: factorial({number}) = {f}\")\n",
    "    return f"
   ]
  },
  {
   "cell_type": "code",
   "execution_count": 54,
   "metadata": {
    "execution": {
     "iopub.execute_input": "2021-09-29T14:19:36.233353Z",
     "iopub.status.busy": "2021-09-29T14:19:36.233353Z",
     "iopub.status.idle": "2021-09-29T14:19:39.290020Z",
     "shell.execute_reply": "2021-09-29T14:19:39.289027Z",
     "shell.execute_reply.started": "2021-09-29T14:19:36.233353Z"
    }
   },
   "outputs": [
    {
     "name": "stdout",
     "output_type": "stream",
     "text": [
      "Task A: Compute factoral(2)...\n",
      "Task B: Compute factoral(2)...\n",
      "Task C: Compute factoral(2)...\n",
      "Task A: factorial(2) = 2\n",
      "Task B: Compute factoral(3)...\n",
      "Task C: Compute factoral(3)...\n",
      "Task B: factorial(3) = 6\n",
      "Task C: Compute factoral(4)...\n",
      "Task C: factorial(4) = 24\n",
      "[2, 6, 24]\n"
     ]
    }
   ],
   "source": [
    "async def main_normal():\n",
    "    result = await asyncio.gather(factorial(\"A\",2), factorial(\"B\",3), factorial(\"C\",4))\n",
    "    print(result)\n",
    "\n",
    "#asyncio.run(main_normal())\n",
    "await main_normal()"
   ]
  },
  {
   "cell_type": "code",
   "execution_count": 55,
   "metadata": {
    "execution": {
     "iopub.execute_input": "2021-09-29T14:19:39.292034Z",
     "iopub.status.busy": "2021-09-29T14:19:39.291018Z",
     "iopub.status.idle": "2021-09-29T14:19:39.321020Z",
     "shell.execute_reply": "2021-09-29T14:19:39.319019Z",
     "shell.execute_reply.started": "2021-09-29T14:19:39.292034Z"
    }
   },
   "outputs": [
    {
     "name": "stdout",
     "output_type": "stream",
     "text": [
      "Task A: Compute factoral(2)...\n",
      "Task B: Compute factoral(2)...\n"
     ]
    },
    {
     "ename": "ValueError",
     "evalue": "Exception",
     "output_type": "error",
     "traceback": [
      "\u001b[1;31m---------------------------------------------------------------------------\u001b[0m",
      "\u001b[1;31mValueError\u001b[0m                                Traceback (most recent call last)",
      "\u001b[1;32m<ipython-input-55-4912ba4ed79b>\u001b[0m in \u001b[0;36masync-def-wrapper\u001b[1;34m()\u001b[0m\n",
      "\u001b[1;32m<ipython-input-55-4912ba4ed79b>\u001b[0m in \u001b[0;36mmain_broken\u001b[1;34m()\u001b[0m\n\u001b[0;32m      3\u001b[0m     \u001b[0mprint\u001b[0m\u001b[1;33m(\u001b[0m\u001b[0mresult\u001b[0m\u001b[1;33m)\u001b[0m\u001b[1;33m\u001b[0m\u001b[1;33m\u001b[0m\u001b[0m\n\u001b[0;32m      4\u001b[0m \u001b[1;33m\u001b[0m\u001b[0m\n\u001b[1;32m----> 5\u001b[1;33m \u001b[1;31m#asyncio.run(main_broken())\u001b[0m\u001b[1;33m\u001b[0m\u001b[1;33m\u001b[0m\u001b[1;33m\u001b[0m\u001b[0m\n\u001b[0m\u001b[0;32m      6\u001b[0m \u001b[1;32mawait\u001b[0m \u001b[0mmain_broken\u001b[0m\u001b[1;33m(\u001b[0m\u001b[1;33m)\u001b[0m\u001b[1;33m\u001b[0m\u001b[1;33m\u001b[0m\u001b[0m\n",
      "\u001b[1;32m<ipython-input-53-0bb63c4c2df0>\u001b[0m in \u001b[0;36mfactorial\u001b[1;34m(name, number)\u001b[0m\n\u001b[0;32m      4\u001b[0m     \u001b[0mf\u001b[0m \u001b[1;33m=\u001b[0m \u001b[1;36m1\u001b[0m\u001b[1;33m\u001b[0m\u001b[1;33m\u001b[0m\u001b[0m\n\u001b[0;32m      5\u001b[0m     \u001b[1;32mif\u001b[0m \u001b[0mnumber\u001b[0m \u001b[1;33m<\u001b[0m \u001b[1;36m0\u001b[0m\u001b[1;33m:\u001b[0m\u001b[1;33m\u001b[0m\u001b[1;33m\u001b[0m\u001b[0m\n\u001b[1;32m----> 6\u001b[1;33m         \u001b[1;32mraise\u001b[0m \u001b[0mValueError\u001b[0m\u001b[1;33m(\u001b[0m\u001b[1;34m'Exception'\u001b[0m\u001b[1;33m)\u001b[0m\u001b[1;33m\u001b[0m\u001b[1;33m\u001b[0m\u001b[0m\n\u001b[0m\u001b[0;32m      7\u001b[0m     \u001b[1;32mfor\u001b[0m \u001b[0mi\u001b[0m \u001b[1;32min\u001b[0m \u001b[0mrange\u001b[0m\u001b[1;33m(\u001b[0m\u001b[1;36m2\u001b[0m\u001b[1;33m,\u001b[0m \u001b[0mnumber\u001b[0m\u001b[1;33m+\u001b[0m\u001b[1;36m1\u001b[0m\u001b[1;33m)\u001b[0m\u001b[1;33m:\u001b[0m\u001b[1;33m\u001b[0m\u001b[1;33m\u001b[0m\u001b[0m\n\u001b[0;32m      8\u001b[0m         \u001b[0mprint\u001b[0m\u001b[1;33m(\u001b[0m\u001b[1;34mf\"Task {name}: Compute factoral({i})...\"\u001b[0m\u001b[1;33m)\u001b[0m\u001b[1;33m\u001b[0m\u001b[1;33m\u001b[0m\u001b[0m\n",
      "\u001b[1;31mValueError\u001b[0m: Exception"
     ]
    }
   ],
   "source": [
    "async def main_broken():\n",
    "    result = await asyncio.gather(factorial(\"A\",2), factorial(\"B\",3), factorial(\"C\",-1))\n",
    "    print(result)\n",
    "    \n",
    "#asyncio.run(main_broken())\n",
    "await main_broken()"
   ]
  },
  {
   "cell_type": "code",
   "execution_count": null,
   "metadata": {
    "execution": {
     "iopub.status.busy": "2021-09-29T14:19:39.322025Z",
     "iopub.status.idle": "2021-09-29T14:19:39.323025Z",
     "shell.execute_reply": "2021-09-29T14:19:39.322025Z"
    }
   },
   "outputs": [
    {
     "name": "stdout",
     "output_type": "stream",
     "text": [
      "Task B: Compute factoral(3)...\n",
      "Task A: factorial(2) = 2\n",
      "Task B: factorial(3) = 6\n"
     ]
    }
   ],
   "source": [
    "async def main_resilent():\n",
    "    result = await asyncio.gather(factorial(\"A\",2), factorial(\"B\",3), factorial(\"C\",-1), return_exceptions=True)\n",
    "    print(result)\n",
    "    \n",
    "#asyncio.run(main_resilent())\n",
    "await main_resilent()"
   ]
  }
 ],
 "metadata": {
  "kernelspec": {
   "display_name": "Python 3",
   "language": "python",
   "name": "python3"
  },
  "language_info": {
   "codemirror_mode": {
    "name": "ipython",
    "version": 3
   },
   "file_extension": ".py",
   "mimetype": "text/x-python",
   "name": "python",
   "nbconvert_exporter": "python",
   "pygments_lexer": "ipython3",
   "version": "3.7.8"
  }
 },
 "nbformat": 4,
 "nbformat_minor": 4
}
